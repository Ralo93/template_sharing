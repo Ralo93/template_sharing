{
 "cells": [
  {
   "cell_type": "code",
   "execution_count": 2,
   "id": "5e50cd42-39f4-44b5-8926-40eba1f90f36",
   "metadata": {},
   "outputs": [],
   "source": [
    "import pandas as pd\n",
    "import os\n",
    "import numpy as np\n",
    "import sys\n",
    "sys.path.append('..')"
   ]
  },
  {
   "cell_type": "code",
   "execution_count": 5,
   "id": "0c236a90-2028-47f4-8450-d2b427032267",
   "metadata": {},
   "outputs": [],
   "source": [
    "data = pd.read_csv(r'../../data/interim/promotion/train_clean.csv')"
   ]
  },
  {
   "cell_type": "code",
   "execution_count": 7,
   "id": "c9746b4e-d7b1-4b1d-a9a8-47fee0ecfc5d",
   "metadata": {},
   "outputs": [
    {
     "data": {
      "text/plain": [
       "Index(['Division', 'Qualification', 'Gender', 'Channel_of_Recruitment',\n",
       "       'Trainings_Attended', 'Year_of_birth', 'Last_performance_score',\n",
       "       'Year_of_recruitment', 'Targets_met', 'Previous_Award',\n",
       "       'Training_score_average', 'State_Of_Origin', 'Foreign_schooled',\n",
       "       'Marital_Status', 'Previous_IntraDepartmental_Movement',\n",
       "       'No_of_previous_employers', 'Promoted_or_Not'],\n",
       "      dtype='object')"
      ]
     },
     "execution_count": 7,
     "metadata": {},
     "output_type": "execute_result"
    }
   ],
   "source": [
    "data.columns"
   ]
  },
  {
   "cell_type": "code",
   "execution_count": 9,
   "id": "8ade25df-1961-4cd1-8288-7d019804fd9e",
   "metadata": {},
   "outputs": [],
   "source": [
    "x = data.drop(columns=['Promoted_or_Not'])\n",
    "y = data.Promoted_or_Not"
   ]
  },
  {
   "cell_type": "code",
   "execution_count": 11,
   "id": "0243ff84-fb14-4ecb-a5cf-953277152a4b",
   "metadata": {},
   "outputs": [],
   "source": [
    "numerical_df = data.select_dtypes(exclude=['object'])\n",
    "categorical_df = data.select_dtypes(include=['object'])"
   ]
  },
  {
   "cell_type": "code",
   "execution_count": 13,
   "id": "ca1d5990-7836-4ff9-9cdf-689ddc2445c7",
   "metadata": {},
   "outputs": [],
   "source": [
    "# Select categorical columns with relatively low cardinality (convenient but arbitrary)\n",
    "categorical_cols = [cname for cname in x.columns if x[cname].nunique() < 800 and x[cname].dtype == \"object\"]\n",
    "\n",
    "# Select numerical columns\n",
    "numerical_cols = [cname for cname in x.columns if x[cname].dtype in ['int64', 'float64']]"
   ]
  },
  {
   "cell_type": "code",
   "execution_count": 15,
   "id": "712173a0-97d3-4475-b68f-a303af290e3c",
   "metadata": {},
   "outputs": [],
   "source": [
    "from sklearn.model_selection import train_test_split\n",
    "from sklearn.compose import ColumnTransformer\n",
    "from sklearn.pipeline import Pipeline\n",
    "from sklearn.impute import SimpleImputer\n",
    "from sklearn.preprocessing import OneHotEncoder,OrdinalEncoder,StandardScaler, MinMaxScaler\n",
    "\n",
    "#train_test_split\n",
    "X_train, X_test, y_train, y_test = train_test_split(x, y, test_size=0.3, random_state=42)"
   ]
  },
  {
   "cell_type": "code",
   "execution_count": 17,
   "id": "ca8125c8-9a46-4a44-b21d-d48ce2f8478d",
   "metadata": {},
   "outputs": [],
   "source": [
    "from category_encoders import BaseNEncoder"
   ]
  },
  {
   "cell_type": "code",
   "execution_count": 19,
   "id": "dddedeba-4ffe-4e0e-a8b8-ce15fe7864a8",
   "metadata": {},
   "outputs": [
    {
     "ename": "ModuleNotFoundError",
     "evalue": "No module named 'src'",
     "output_type": "error",
     "traceback": [
      "\u001b[1;31m---------------------------------------------------------------------------\u001b[0m",
      "\u001b[1;31mModuleNotFoundError\u001b[0m                       Traceback (most recent call last)",
      "Cell \u001b[1;32mIn[19], line 1\u001b[0m\n\u001b[1;32m----> 1\u001b[0m \u001b[38;5;28;01mfrom\u001b[39;00m \u001b[38;5;21;01msrc\u001b[39;00m\u001b[38;5;21;01m.\u001b[39;00m\u001b[38;5;21;01meda_first\u001b[39;00m \u001b[38;5;28;01mimport\u001b[39;00m summarize_dataframe\n\u001b[0;32m      2\u001b[0m summarize_dataframe(X_train)\n",
      "\u001b[1;31mModuleNotFoundError\u001b[0m: No module named 'src'"
     ]
    }
   ],
   "source": [
    "from src.eda_first import summarize_dataframe\n",
    "summarize_dataframe(X_train)"
   ]
  },
  {
   "cell_type": "code",
   "execution_count": 58,
   "id": "2b23853d-af0d-4884-8fe9-1a8264a81b0a",
   "metadata": {},
   "outputs": [
    {
     "data": {
      "text/plain": [
       "No_of_previous_employers\n",
       "1              18064\n",
       "0              12693\n",
       "2               1816\n",
       "3               1524\n",
       "4               1266\n",
       "5                893\n",
       "More than 5      377\n",
       "Name: count, dtype: int64"
      ]
     },
     "execution_count": 58,
     "metadata": {},
     "output_type": "execute_result"
    }
   ],
   "source": [
    "data.No_of_previous_employers.value_counts()"
   ]
  },
  {
   "cell_type": "code",
   "execution_count": 21,
   "id": "ffc2a3a0-b3d2-49f0-90c6-4474abe506e9",
   "metadata": {},
   "outputs": [],
   "source": [
    "#create numerical transformer\n",
    "\n",
    "\n",
    "numerical_transformer = Pipeline([('imputer', SimpleImputer(strategy='mean')), \n",
    "                                  ('scaler', StandardScaler()) ])\n",
    "\n",
    "#create categorical transformer\n",
    "categorical_transformer = Pipeline(steps=[ ('imputer', SimpleImputer(strategy='most_frequent')),\n",
    "                                            ('onehot', OneHotEncoder(handle_unknown='ignore'))\n",
    "                                            ])\n",
    "\n",
    "base_encoder_columns = ['Division', 'Qualification', 'Channel_of_Recruitment', 'State_Of_Origin', 'Foreign_schooled', 'Marital_Status', 'Previous_IntraDepartmental_Movement', 'No_of_previous_employers', 'Gender']\n",
    "base_encoder = Pipeline(steps=[\n",
    "    ('base_encoder', BaseNEncoder(cols=base_encoder_columns, base=3))\n",
    "])"
   ]
  },
  {
   "cell_type": "code",
   "execution_count": 23,
   "id": "69e4328c-afab-40e1-a982-c79bb93326ca",
   "metadata": {},
   "outputs": [],
   "source": [
    "# Combine the transformations using ColumnTransformer\n",
    "preprocessor = ColumnTransformer(transformers=[\n",
    "    ('base_name', base_encoder, base_encoder_columns),  # TargetEncoder for 'town'\n",
    "    ('num', numerical_transformer, numerical_cols)])"
   ]
  },
  {
   "cell_type": "code",
   "execution_count": 25,
   "id": "04e67dd3-a1f2-4e22-8b3d-d3a35c4f9227",
   "metadata": {},
   "outputs": [
    {
     "name": "stdout",
     "output_type": "stream",
     "text": [
      "Accuracy for Random Forest Model: 0.9224749772520473\n",
      "Classification Report:\n",
      "               precision    recall  f1-score   support\n",
      "\n",
      "           0       0.92      1.00      0.96     10039\n",
      "           1       0.98      0.11      0.19       951\n",
      "\n",
      "    accuracy                           0.92     10990\n",
      "   macro avg       0.95      0.55      0.58     10990\n",
      "weighted avg       0.93      0.92      0.89     10990\n",
      "\n"
     ]
    }
   ],
   "source": [
    "from sklearn.ensemble import RandomForestClassifier\n",
    "from sklearn.metrics import accuracy_score, classification_report\n",
    "\n",
    "# Create a RandomForestClassifier model\n",
    "rf = RandomForestClassifier(n_estimators=150, random_state=42, max_depth=4)\n",
    "\n",
    "# Model pipeline\n",
    "rf_pipe = Pipeline(steps=[('preprocessor', preprocessor),\n",
    "                          ('random_forest', rf)\n",
    "                         ])\n",
    "\n",
    "# Preprocessing of training data, fit model \n",
    "rf_pipe.fit(X_train, y_train)\n",
    "\n",
    "# Preprocessing of validation data, get predictions\n",
    "rf_preds = rf_pipe.predict(X_test)\n",
    "\n",
    "# Evaluate the model\n",
    "accuracy = accuracy_score(y_test, rf_preds)\n",
    "print('Accuracy for Random Forest Model:', accuracy)\n",
    "\n",
    "# Detailed classification report\n",
    "print('Classification Report:\\n', classification_report(y_test, rf_preds))\n"
   ]
  },
  {
   "cell_type": "code",
   "execution_count": null,
   "id": "17c7ee6b-4d40-4c75-8673-fb68368f83b0",
   "metadata": {},
   "outputs": [],
   "source": []
  },
  {
   "cell_type": "code",
   "execution_count": null,
   "id": "b8315b74-c8b7-46a7-8bf9-e92323217a32",
   "metadata": {},
   "outputs": [],
   "source": []
  }
 ],
 "metadata": {
  "kernelspec": {
   "display_name": "Python 3 (ipykernel)",
   "language": "python",
   "name": "python3"
  },
  "language_info": {
   "codemirror_mode": {
    "name": "ipython",
    "version": 3
   },
   "file_extension": ".py",
   "mimetype": "text/x-python",
   "name": "python",
   "nbconvert_exporter": "python",
   "pygments_lexer": "ipython3",
   "version": "3.12.4"
  }
 },
 "nbformat": 4,
 "nbformat_minor": 5
}
