{
 "cells": [
  {
   "cell_type": "code",
   "execution_count": 52,
   "id": "a3b5412a-12a5-4cff-8d9b-e14c594fc71b",
   "metadata": {},
   "outputs": [],
   "source": [
    "import pandas as pd\n",
    "import os\n",
    "import numpy as np\n",
    "import sys\n",
    "sys.path.append('..')"
   ]
  },
  {
   "cell_type": "code",
   "execution_count": 54,
   "id": "ab39e0ef-04e4-4904-b2e9-6a5d849ee65d",
   "metadata": {},
   "outputs": [],
   "source": [
    "#os.chdir(r'C:\\Users\\Administrator\\Desktop\\raphi_other\\repositories\\template_project\\src')"
   ]
  },
  {
   "cell_type": "code",
   "execution_count": 56,
   "id": "fe19197a-3c80-4f43-afbe-416e2f7fe4d1",
   "metadata": {},
   "outputs": [],
   "source": [
    "data = pd.read_csv(r'../data/raw/data/houses_data.csv')"
   ]
  },
  {
   "cell_type": "code",
   "execution_count": 58,
   "id": "6e3466b0-0f36-45c5-b951-935844244383",
   "metadata": {},
   "outputs": [],
   "source": [
    "#from eda_first import reduce_mem_usage\n",
    "#data = reduce_mem_usage(data)"
   ]
  },
  {
   "cell_type": "code",
   "execution_count": 60,
   "id": "6beea2bc-1ca0-48ed-b2ac-4349a4dc9597",
   "metadata": {},
   "outputs": [
    {
     "data": {
      "text/plain": [
       "Index(['bedrooms', 'bathrooms', 'toilets', 'parking_space', 'title', 'town',\n",
       "       'state', 'price'],\n",
       "      dtype='object')"
      ]
     },
     "execution_count": 60,
     "metadata": {},
     "output_type": "execute_result"
    }
   ],
   "source": [
    "data.columns"
   ]
  },
  {
   "cell_type": "code",
   "execution_count": 62,
   "id": "650455d1-3ec0-4669-988d-939461e45047",
   "metadata": {},
   "outputs": [
    {
     "data": {
      "text/plain": [
       "(24326, 8)"
      ]
     },
     "execution_count": 62,
     "metadata": {},
     "output_type": "execute_result"
    }
   ],
   "source": [
    "data.shape"
   ]
  },
  {
   "cell_type": "code",
   "execution_count": 64,
   "id": "cc110f8f-db7f-4365-8c4c-eaabd00b0113",
   "metadata": {},
   "outputs": [
    {
     "data": {
      "text/html": [
       "<div>\n",
       "<style scoped>\n",
       "    .dataframe tbody tr th:only-of-type {\n",
       "        vertical-align: middle;\n",
       "    }\n",
       "\n",
       "    .dataframe tbody tr th {\n",
       "        vertical-align: top;\n",
       "    }\n",
       "\n",
       "    .dataframe thead th {\n",
       "        text-align: right;\n",
       "    }\n",
       "</style>\n",
       "<table border=\"1\" class=\"dataframe\">\n",
       "  <thead>\n",
       "    <tr style=\"text-align: right;\">\n",
       "      <th></th>\n",
       "      <th>bedrooms</th>\n",
       "      <th>bathrooms</th>\n",
       "      <th>toilets</th>\n",
       "      <th>parking_space</th>\n",
       "      <th>title</th>\n",
       "      <th>town</th>\n",
       "      <th>state</th>\n",
       "      <th>price</th>\n",
       "    </tr>\n",
       "  </thead>\n",
       "  <tbody>\n",
       "    <tr>\n",
       "      <th>0</th>\n",
       "      <td>6.0000</td>\n",
       "      <td>5.0000</td>\n",
       "      <td>5.0000</td>\n",
       "      <td>4.0000</td>\n",
       "      <td>Detached Duplex</td>\n",
       "      <td>Mabushi</td>\n",
       "      <td>Abuja</td>\n",
       "      <td>450000000.0000</td>\n",
       "    </tr>\n",
       "    <tr>\n",
       "      <th>1</th>\n",
       "      <td>4.0000</td>\n",
       "      <td>5.0000</td>\n",
       "      <td>5.0000</td>\n",
       "      <td>4.0000</td>\n",
       "      <td>Terraced Duplexes</td>\n",
       "      <td>Katampe</td>\n",
       "      <td>Abuja</td>\n",
       "      <td>800000000.0000</td>\n",
       "    </tr>\n",
       "    <tr>\n",
       "      <th>2</th>\n",
       "      <td>4.0000</td>\n",
       "      <td>5.0000</td>\n",
       "      <td>5.0000</td>\n",
       "      <td>4.0000</td>\n",
       "      <td>Detached Duplex</td>\n",
       "      <td>Lekki</td>\n",
       "      <td>Lagos</td>\n",
       "      <td>120000000.0000</td>\n",
       "    </tr>\n",
       "    <tr>\n",
       "      <th>3</th>\n",
       "      <td>4.0000</td>\n",
       "      <td>4.0000</td>\n",
       "      <td>5.0000</td>\n",
       "      <td>6.0000</td>\n",
       "      <td>Detached Duplex</td>\n",
       "      <td>Ajah</td>\n",
       "      <td>Lagos</td>\n",
       "      <td>40000000.0000</td>\n",
       "    </tr>\n",
       "    <tr>\n",
       "      <th>4</th>\n",
       "      <td>4.0000</td>\n",
       "      <td>4.0000</td>\n",
       "      <td>5.0000</td>\n",
       "      <td>2.0000</td>\n",
       "      <td>Semi Detached Duplex</td>\n",
       "      <td>Lekki</td>\n",
       "      <td>Lagos</td>\n",
       "      <td>75000000.0000</td>\n",
       "    </tr>\n",
       "  </tbody>\n",
       "</table>\n",
       "</div>"
      ],
      "text/plain": [
       "   bedrooms  bathrooms  toilets  parking_space                 title     town  \\\n",
       "0    6.0000     5.0000   5.0000         4.0000       Detached Duplex  Mabushi   \n",
       "1    4.0000     5.0000   5.0000         4.0000     Terraced Duplexes  Katampe   \n",
       "2    4.0000     5.0000   5.0000         4.0000       Detached Duplex    Lekki   \n",
       "3    4.0000     4.0000   5.0000         6.0000       Detached Duplex     Ajah   \n",
       "4    4.0000     4.0000   5.0000         2.0000  Semi Detached Duplex    Lekki   \n",
       "\n",
       "   state          price  \n",
       "0  Abuja 450000000.0000  \n",
       "1  Abuja 800000000.0000  \n",
       "2  Lagos 120000000.0000  \n",
       "3  Lagos  40000000.0000  \n",
       "4  Lagos  75000000.0000  "
      ]
     },
     "execution_count": 64,
     "metadata": {},
     "output_type": "execute_result"
    }
   ],
   "source": [
    "data.head()"
   ]
  },
  {
   "cell_type": "code",
   "execution_count": 66,
   "id": "786671bc-3a18-4d03-aab5-d56aef2eb291",
   "metadata": {},
   "outputs": [],
   "source": [
    "pd.set_option('display.float_format', '{:.4f}'.format)"
   ]
  },
  {
   "cell_type": "code",
   "execution_count": 68,
   "id": "8273dc9c-8376-4fd3-b3f2-14c57d29d2c2",
   "metadata": {},
   "outputs": [
    {
     "data": {
      "text/html": [
       "<div>\n",
       "<style scoped>\n",
       "    .dataframe tbody tr th:only-of-type {\n",
       "        vertical-align: middle;\n",
       "    }\n",
       "\n",
       "    .dataframe tbody tr th {\n",
       "        vertical-align: top;\n",
       "    }\n",
       "\n",
       "    .dataframe thead th {\n",
       "        text-align: right;\n",
       "    }\n",
       "</style>\n",
       "<table border=\"1\" class=\"dataframe\">\n",
       "  <thead>\n",
       "    <tr style=\"text-align: right;\">\n",
       "      <th></th>\n",
       "      <th>bedrooms</th>\n",
       "      <th>bathrooms</th>\n",
       "      <th>toilets</th>\n",
       "      <th>parking_space</th>\n",
       "      <th>price</th>\n",
       "    </tr>\n",
       "  </thead>\n",
       "  <tbody>\n",
       "    <tr>\n",
       "      <th>count</th>\n",
       "      <td>24326.0000</td>\n",
       "      <td>24326.0000</td>\n",
       "      <td>24326.0000</td>\n",
       "      <td>24326.0000</td>\n",
       "      <td>24326.0000</td>\n",
       "    </tr>\n",
       "    <tr>\n",
       "      <th>mean</th>\n",
       "      <td>4.3388</td>\n",
       "      <td>4.6008</td>\n",
       "      <td>5.1764</td>\n",
       "      <td>4.0417</td>\n",
       "      <td>301380208.4724</td>\n",
       "    </tr>\n",
       "    <tr>\n",
       "      <th>std</th>\n",
       "      <td>1.1385</td>\n",
       "      <td>1.1632</td>\n",
       "      <td>1.2263</td>\n",
       "      <td>1.3999</td>\n",
       "      <td>12204027269.3809</td>\n",
       "    </tr>\n",
       "    <tr>\n",
       "      <th>min</th>\n",
       "      <td>1.0000</td>\n",
       "      <td>1.0000</td>\n",
       "      <td>1.0000</td>\n",
       "      <td>1.0000</td>\n",
       "      <td>90000.0000</td>\n",
       "    </tr>\n",
       "    <tr>\n",
       "      <th>25%</th>\n",
       "      <td>4.0000</td>\n",
       "      <td>4.0000</td>\n",
       "      <td>5.0000</td>\n",
       "      <td>4.0000</td>\n",
       "      <td>52000000.0000</td>\n",
       "    </tr>\n",
       "    <tr>\n",
       "      <th>50%</th>\n",
       "      <td>4.0000</td>\n",
       "      <td>5.0000</td>\n",
       "      <td>5.0000</td>\n",
       "      <td>4.0000</td>\n",
       "      <td>85000000.0000</td>\n",
       "    </tr>\n",
       "    <tr>\n",
       "      <th>75%</th>\n",
       "      <td>5.0000</td>\n",
       "      <td>5.0000</td>\n",
       "      <td>6.0000</td>\n",
       "      <td>4.0000</td>\n",
       "      <td>160000000.0000</td>\n",
       "    </tr>\n",
       "    <tr>\n",
       "      <th>max</th>\n",
       "      <td>9.0000</td>\n",
       "      <td>9.0000</td>\n",
       "      <td>9.0000</td>\n",
       "      <td>9.0000</td>\n",
       "      <td>1800000000000.0000</td>\n",
       "    </tr>\n",
       "  </tbody>\n",
       "</table>\n",
       "</div>"
      ],
      "text/plain": [
       "        bedrooms  bathrooms    toilets  parking_space              price\n",
       "count 24326.0000 24326.0000 24326.0000     24326.0000         24326.0000\n",
       "mean      4.3388     4.6008     5.1764         4.0417     301380208.4724\n",
       "std       1.1385     1.1632     1.2263         1.3999   12204027269.3809\n",
       "min       1.0000     1.0000     1.0000         1.0000         90000.0000\n",
       "25%       4.0000     4.0000     5.0000         4.0000      52000000.0000\n",
       "50%       4.0000     5.0000     5.0000         4.0000      85000000.0000\n",
       "75%       5.0000     5.0000     6.0000         4.0000     160000000.0000\n",
       "max       9.0000     9.0000     9.0000         9.0000 1800000000000.0000"
      ]
     },
     "execution_count": 68,
     "metadata": {},
     "output_type": "execute_result"
    }
   ],
   "source": [
    "data.describe()"
   ]
  },
  {
   "cell_type": "code",
   "execution_count": 70,
   "id": "dfedb6ab-34cd-4c3a-81da-656556acd729",
   "metadata": {},
   "outputs": [
    {
     "name": "stdout",
     "output_type": "stream",
     "text": [
      "600000000.0\n",
      "(24326, 8)\n",
      "(23088, 8)\n"
     ]
    }
   ],
   "source": [
    "pct = np.percentile(data.loc[:, 'price'].fillna(np.mean(data.loc[:, 'price'])), 95)\n",
    "print(pct)\n",
    "print(data.shape)\n",
    "data = data.loc[data.loc[:, 'price'] < pct]\n",
    "print(data.shape)"
   ]
  },
  {
   "cell_type": "code",
   "execution_count": 72,
   "id": "e1f0636f-2641-4fac-adf1-b4adbbe950a2",
   "metadata": {},
   "outputs": [
    {
     "data": {
      "text/plain": [
       "array([False, False, False, False, False, False, False, False])"
      ]
     },
     "execution_count": 72,
     "metadata": {},
     "output_type": "execute_result"
    }
   ],
   "source": [
    "data.columns.isnull()"
   ]
  },
  {
   "cell_type": "code",
   "execution_count": 74,
   "id": "8cee01fc-4306-4c2b-afb8-207279158ccc",
   "metadata": {},
   "outputs": [
    {
     "data": {
      "text/html": [
       "<div>\n",
       "<style scoped>\n",
       "    .dataframe tbody tr th:only-of-type {\n",
       "        vertical-align: middle;\n",
       "    }\n",
       "\n",
       "    .dataframe tbody tr th {\n",
       "        vertical-align: top;\n",
       "    }\n",
       "\n",
       "    .dataframe thead th {\n",
       "        text-align: right;\n",
       "    }\n",
       "</style>\n",
       "<table border=\"1\" class=\"dataframe\">\n",
       "  <thead>\n",
       "    <tr style=\"text-align: right;\">\n",
       "      <th></th>\n",
       "      <th>Column</th>\n",
       "      <th>Data Type</th>\n",
       "      <th>Unique Values</th>\n",
       "      <th>Missing Values</th>\n",
       "      <th>Sample Unique Values</th>\n",
       "    </tr>\n",
       "  </thead>\n",
       "  <tbody>\n",
       "    <tr>\n",
       "      <th>0</th>\n",
       "      <td>bedrooms</td>\n",
       "      <td>float64</td>\n",
       "      <td>9</td>\n",
       "      <td>0</td>\n",
       "      <td>[6.0, 4.0, 5.0, 2.0, 1.0]</td>\n",
       "    </tr>\n",
       "    <tr>\n",
       "      <th>1</th>\n",
       "      <td>bathrooms</td>\n",
       "      <td>float64</td>\n",
       "      <td>9</td>\n",
       "      <td>0</td>\n",
       "      <td>[5.0, 4.0, 2.0, 1.0, 6.0]</td>\n",
       "    </tr>\n",
       "    <tr>\n",
       "      <th>2</th>\n",
       "      <td>toilets</td>\n",
       "      <td>float64</td>\n",
       "      <td>9</td>\n",
       "      <td>0</td>\n",
       "      <td>[5.0, 6.0, 3.0, 1.0, 7.0]</td>\n",
       "    </tr>\n",
       "    <tr>\n",
       "      <th>3</th>\n",
       "      <td>parking_space</td>\n",
       "      <td>float64</td>\n",
       "      <td>9</td>\n",
       "      <td>0</td>\n",
       "      <td>[4.0, 6.0, 2.0, 1.0, 5.0]</td>\n",
       "    </tr>\n",
       "    <tr>\n",
       "      <th>4</th>\n",
       "      <td>title</td>\n",
       "      <td>object</td>\n",
       "      <td>7</td>\n",
       "      <td>0</td>\n",
       "      <td>[Detached Duplex, Semi Detached Duplex, Detach...</td>\n",
       "    </tr>\n",
       "    <tr>\n",
       "      <th>5</th>\n",
       "      <td>town</td>\n",
       "      <td>object</td>\n",
       "      <td>189</td>\n",
       "      <td>0</td>\n",
       "      <td>[Mabushi, Lekki, Ajah, Epe, Lokogoma District]</td>\n",
       "    </tr>\n",
       "    <tr>\n",
       "      <th>6</th>\n",
       "      <td>state</td>\n",
       "      <td>object</td>\n",
       "      <td>25</td>\n",
       "      <td>0</td>\n",
       "      <td>[Abuja, Lagos, Edo, Ogun, Oyo]</td>\n",
       "    </tr>\n",
       "    <tr>\n",
       "      <th>7</th>\n",
       "      <td>price</td>\n",
       "      <td>float64</td>\n",
       "      <td>450</td>\n",
       "      <td>0</td>\n",
       "      <td>[450000000.0, 120000000.0, 40000000.0, 7500000...</td>\n",
       "    </tr>\n",
       "  </tbody>\n",
       "</table>\n",
       "</div>"
      ],
      "text/plain": [
       "          Column Data Type  Unique Values  Missing Values  \\\n",
       "0       bedrooms   float64              9               0   \n",
       "1      bathrooms   float64              9               0   \n",
       "2        toilets   float64              9               0   \n",
       "3  parking_space   float64              9               0   \n",
       "4          title    object              7               0   \n",
       "5           town    object            189               0   \n",
       "6          state    object             25               0   \n",
       "7          price   float64            450               0   \n",
       "\n",
       "                                Sample Unique Values  \n",
       "0                          [6.0, 4.0, 5.0, 2.0, 1.0]  \n",
       "1                          [5.0, 4.0, 2.0, 1.0, 6.0]  \n",
       "2                          [5.0, 6.0, 3.0, 1.0, 7.0]  \n",
       "3                          [4.0, 6.0, 2.0, 1.0, 5.0]  \n",
       "4  [Detached Duplex, Semi Detached Duplex, Detach...  \n",
       "5     [Mabushi, Lekki, Ajah, Epe, Lokogoma District]  \n",
       "6                     [Abuja, Lagos, Edo, Ogun, Oyo]  \n",
       "7  [450000000.0, 120000000.0, 40000000.0, 7500000...  "
      ]
     },
     "execution_count": 74,
     "metadata": {},
     "output_type": "execute_result"
    }
   ],
   "source": [
    "from src.eda_first import summarize_dataframe\n",
    "summarize_dataframe(data)"
   ]
  },
  {
   "cell_type": "code",
   "execution_count": 76,
   "id": "53652a14-034f-46e9-98d5-d8ebe52e1aac",
   "metadata": {},
   "outputs": [],
   "source": [
    "data.to_csv('../data/interim/house_data.csv', index=False)"
   ]
  },
  {
   "cell_type": "code",
   "execution_count": null,
   "id": "926cca95-6e02-4906-b13f-39be0051ca81",
   "metadata": {},
   "outputs": [],
   "source": []
  }
 ],
 "metadata": {
  "kernelspec": {
   "display_name": "template",
   "language": "python",
   "name": "template"
  },
  "language_info": {
   "codemirror_mode": {
    "name": "ipython",
    "version": 3
   },
   "file_extension": ".py",
   "mimetype": "text/x-python",
   "name": "python",
   "nbconvert_exporter": "python",
   "pygments_lexer": "ipython3",
   "version": "3.12.5"
  }
 },
 "nbformat": 4,
 "nbformat_minor": 5
}
