{
 "cells": [
  {
   "cell_type": "code",
   "execution_count": 201,
   "id": "a3b5412a-12a5-4cff-8d9b-e14c594fc71b",
   "metadata": {},
   "outputs": [],
   "source": [
    "import pandas as pd\n",
    "import os\n",
    "import numpy as np\n",
    "import sys\n",
    "sys.path.append('..')"
   ]
  },
  {
   "cell_type": "code",
   "execution_count": 203,
   "id": "ab39e0ef-04e4-4904-b2e9-6a5d849ee65d",
   "metadata": {},
   "outputs": [],
   "source": [
    "#os.chdir(r'C:\\Users\\Administrator\\Desktop\\raphi_other\\repositories\\template_project\\src')"
   ]
  },
  {
   "cell_type": "code",
   "execution_count": 204,
   "id": "fe19197a-3c80-4f43-afbe-416e2f7fe4d1",
   "metadata": {},
   "outputs": [],
   "source": [
    "data = pd.read_csv(r'../data/raw/data/scout_data/Case_Study_Data.csv', delimiter=';')"
   ]
  },
  {
   "cell_type": "code",
   "execution_count": 205,
   "id": "6e3466b0-0f36-45c5-b951-935844244383",
   "metadata": {},
   "outputs": [],
   "source": [
    "#from eda_first import reduce_mem_usage\n",
    "#data = reduce_mem_usage(data)"
   ]
  },
  {
   "cell_type": "code",
   "execution_count": 207,
   "id": "6beea2bc-1ca0-48ed-b2ac-4349a4dc9597",
   "metadata": {},
   "outputs": [
    {
     "data": {
      "text/plain": [
       "Index(['article_id', 'product_tier', 'make_name', 'price', 'first_zip_digit',\n",
       "       'first_registration_year', 'created_date', 'deleted_date',\n",
       "       'search_views', 'detail_views', 'stock_days', 'ctr'],\n",
       "      dtype='object')"
      ]
     },
     "execution_count": 207,
     "metadata": {},
     "output_type": "execute_result"
    }
   ],
   "source": [
    "data.columns"
   ]
  },
  {
   "cell_type": "code",
   "execution_count": 210,
   "id": "650455d1-3ec0-4669-988d-939461e45047",
   "metadata": {},
   "outputs": [
    {
     "data": {
      "text/plain": [
       "(78321, 12)"
      ]
     },
     "execution_count": 210,
     "metadata": {},
     "output_type": "execute_result"
    }
   ],
   "source": [
    "data.shape"
   ]
  },
  {
   "cell_type": "code",
   "execution_count": 212,
   "id": "cc110f8f-db7f-4365-8c4c-eaabd00b0113",
   "metadata": {},
   "outputs": [
    {
     "data": {
      "text/html": [
       "<div>\n",
       "<style scoped>\n",
       "    .dataframe tbody tr th:only-of-type {\n",
       "        vertical-align: middle;\n",
       "    }\n",
       "\n",
       "    .dataframe tbody tr th {\n",
       "        vertical-align: top;\n",
       "    }\n",
       "\n",
       "    .dataframe thead th {\n",
       "        text-align: right;\n",
       "    }\n",
       "</style>\n",
       "<table border=\"1\" class=\"dataframe\">\n",
       "  <thead>\n",
       "    <tr style=\"text-align: right;\">\n",
       "      <th></th>\n",
       "      <th>article_id</th>\n",
       "      <th>product_tier</th>\n",
       "      <th>make_name</th>\n",
       "      <th>price</th>\n",
       "      <th>first_zip_digit</th>\n",
       "      <th>first_registration_year</th>\n",
       "      <th>created_date</th>\n",
       "      <th>deleted_date</th>\n",
       "      <th>search_views</th>\n",
       "      <th>detail_views</th>\n",
       "      <th>stock_days</th>\n",
       "      <th>ctr</th>\n",
       "    </tr>\n",
       "  </thead>\n",
       "  <tbody>\n",
       "    <tr>\n",
       "      <th>0</th>\n",
       "      <td>350625839</td>\n",
       "      <td>Basic</td>\n",
       "      <td>Mitsubishi</td>\n",
       "      <td>16750</td>\n",
       "      <td>5</td>\n",
       "      <td>2013</td>\n",
       "      <td>24.07.18</td>\n",
       "      <td>24.08.18</td>\n",
       "      <td>3091.0000</td>\n",
       "      <td>123.0000</td>\n",
       "      <td>30</td>\n",
       "      <td>0.03780329990294403</td>\n",
       "    </tr>\n",
       "    <tr>\n",
       "      <th>1</th>\n",
       "      <td>354412280</td>\n",
       "      <td>Basic</td>\n",
       "      <td>Mercedes-Benz</td>\n",
       "      <td>35950</td>\n",
       "      <td>4</td>\n",
       "      <td>2015</td>\n",
       "      <td>16.08.18</td>\n",
       "      <td>07.10.18</td>\n",
       "      <td>3283.0000</td>\n",
       "      <td>223.0000</td>\n",
       "      <td>52</td>\n",
       "      <td>0.06792567773378008</td>\n",
       "    </tr>\n",
       "    <tr>\n",
       "      <th>2</th>\n",
       "      <td>349572992</td>\n",
       "      <td>Basic</td>\n",
       "      <td>Mercedes-Benz</td>\n",
       "      <td>11950</td>\n",
       "      <td>3</td>\n",
       "      <td>1998</td>\n",
       "      <td>16.07.18</td>\n",
       "      <td>05.09.18</td>\n",
       "      <td>3247.0000</td>\n",
       "      <td>265.0000</td>\n",
       "      <td>51</td>\n",
       "      <td>0.0816137973514013</td>\n",
       "    </tr>\n",
       "    <tr>\n",
       "      <th>3</th>\n",
       "      <td>350266763</td>\n",
       "      <td>Basic</td>\n",
       "      <td>Ford</td>\n",
       "      <td>1750</td>\n",
       "      <td>6</td>\n",
       "      <td>2003</td>\n",
       "      <td>20.07.18</td>\n",
       "      <td>29.10.18</td>\n",
       "      <td>1856.0000</td>\n",
       "      <td>26.0000</td>\n",
       "      <td>101</td>\n",
       "      <td>0.014008620689655173</td>\n",
       "    </tr>\n",
       "    <tr>\n",
       "      <th>4</th>\n",
       "      <td>355688985</td>\n",
       "      <td>Basic</td>\n",
       "      <td>Mercedes-Benz</td>\n",
       "      <td>26500</td>\n",
       "      <td>3</td>\n",
       "      <td>2014</td>\n",
       "      <td>28.08.18</td>\n",
       "      <td>08.09.18</td>\n",
       "      <td>490.0000</td>\n",
       "      <td>20.0000</td>\n",
       "      <td>12</td>\n",
       "      <td>0.04081632653061224</td>\n",
       "    </tr>\n",
       "  </tbody>\n",
       "</table>\n",
       "</div>"
      ],
      "text/plain": [
       "   article_id product_tier      make_name  price  first_zip_digit  \\\n",
       "0   350625839        Basic     Mitsubishi  16750                5   \n",
       "1   354412280        Basic  Mercedes-Benz  35950                4   \n",
       "2   349572992        Basic  Mercedes-Benz  11950                3   \n",
       "3   350266763        Basic           Ford   1750                6   \n",
       "4   355688985        Basic  Mercedes-Benz  26500                3   \n",
       "\n",
       "   first_registration_year created_date deleted_date  search_views  \\\n",
       "0                     2013     24.07.18     24.08.18     3091.0000   \n",
       "1                     2015     16.08.18     07.10.18     3283.0000   \n",
       "2                     1998     16.07.18     05.09.18     3247.0000   \n",
       "3                     2003     20.07.18     29.10.18     1856.0000   \n",
       "4                     2014     28.08.18     08.09.18      490.0000   \n",
       "\n",
       "   detail_views  stock_days                   ctr  \n",
       "0      123.0000          30   0.03780329990294403  \n",
       "1      223.0000          52   0.06792567773378008  \n",
       "2      265.0000          51    0.0816137973514013  \n",
       "3       26.0000         101  0.014008620689655173  \n",
       "4       20.0000          12   0.04081632653061224  "
      ]
     },
     "execution_count": 212,
     "metadata": {},
     "output_type": "execute_result"
    }
   ],
   "source": [
    "data.head()"
   ]
  },
  {
   "cell_type": "code",
   "execution_count": 215,
   "id": "786671bc-3a18-4d03-aab5-d56aef2eb291",
   "metadata": {},
   "outputs": [],
   "source": [
    "pd.set_option('display.float_format', '{:.4f}'.format)"
   ]
  },
  {
   "cell_type": "code",
   "execution_count": 217,
   "id": "8273dc9c-8376-4fd3-b3f2-14c57d29d2c2",
   "metadata": {},
   "outputs": [
    {
     "data": {
      "text/html": [
       "<div>\n",
       "<style scoped>\n",
       "    .dataframe tbody tr th:only-of-type {\n",
       "        vertical-align: middle;\n",
       "    }\n",
       "\n",
       "    .dataframe tbody tr th {\n",
       "        vertical-align: top;\n",
       "    }\n",
       "\n",
       "    .dataframe thead th {\n",
       "        text-align: right;\n",
       "    }\n",
       "</style>\n",
       "<table border=\"1\" class=\"dataframe\">\n",
       "  <thead>\n",
       "    <tr style=\"text-align: right;\">\n",
       "      <th></th>\n",
       "      <th>article_id</th>\n",
       "      <th>price</th>\n",
       "      <th>first_zip_digit</th>\n",
       "      <th>first_registration_year</th>\n",
       "      <th>search_views</th>\n",
       "      <th>detail_views</th>\n",
       "      <th>stock_days</th>\n",
       "    </tr>\n",
       "  </thead>\n",
       "  <tbody>\n",
       "    <tr>\n",
       "      <th>count</th>\n",
       "      <td>78321.0000</td>\n",
       "      <td>78321.0000</td>\n",
       "      <td>78321.0000</td>\n",
       "      <td>78321.0000</td>\n",
       "      <td>78311.0000</td>\n",
       "      <td>78311.0000</td>\n",
       "      <td>78321.0000</td>\n",
       "    </tr>\n",
       "    <tr>\n",
       "      <th>mean</th>\n",
       "      <td>357486886.4943</td>\n",
       "      <td>15067.6553</td>\n",
       "      <td>4.6321</td>\n",
       "      <td>2011.0895</td>\n",
       "      <td>2297.5025</td>\n",
       "      <td>93.4699</td>\n",
       "      <td>35.9863</td>\n",
       "    </tr>\n",
       "    <tr>\n",
       "      <th>std</th>\n",
       "      <td>5076572.0239</td>\n",
       "      <td>16374.4976</td>\n",
       "      <td>2.3543</td>\n",
       "      <td>6.5384</td>\n",
       "      <td>6339.0344</td>\n",
       "      <td>228.0256</td>\n",
       "      <td>32.2148</td>\n",
       "    </tr>\n",
       "    <tr>\n",
       "      <th>min</th>\n",
       "      <td>347232386.0000</td>\n",
       "      <td>1.0000</td>\n",
       "      <td>1.0000</td>\n",
       "      <td>1924.0000</td>\n",
       "      <td>0.0000</td>\n",
       "      <td>0.0000</td>\n",
       "      <td>-3.0000</td>\n",
       "    </tr>\n",
       "    <tr>\n",
       "      <th>25%</th>\n",
       "      <td>353638688.0000</td>\n",
       "      <td>5750.0000</td>\n",
       "      <td>3.0000</td>\n",
       "      <td>2008.0000</td>\n",
       "      <td>367.0000</td>\n",
       "      <td>13.0000</td>\n",
       "      <td>10.0000</td>\n",
       "    </tr>\n",
       "    <tr>\n",
       "      <th>50%</th>\n",
       "      <td>358547952.0000</td>\n",
       "      <td>10900.0000</td>\n",
       "      <td>5.0000</td>\n",
       "      <td>2013.0000</td>\n",
       "      <td>920.0000</td>\n",
       "      <td>36.0000</td>\n",
       "      <td>25.0000</td>\n",
       "    </tr>\n",
       "    <tr>\n",
       "      <th>75%</th>\n",
       "      <td>361481657.0000</td>\n",
       "      <td>18890.0000</td>\n",
       "      <td>7.0000</td>\n",
       "      <td>2015.0000</td>\n",
       "      <td>2234.0000</td>\n",
       "      <td>94.0000</td>\n",
       "      <td>55.0000</td>\n",
       "    </tr>\n",
       "    <tr>\n",
       "      <th>max</th>\n",
       "      <td>364703971.0000</td>\n",
       "      <td>249888.0000</td>\n",
       "      <td>9.0000</td>\n",
       "      <td>2106.0000</td>\n",
       "      <td>608754.0000</td>\n",
       "      <td>13926.0000</td>\n",
       "      <td>127.0000</td>\n",
       "    </tr>\n",
       "  </tbody>\n",
       "</table>\n",
       "</div>"
      ],
      "text/plain": [
       "          article_id       price  first_zip_digit  first_registration_year  \\\n",
       "count     78321.0000  78321.0000       78321.0000               78321.0000   \n",
       "mean  357486886.4943  15067.6553           4.6321                2011.0895   \n",
       "std     5076572.0239  16374.4976           2.3543                   6.5384   \n",
       "min   347232386.0000      1.0000           1.0000                1924.0000   \n",
       "25%   353638688.0000   5750.0000           3.0000                2008.0000   \n",
       "50%   358547952.0000  10900.0000           5.0000                2013.0000   \n",
       "75%   361481657.0000  18890.0000           7.0000                2015.0000   \n",
       "max   364703971.0000 249888.0000           9.0000                2106.0000   \n",
       "\n",
       "       search_views  detail_views  stock_days  \n",
       "count    78311.0000    78311.0000  78321.0000  \n",
       "mean      2297.5025       93.4699     35.9863  \n",
       "std       6339.0344      228.0256     32.2148  \n",
       "min          0.0000        0.0000     -3.0000  \n",
       "25%        367.0000       13.0000     10.0000  \n",
       "50%        920.0000       36.0000     25.0000  \n",
       "75%       2234.0000       94.0000     55.0000  \n",
       "max     608754.0000    13926.0000    127.0000  "
      ]
     },
     "execution_count": 217,
     "metadata": {},
     "output_type": "execute_result"
    }
   ],
   "source": [
    "data.describe()"
   ]
  },
  {
   "cell_type": "code",
   "execution_count": 219,
   "id": "dfedb6ab-34cd-4c3a-81da-656556acd729",
   "metadata": {},
   "outputs": [
    {
     "name": "stdout",
     "output_type": "stream",
     "text": [
      "7915.0\n",
      "(78321, 12)\n",
      "(74394, 12)\n"
     ]
    }
   ],
   "source": [
    "pct = np.percentile(data.loc[:, 'search_views'].fillna(np.mean(data.loc[:, 'search_views'])), 95)\n",
    "print(pct)\n",
    "print(data.shape)\n",
    "data = data.loc[data.loc[:, 'search_views'] < pct]\n",
    "print(data.shape)"
   ]
  },
  {
   "cell_type": "code",
   "execution_count": 221,
   "id": "3c7d5663-cc60-4c53-9882-eb3f2b569194",
   "metadata": {},
   "outputs": [
    {
     "name": "stdout",
     "output_type": "stream",
     "text": [
      "224.0\n",
      "(74394, 12)\n",
      "(70624, 12)\n"
     ]
    }
   ],
   "source": [
    "pct = np.percentile(data.loc[:, 'detail_views'].fillna(np.mean(data.loc[:, 'detail_views'])), 95)\n",
    "print(pct)\n",
    "print(data.shape)\n",
    "data = data.loc[data.loc[:, 'detail_views'] < pct]\n",
    "print(data.shape)"
   ]
  },
  {
   "cell_type": "code",
   "execution_count": null,
   "id": "939f1f24-4e4d-49d5-b83f-4a20301ded28",
   "metadata": {},
   "outputs": [],
   "source": []
  },
  {
   "cell_type": "markdown",
   "id": "2d36ab3c-0543-4d75-9f39-cb7b0b4a0757",
   "metadata": {},
   "source": [
    "# DROP COLUMNS WHICH DONT MAKE SENSE!"
   ]
  },
  {
   "cell_type": "code",
   "execution_count": 225,
   "id": "6d67007f-34ee-4bdf-bef3-1bf78c43774d",
   "metadata": {},
   "outputs": [
    {
     "name": "stderr",
     "output_type": "stream",
     "text": [
      "C:\\Users\\Administrator\\AppData\\Local\\Temp\\ipykernel_1104\\2928096309.py:3: UserWarning: Could not infer format, so each element will be parsed individually, falling back to `dateutil`. To ensure parsing is consistent and as-expected, please specify a format.\n",
      "  lambda _: pd.to_datetime(_))\n",
      "C:\\Users\\Administrator\\AppData\\Local\\Temp\\ipykernel_1104\\2928096309.py:3: UserWarning: Could not infer format, so each element will be parsed individually, falling back to `dateutil`. To ensure parsing is consistent and as-expected, please specify a format.\n",
      "  lambda _: pd.to_datetime(_))\n"
     ]
    }
   ],
   "source": [
    "#convert created_date and deleted_date to datetime.\n",
    "data[['created_date','deleted_date']] = data[['created_date','deleted_date']].apply(\n",
    "    lambda _: pd.to_datetime(_))\n",
    "\n",
    "#create the live_days column.\n",
    "data['live_days'] = (data['deleted_date'] - data['created_date']).dt.days"
   ]
  },
  {
   "cell_type": "code",
   "execution_count": 227,
   "id": "464041f1-50a5-4bd2-bb02-089bf6ad8ca9",
   "metadata": {},
   "outputs": [],
   "source": [
    "#drop all cars with first_registration_year of more than 2022\n",
    "data = data[data['first_registration_year'] <= 2024]\n",
    "\n",
    "#drop all columns with negative live days. (since you cannot have a listing deleted before it is created)\n",
    "data = data[data['live_days'] >= 0]\n",
    "\n",
    "#drop all negative stock days\n",
    "data = data[data['stock_days'] >= 0]\n",
    "\n",
    "#drop all cars with price less than 100 euros\n",
    "data = data[data.price > 100]"
   ]
  },
  {
   "cell_type": "code",
   "execution_count": 229,
   "id": "9f0d9fb4-faae-4656-ae02-cde6232259fc",
   "metadata": {},
   "outputs": [],
   "source": [
    "columns_to_drop = ['deleted_date', 'created_date', 'first_registration_year', 'article_id', 'ctr']\n",
    "data = data.drop(columns=columns_to_drop)"
   ]
  },
  {
   "cell_type": "code",
   "execution_count": 231,
   "id": "e1f0636f-2641-4fac-adf1-b4adbbe950a2",
   "metadata": {},
   "outputs": [
    {
     "data": {
      "text/plain": [
       "array([False, False, False, False, False, False, False, False])"
      ]
     },
     "execution_count": 231,
     "metadata": {},
     "output_type": "execute_result"
    }
   ],
   "source": [
    "data.columns.isnull()"
   ]
  },
  {
   "cell_type": "code",
   "execution_count": 233,
   "id": "08f68454-cf2f-4d37-a5dd-0c2d573b8a39",
   "metadata": {},
   "outputs": [
    {
     "data": {
      "text/plain": [
       "(48808, 8)"
      ]
     },
     "execution_count": 233,
     "metadata": {},
     "output_type": "execute_result"
    }
   ],
   "source": [
    "data.shape"
   ]
  },
  {
   "cell_type": "code",
   "execution_count": 235,
   "id": "8cee01fc-4306-4c2b-afb8-207279158ccc",
   "metadata": {},
   "outputs": [
    {
     "data": {
      "text/html": [
       "<div>\n",
       "<style scoped>\n",
       "    .dataframe tbody tr th:only-of-type {\n",
       "        vertical-align: middle;\n",
       "    }\n",
       "\n",
       "    .dataframe tbody tr th {\n",
       "        vertical-align: top;\n",
       "    }\n",
       "\n",
       "    .dataframe thead th {\n",
       "        text-align: right;\n",
       "    }\n",
       "</style>\n",
       "<table border=\"1\" class=\"dataframe\">\n",
       "  <thead>\n",
       "    <tr style=\"text-align: right;\">\n",
       "      <th></th>\n",
       "      <th>Column</th>\n",
       "      <th>Data Type</th>\n",
       "      <th>Unique Values</th>\n",
       "      <th>Missing Values</th>\n",
       "      <th>Sample Unique Values</th>\n",
       "    </tr>\n",
       "  </thead>\n",
       "  <tbody>\n",
       "    <tr>\n",
       "      <th>0</th>\n",
       "      <td>product_tier</td>\n",
       "      <td>object</td>\n",
       "      <td>3</td>\n",
       "      <td>0</td>\n",
       "      <td>[Basic, Premium, Plus]</td>\n",
       "    </tr>\n",
       "    <tr>\n",
       "      <th>1</th>\n",
       "      <td>make_name</td>\n",
       "      <td>object</td>\n",
       "      <td>81</td>\n",
       "      <td>0</td>\n",
       "      <td>[Mitsubishi, Ford, Volkswagen, Fiat, Renault]</td>\n",
       "    </tr>\n",
       "    <tr>\n",
       "      <th>2</th>\n",
       "      <td>price</td>\n",
       "      <td>int64</td>\n",
       "      <td>4663</td>\n",
       "      <td>0</td>\n",
       "      <td>[16750, 1750, 24890, 2850, 23740]</td>\n",
       "    </tr>\n",
       "    <tr>\n",
       "      <th>3</th>\n",
       "      <td>first_zip_digit</td>\n",
       "      <td>int64</td>\n",
       "      <td>9</td>\n",
       "      <td>0</td>\n",
       "      <td>[5, 6, 7, 2, 3]</td>\n",
       "    </tr>\n",
       "    <tr>\n",
       "      <th>4</th>\n",
       "      <td>search_views</td>\n",
       "      <td>float64</td>\n",
       "      <td>5677</td>\n",
       "      <td>0</td>\n",
       "      <td>[3091.0, 1856.0, 125.0, 172.0, 1499.0]</td>\n",
       "    </tr>\n",
       "    <tr>\n",
       "      <th>5</th>\n",
       "      <td>detail_views</td>\n",
       "      <td>float64</td>\n",
       "      <td>224</td>\n",
       "      <td>0</td>\n",
       "      <td>[123.0, 26.0, 6.0, 4.0, 99.0]</td>\n",
       "    </tr>\n",
       "    <tr>\n",
       "      <th>6</th>\n",
       "      <td>stock_days</td>\n",
       "      <td>int64</td>\n",
       "      <td>128</td>\n",
       "      <td>0</td>\n",
       "      <td>[30, 101, 2, 1, 87]</td>\n",
       "    </tr>\n",
       "    <tr>\n",
       "      <th>7</th>\n",
       "      <td>live_days</td>\n",
       "      <td>int64</td>\n",
       "      <td>345</td>\n",
       "      <td>0</td>\n",
       "      <td>[31, 101, 2, 87, 62]</td>\n",
       "    </tr>\n",
       "  </tbody>\n",
       "</table>\n",
       "</div>"
      ],
      "text/plain": [
       "            Column Data Type  Unique Values  Missing Values  \\\n",
       "0     product_tier    object              3               0   \n",
       "1        make_name    object             81               0   \n",
       "2            price     int64           4663               0   \n",
       "3  first_zip_digit     int64              9               0   \n",
       "4     search_views   float64           5677               0   \n",
       "5     detail_views   float64            224               0   \n",
       "6       stock_days     int64            128               0   \n",
       "7        live_days     int64            345               0   \n",
       "\n",
       "                            Sample Unique Values  \n",
       "0                         [Basic, Premium, Plus]  \n",
       "1  [Mitsubishi, Ford, Volkswagen, Fiat, Renault]  \n",
       "2              [16750, 1750, 24890, 2850, 23740]  \n",
       "3                                [5, 6, 7, 2, 3]  \n",
       "4         [3091.0, 1856.0, 125.0, 172.0, 1499.0]  \n",
       "5                  [123.0, 26.0, 6.0, 4.0, 99.0]  \n",
       "6                            [30, 101, 2, 1, 87]  \n",
       "7                           [31, 101, 2, 87, 62]  "
      ]
     },
     "execution_count": 235,
     "metadata": {},
     "output_type": "execute_result"
    }
   ],
   "source": [
    "from src.eda_first import summarize_dataframe\n",
    "summarize_dataframe(data)"
   ]
  },
  {
   "cell_type": "code",
   "execution_count": 237,
   "id": "aff179a9-1bb2-40f6-bc0a-e1c270575b59",
   "metadata": {},
   "outputs": [
    {
     "data": {
      "text/html": [
       "<div>\n",
       "<style scoped>\n",
       "    .dataframe tbody tr th:only-of-type {\n",
       "        vertical-align: middle;\n",
       "    }\n",
       "\n",
       "    .dataframe tbody tr th {\n",
       "        vertical-align: top;\n",
       "    }\n",
       "\n",
       "    .dataframe thead th {\n",
       "        text-align: right;\n",
       "    }\n",
       "</style>\n",
       "<table border=\"1\" class=\"dataframe\">\n",
       "  <thead>\n",
       "    <tr style=\"text-align: right;\">\n",
       "      <th></th>\n",
       "      <th>price</th>\n",
       "      <th>first_zip_digit</th>\n",
       "      <th>search_views</th>\n",
       "      <th>detail_views</th>\n",
       "      <th>stock_days</th>\n",
       "      <th>live_days</th>\n",
       "    </tr>\n",
       "  </thead>\n",
       "  <tbody>\n",
       "    <tr>\n",
       "      <th>count</th>\n",
       "      <td>48808.0000</td>\n",
       "      <td>48808.0000</td>\n",
       "      <td>48808.0000</td>\n",
       "      <td>48808.0000</td>\n",
       "      <td>48808.0000</td>\n",
       "      <td>48808.0000</td>\n",
       "    </tr>\n",
       "    <tr>\n",
       "      <th>mean</th>\n",
       "      <td>14917.9609</td>\n",
       "      <td>4.6146</td>\n",
       "      <td>1292.1592</td>\n",
       "      <td>50.1408</td>\n",
       "      <td>35.2497</td>\n",
       "      <td>76.8581</td>\n",
       "    </tr>\n",
       "    <tr>\n",
       "      <th>std</th>\n",
       "      <td>15186.5136</td>\n",
       "      <td>2.3615</td>\n",
       "      <td>1351.2076</td>\n",
       "      <td>51.1895</td>\n",
       "      <td>32.5306</td>\n",
       "      <td>82.7472</td>\n",
       "    </tr>\n",
       "    <tr>\n",
       "      <th>min</th>\n",
       "      <td>101.0000</td>\n",
       "      <td>1.0000</td>\n",
       "      <td>0.0000</td>\n",
       "      <td>0.0000</td>\n",
       "      <td>0.0000</td>\n",
       "      <td>0.0000</td>\n",
       "    </tr>\n",
       "    <tr>\n",
       "      <th>25%</th>\n",
       "      <td>5945.0000</td>\n",
       "      <td>3.0000</td>\n",
       "      <td>327.0000</td>\n",
       "      <td>11.0000</td>\n",
       "      <td>8.0000</td>\n",
       "      <td>15.0000</td>\n",
       "    </tr>\n",
       "    <tr>\n",
       "      <th>50%</th>\n",
       "      <td>10950.0000</td>\n",
       "      <td>5.0000</td>\n",
       "      <td>816.0000</td>\n",
       "      <td>31.0000</td>\n",
       "      <td>25.0000</td>\n",
       "      <td>49.0000</td>\n",
       "    </tr>\n",
       "    <tr>\n",
       "      <th>75%</th>\n",
       "      <td>18900.0000</td>\n",
       "      <td>7.0000</td>\n",
       "      <td>1796.2500</td>\n",
       "      <td>73.0000</td>\n",
       "      <td>55.0000</td>\n",
       "      <td>110.0000</td>\n",
       "    </tr>\n",
       "    <tr>\n",
       "      <th>max</th>\n",
       "      <td>249888.0000</td>\n",
       "      <td>9.0000</td>\n",
       "      <td>7899.0000</td>\n",
       "      <td>223.0000</td>\n",
       "      <td>127.0000</td>\n",
       "      <td>600.0000</td>\n",
       "    </tr>\n",
       "  </tbody>\n",
       "</table>\n",
       "</div>"
      ],
      "text/plain": [
       "            price  first_zip_digit  search_views  detail_views  stock_days  \\\n",
       "count  48808.0000       48808.0000    48808.0000    48808.0000  48808.0000   \n",
       "mean   14917.9609           4.6146     1292.1592       50.1408     35.2497   \n",
       "std    15186.5136           2.3615     1351.2076       51.1895     32.5306   \n",
       "min      101.0000           1.0000        0.0000        0.0000      0.0000   \n",
       "25%     5945.0000           3.0000      327.0000       11.0000      8.0000   \n",
       "50%    10950.0000           5.0000      816.0000       31.0000     25.0000   \n",
       "75%    18900.0000           7.0000     1796.2500       73.0000     55.0000   \n",
       "max   249888.0000           9.0000     7899.0000      223.0000    127.0000   \n",
       "\n",
       "       live_days  \n",
       "count 48808.0000  \n",
       "mean     76.8581  \n",
       "std      82.7472  \n",
       "min       0.0000  \n",
       "25%      15.0000  \n",
       "50%      49.0000  \n",
       "75%     110.0000  \n",
       "max     600.0000  "
      ]
     },
     "execution_count": 237,
     "metadata": {},
     "output_type": "execute_result"
    }
   ],
   "source": [
    "data.describe()"
   ]
  },
  {
   "cell_type": "code",
   "execution_count": 239,
   "id": "53652a14-034f-46e9-98d5-d8ebe52e1aac",
   "metadata": {},
   "outputs": [],
   "source": [
    "data.to_csv('../data/interim/cars_data.csv', index=False)"
   ]
  },
  {
   "cell_type": "code",
   "execution_count": null,
   "id": "926cca95-6e02-4906-b13f-39be0051ca81",
   "metadata": {},
   "outputs": [],
   "source": []
  },
  {
   "cell_type": "code",
   "execution_count": null,
   "id": "adf19d96-c3c2-4d01-8c08-bb0d3b2f39b8",
   "metadata": {},
   "outputs": [],
   "source": []
  },
  {
   "cell_type": "code",
   "execution_count": null,
   "id": "7d0c2218-6075-4604-8cf7-9d866f88fc25",
   "metadata": {},
   "outputs": [],
   "source": []
  }
 ],
 "metadata": {
  "kernelspec": {
   "display_name": "template",
   "language": "python",
   "name": "template"
  },
  "language_info": {
   "codemirror_mode": {
    "name": "ipython",
    "version": 3
   },
   "file_extension": ".py",
   "mimetype": "text/x-python",
   "name": "python",
   "nbconvert_exporter": "python",
   "pygments_lexer": "ipython3",
   "version": "3.12.5"
  }
 },
 "nbformat": 4,
 "nbformat_minor": 5
}
