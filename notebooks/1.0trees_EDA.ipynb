{
 "cells": [
  {
   "cell_type": "code",
   "execution_count": 2,
   "id": "a3b5412a-12a5-4cff-8d9b-e14c594fc71b",
   "metadata": {},
   "outputs": [],
   "source": [
    "import pandas as pd\n",
    "import os\n",
    "import numpy as np\n",
    "import sys\n",
    "sys.path.append('..')"
   ]
  },
  {
   "cell_type": "code",
   "execution_count": 54,
   "id": "ab39e0ef-04e4-4904-b2e9-6a5d849ee65d",
   "metadata": {},
   "outputs": [],
   "source": [
    "#os.chdir(r'C:\\Users\\Administrator\\Desktop\\raphi_other\\repositories\\template_project\\src')"
   ]
  },
  {
   "cell_type": "code",
   "execution_count": 11,
   "id": "fe19197a-3c80-4f43-afbe-416e2f7fe4d1",
   "metadata": {},
   "outputs": [],
   "source": [
    "data = pd.read_csv(r'../data/raw/data/scout_data/Case_Study_Data.csv', delimiter=';')"
   ]
  },
  {
   "cell_type": "code",
   "execution_count": 13,
   "id": "6e3466b0-0f36-45c5-b951-935844244383",
   "metadata": {},
   "outputs": [],
   "source": [
    "#from eda_first import reduce_mem_usage\n",
    "#data = reduce_mem_usage(data)"
   ]
  },
  {
   "cell_type": "code",
   "execution_count": 15,
   "id": "6beea2bc-1ca0-48ed-b2ac-4349a4dc9597",
   "metadata": {},
   "outputs": [
    {
     "data": {
      "text/plain": [
       "Index(['article_id', 'product_tier', 'make_name', 'price', 'first_zip_digit',\n",
       "       'first_registration_year', 'created_date', 'deleted_date',\n",
       "       'search_views', 'detail_views', 'stock_days', 'ctr'],\n",
       "      dtype='object')"
      ]
     },
     "execution_count": 15,
     "metadata": {},
     "output_type": "execute_result"
    }
   ],
   "source": [
    "data.columns"
   ]
  },
  {
   "cell_type": "code",
   "execution_count": 17,
   "id": "650455d1-3ec0-4669-988d-939461e45047",
   "metadata": {},
   "outputs": [
    {
     "data": {
      "text/plain": [
       "(78321, 12)"
      ]
     },
     "execution_count": 17,
     "metadata": {},
     "output_type": "execute_result"
    }
   ],
   "source": [
    "data.shape"
   ]
  },
  {
   "cell_type": "code",
   "execution_count": 19,
   "id": "cc110f8f-db7f-4365-8c4c-eaabd00b0113",
   "metadata": {},
   "outputs": [
    {
     "data": {
      "text/html": [
       "<div>\n",
       "<style scoped>\n",
       "    .dataframe tbody tr th:only-of-type {\n",
       "        vertical-align: middle;\n",
       "    }\n",
       "\n",
       "    .dataframe tbody tr th {\n",
       "        vertical-align: top;\n",
       "    }\n",
       "\n",
       "    .dataframe thead th {\n",
       "        text-align: right;\n",
       "    }\n",
       "</style>\n",
       "<table border=\"1\" class=\"dataframe\">\n",
       "  <thead>\n",
       "    <tr style=\"text-align: right;\">\n",
       "      <th></th>\n",
       "      <th>article_id</th>\n",
       "      <th>product_tier</th>\n",
       "      <th>make_name</th>\n",
       "      <th>price</th>\n",
       "      <th>first_zip_digit</th>\n",
       "      <th>first_registration_year</th>\n",
       "      <th>created_date</th>\n",
       "      <th>deleted_date</th>\n",
       "      <th>search_views</th>\n",
       "      <th>detail_views</th>\n",
       "      <th>stock_days</th>\n",
       "      <th>ctr</th>\n",
       "    </tr>\n",
       "  </thead>\n",
       "  <tbody>\n",
       "    <tr>\n",
       "      <th>0</th>\n",
       "      <td>350625839</td>\n",
       "      <td>Basic</td>\n",
       "      <td>Mitsubishi</td>\n",
       "      <td>16750</td>\n",
       "      <td>5</td>\n",
       "      <td>2013</td>\n",
       "      <td>24.07.18</td>\n",
       "      <td>24.08.18</td>\n",
       "      <td>3091.0</td>\n",
       "      <td>123.0</td>\n",
       "      <td>30</td>\n",
       "      <td>0.03780329990294403</td>\n",
       "    </tr>\n",
       "    <tr>\n",
       "      <th>1</th>\n",
       "      <td>354412280</td>\n",
       "      <td>Basic</td>\n",
       "      <td>Mercedes-Benz</td>\n",
       "      <td>35950</td>\n",
       "      <td>4</td>\n",
       "      <td>2015</td>\n",
       "      <td>16.08.18</td>\n",
       "      <td>07.10.18</td>\n",
       "      <td>3283.0</td>\n",
       "      <td>223.0</td>\n",
       "      <td>52</td>\n",
       "      <td>0.06792567773378008</td>\n",
       "    </tr>\n",
       "    <tr>\n",
       "      <th>2</th>\n",
       "      <td>349572992</td>\n",
       "      <td>Basic</td>\n",
       "      <td>Mercedes-Benz</td>\n",
       "      <td>11950</td>\n",
       "      <td>3</td>\n",
       "      <td>1998</td>\n",
       "      <td>16.07.18</td>\n",
       "      <td>05.09.18</td>\n",
       "      <td>3247.0</td>\n",
       "      <td>265.0</td>\n",
       "      <td>51</td>\n",
       "      <td>0.0816137973514013</td>\n",
       "    </tr>\n",
       "    <tr>\n",
       "      <th>3</th>\n",
       "      <td>350266763</td>\n",
       "      <td>Basic</td>\n",
       "      <td>Ford</td>\n",
       "      <td>1750</td>\n",
       "      <td>6</td>\n",
       "      <td>2003</td>\n",
       "      <td>20.07.18</td>\n",
       "      <td>29.10.18</td>\n",
       "      <td>1856.0</td>\n",
       "      <td>26.0</td>\n",
       "      <td>101</td>\n",
       "      <td>0.014008620689655173</td>\n",
       "    </tr>\n",
       "    <tr>\n",
       "      <th>4</th>\n",
       "      <td>355688985</td>\n",
       "      <td>Basic</td>\n",
       "      <td>Mercedes-Benz</td>\n",
       "      <td>26500</td>\n",
       "      <td>3</td>\n",
       "      <td>2014</td>\n",
       "      <td>28.08.18</td>\n",
       "      <td>08.09.18</td>\n",
       "      <td>490.0</td>\n",
       "      <td>20.0</td>\n",
       "      <td>12</td>\n",
       "      <td>0.04081632653061224</td>\n",
       "    </tr>\n",
       "  </tbody>\n",
       "</table>\n",
       "</div>"
      ],
      "text/plain": [
       "   article_id product_tier      make_name  price  first_zip_digit  \\\n",
       "0   350625839        Basic     Mitsubishi  16750                5   \n",
       "1   354412280        Basic  Mercedes-Benz  35950                4   \n",
       "2   349572992        Basic  Mercedes-Benz  11950                3   \n",
       "3   350266763        Basic           Ford   1750                6   \n",
       "4   355688985        Basic  Mercedes-Benz  26500                3   \n",
       "\n",
       "   first_registration_year created_date deleted_date  search_views  \\\n",
       "0                     2013     24.07.18     24.08.18        3091.0   \n",
       "1                     2015     16.08.18     07.10.18        3283.0   \n",
       "2                     1998     16.07.18     05.09.18        3247.0   \n",
       "3                     2003     20.07.18     29.10.18        1856.0   \n",
       "4                     2014     28.08.18     08.09.18         490.0   \n",
       "\n",
       "   detail_views  stock_days                   ctr  \n",
       "0         123.0          30   0.03780329990294403  \n",
       "1         223.0          52   0.06792567773378008  \n",
       "2         265.0          51    0.0816137973514013  \n",
       "3          26.0         101  0.014008620689655173  \n",
       "4          20.0          12   0.04081632653061224  "
      ]
     },
     "execution_count": 19,
     "metadata": {},
     "output_type": "execute_result"
    }
   ],
   "source": [
    "data.head()"
   ]
  },
  {
   "cell_type": "code",
   "execution_count": 66,
   "id": "786671bc-3a18-4d03-aab5-d56aef2eb291",
   "metadata": {},
   "outputs": [],
   "source": [
    "pd.set_option('display.float_format', '{:.4f}'.format)"
   ]
  },
  {
   "cell_type": "code",
   "execution_count": 21,
   "id": "8273dc9c-8376-4fd3-b3f2-14c57d29d2c2",
   "metadata": {},
   "outputs": [
    {
     "data": {
      "text/html": [
       "<div>\n",
       "<style scoped>\n",
       "    .dataframe tbody tr th:only-of-type {\n",
       "        vertical-align: middle;\n",
       "    }\n",
       "\n",
       "    .dataframe tbody tr th {\n",
       "        vertical-align: top;\n",
       "    }\n",
       "\n",
       "    .dataframe thead th {\n",
       "        text-align: right;\n",
       "    }\n",
       "</style>\n",
       "<table border=\"1\" class=\"dataframe\">\n",
       "  <thead>\n",
       "    <tr style=\"text-align: right;\">\n",
       "      <th></th>\n",
       "      <th>article_id</th>\n",
       "      <th>price</th>\n",
       "      <th>first_zip_digit</th>\n",
       "      <th>first_registration_year</th>\n",
       "      <th>search_views</th>\n",
       "      <th>detail_views</th>\n",
       "      <th>stock_days</th>\n",
       "    </tr>\n",
       "  </thead>\n",
       "  <tbody>\n",
       "    <tr>\n",
       "      <th>count</th>\n",
       "      <td>7.832100e+04</td>\n",
       "      <td>78321.000000</td>\n",
       "      <td>78321.000000</td>\n",
       "      <td>78321.000000</td>\n",
       "      <td>78311.000000</td>\n",
       "      <td>78311.000000</td>\n",
       "      <td>78321.000000</td>\n",
       "    </tr>\n",
       "    <tr>\n",
       "      <th>mean</th>\n",
       "      <td>3.574869e+08</td>\n",
       "      <td>15067.655316</td>\n",
       "      <td>4.632117</td>\n",
       "      <td>2011.089465</td>\n",
       "      <td>2297.502522</td>\n",
       "      <td>93.469870</td>\n",
       "      <td>35.986262</td>\n",
       "    </tr>\n",
       "    <tr>\n",
       "      <th>std</th>\n",
       "      <td>5.076572e+06</td>\n",
       "      <td>16374.497606</td>\n",
       "      <td>2.354275</td>\n",
       "      <td>6.538395</td>\n",
       "      <td>6339.034423</td>\n",
       "      <td>228.025588</td>\n",
       "      <td>32.214835</td>\n",
       "    </tr>\n",
       "    <tr>\n",
       "      <th>min</th>\n",
       "      <td>3.472324e+08</td>\n",
       "      <td>1.000000</td>\n",
       "      <td>1.000000</td>\n",
       "      <td>1924.000000</td>\n",
       "      <td>0.000000</td>\n",
       "      <td>0.000000</td>\n",
       "      <td>-3.000000</td>\n",
       "    </tr>\n",
       "    <tr>\n",
       "      <th>25%</th>\n",
       "      <td>3.536387e+08</td>\n",
       "      <td>5750.000000</td>\n",
       "      <td>3.000000</td>\n",
       "      <td>2008.000000</td>\n",
       "      <td>367.000000</td>\n",
       "      <td>13.000000</td>\n",
       "      <td>10.000000</td>\n",
       "    </tr>\n",
       "    <tr>\n",
       "      <th>50%</th>\n",
       "      <td>3.585480e+08</td>\n",
       "      <td>10900.000000</td>\n",
       "      <td>5.000000</td>\n",
       "      <td>2013.000000</td>\n",
       "      <td>920.000000</td>\n",
       "      <td>36.000000</td>\n",
       "      <td>25.000000</td>\n",
       "    </tr>\n",
       "    <tr>\n",
       "      <th>75%</th>\n",
       "      <td>3.614817e+08</td>\n",
       "      <td>18890.000000</td>\n",
       "      <td>7.000000</td>\n",
       "      <td>2015.000000</td>\n",
       "      <td>2234.000000</td>\n",
       "      <td>94.000000</td>\n",
       "      <td>55.000000</td>\n",
       "    </tr>\n",
       "    <tr>\n",
       "      <th>max</th>\n",
       "      <td>3.647040e+08</td>\n",
       "      <td>249888.000000</td>\n",
       "      <td>9.000000</td>\n",
       "      <td>2106.000000</td>\n",
       "      <td>608754.000000</td>\n",
       "      <td>13926.000000</td>\n",
       "      <td>127.000000</td>\n",
       "    </tr>\n",
       "  </tbody>\n",
       "</table>\n",
       "</div>"
      ],
      "text/plain": [
       "         article_id          price  first_zip_digit  first_registration_year  \\\n",
       "count  7.832100e+04   78321.000000     78321.000000             78321.000000   \n",
       "mean   3.574869e+08   15067.655316         4.632117              2011.089465   \n",
       "std    5.076572e+06   16374.497606         2.354275                 6.538395   \n",
       "min    3.472324e+08       1.000000         1.000000              1924.000000   \n",
       "25%    3.536387e+08    5750.000000         3.000000              2008.000000   \n",
       "50%    3.585480e+08   10900.000000         5.000000              2013.000000   \n",
       "75%    3.614817e+08   18890.000000         7.000000              2015.000000   \n",
       "max    3.647040e+08  249888.000000         9.000000              2106.000000   \n",
       "\n",
       "        search_views  detail_views    stock_days  \n",
       "count   78311.000000  78311.000000  78321.000000  \n",
       "mean     2297.502522     93.469870     35.986262  \n",
       "std      6339.034423    228.025588     32.214835  \n",
       "min         0.000000      0.000000     -3.000000  \n",
       "25%       367.000000     13.000000     10.000000  \n",
       "50%       920.000000     36.000000     25.000000  \n",
       "75%      2234.000000     94.000000     55.000000  \n",
       "max    608754.000000  13926.000000    127.000000  "
      ]
     },
     "execution_count": 21,
     "metadata": {},
     "output_type": "execute_result"
    }
   ],
   "source": [
    "data.describe()"
   ]
  },
  {
   "cell_type": "code",
   "execution_count": 26,
   "id": "dfedb6ab-34cd-4c3a-81da-656556acd729",
   "metadata": {},
   "outputs": [
    {
     "name": "stdout",
     "output_type": "stream",
     "text": [
      "7915.0\n",
      "(78321, 12)\n",
      "(74394, 12)\n"
     ]
    }
   ],
   "source": [
    "pct = np.percentile(data.loc[:, 'search_views'].fillna(np.mean(data.loc[:, 'search_views'])), 95)\n",
    "print(pct)\n",
    "print(data.shape)\n",
    "data = data.loc[data.loc[:, 'search_views'] < pct]\n",
    "print(data.shape)"
   ]
  },
  {
   "cell_type": "code",
   "execution_count": 28,
   "id": "3c7d5663-cc60-4c53-9882-eb3f2b569194",
   "metadata": {},
   "outputs": [
    {
     "name": "stdout",
     "output_type": "stream",
     "text": [
      "224.0\n",
      "(74394, 12)\n",
      "(70624, 12)\n"
     ]
    }
   ],
   "source": [
    "pct = np.percentile(data.loc[:, 'detail_views'].fillna(np.mean(data.loc[:, 'detail_views'])), 95)\n",
    "print(pct)\n",
    "print(data.shape)\n",
    "data = data.loc[data.loc[:, 'detail_views'] < pct]\n",
    "print(data.shape)"
   ]
  },
  {
   "cell_type": "markdown",
   "id": "2d36ab3c-0543-4d75-9f39-cb7b0b4a0757",
   "metadata": {},
   "source": [
    "# DROP COLUMNS WHICH DONT MAKE SENSE!"
   ]
  },
  {
   "cell_type": "code",
   "execution_count": null,
   "id": "464041f1-50a5-4bd2-bb02-089bf6ad8ca9",
   "metadata": {},
   "outputs": [],
   "source": [
    "#drop all cars with first_registration_year of more than 2022\n",
    "data = data[data['first_registration_year'] <= 2022]\n",
    "\n",
    "#drop all columns with negative live days. (since you cannot have a listing deleted before it is created)\n",
    "data = data[data['live_days'] >= 0]\n",
    "\n",
    "#drop all negative stock days\n",
    "data = data[data['stock_days'] >= 0]\n",
    "\n",
    "#drop all cars with price less than 100 euros\n",
    "data = data[data.price > 100]"
   ]
  },
  {
   "cell_type": "code",
   "execution_count": 30,
   "id": "e1f0636f-2641-4fac-adf1-b4adbbe950a2",
   "metadata": {},
   "outputs": [
    {
     "data": {
      "text/plain": [
       "array([False, False, False, False, False, False, False, False, False,\n",
       "       False, False, False])"
      ]
     },
     "execution_count": 30,
     "metadata": {},
     "output_type": "execute_result"
    }
   ],
   "source": [
    "data.columns.isnull()"
   ]
  },
  {
   "cell_type": "code",
   "execution_count": 32,
   "id": "8cee01fc-4306-4c2b-afb8-207279158ccc",
   "metadata": {},
   "outputs": [
    {
     "data": {
      "text/html": [
       "<div>\n",
       "<style scoped>\n",
       "    .dataframe tbody tr th:only-of-type {\n",
       "        vertical-align: middle;\n",
       "    }\n",
       "\n",
       "    .dataframe tbody tr th {\n",
       "        vertical-align: top;\n",
       "    }\n",
       "\n",
       "    .dataframe thead th {\n",
       "        text-align: right;\n",
       "    }\n",
       "</style>\n",
       "<table border=\"1\" class=\"dataframe\">\n",
       "  <thead>\n",
       "    <tr style=\"text-align: right;\">\n",
       "      <th></th>\n",
       "      <th>Column</th>\n",
       "      <th>Data Type</th>\n",
       "      <th>Unique Values</th>\n",
       "      <th>Missing Values</th>\n",
       "      <th>Sample Unique Values</th>\n",
       "    </tr>\n",
       "  </thead>\n",
       "  <tbody>\n",
       "    <tr>\n",
       "      <th>0</th>\n",
       "      <td>article_id</td>\n",
       "      <td>int64</td>\n",
       "      <td>70619</td>\n",
       "      <td>0</td>\n",
       "      <td>[350625839, 354412280, 350266763, 355688985, 3...</td>\n",
       "    </tr>\n",
       "    <tr>\n",
       "      <th>1</th>\n",
       "      <td>product_tier</td>\n",
       "      <td>object</td>\n",
       "      <td>3</td>\n",
       "      <td>0</td>\n",
       "      <td>[Basic, Premium, Plus]</td>\n",
       "    </tr>\n",
       "    <tr>\n",
       "      <th>2</th>\n",
       "      <td>make_name</td>\n",
       "      <td>object</td>\n",
       "      <td>82</td>\n",
       "      <td>0</td>\n",
       "      <td>[Mitsubishi, Mercedes-Benz, Ford, Volkswagen, ...</td>\n",
       "    </tr>\n",
       "    <tr>\n",
       "      <th>3</th>\n",
       "      <td>price</td>\n",
       "      <td>int64</td>\n",
       "      <td>5528</td>\n",
       "      <td>0</td>\n",
       "      <td>[16750, 35950, 1750, 26500, 24890]</td>\n",
       "    </tr>\n",
       "    <tr>\n",
       "      <th>4</th>\n",
       "      <td>first_zip_digit</td>\n",
       "      <td>int64</td>\n",
       "      <td>9</td>\n",
       "      <td>0</td>\n",
       "      <td>[5, 4, 6, 3, 7]</td>\n",
       "    </tr>\n",
       "    <tr>\n",
       "      <th>5</th>\n",
       "      <td>first_registration_year</td>\n",
       "      <td>int64</td>\n",
       "      <td>85</td>\n",
       "      <td>0</td>\n",
       "      <td>[2013, 2015, 2003, 2014, 2017]</td>\n",
       "    </tr>\n",
       "    <tr>\n",
       "      <th>6</th>\n",
       "      <td>created_date</td>\n",
       "      <td>object</td>\n",
       "      <td>35</td>\n",
       "      <td>0</td>\n",
       "      <td>[24.07.18, 16.08.18, 20.07.18, 28.08.18, 20.10...</td>\n",
       "    </tr>\n",
       "    <tr>\n",
       "      <th>7</th>\n",
       "      <td>deleted_date</td>\n",
       "      <td>object</td>\n",
       "      <td>273</td>\n",
       "      <td>0</td>\n",
       "      <td>[24.08.18, 07.10.18, 29.10.18, 08.09.18, 22.10...</td>\n",
       "    </tr>\n",
       "    <tr>\n",
       "      <th>8</th>\n",
       "      <td>search_views</td>\n",
       "      <td>float64</td>\n",
       "      <td>6010</td>\n",
       "      <td>0</td>\n",
       "      <td>[3091.0, 3283.0, 1856.0, 490.0, 125.0]</td>\n",
       "    </tr>\n",
       "    <tr>\n",
       "      <th>9</th>\n",
       "      <td>detail_views</td>\n",
       "      <td>float64</td>\n",
       "      <td>224</td>\n",
       "      <td>0</td>\n",
       "      <td>[123.0, 223.0, 26.0, 20.0, 6.0]</td>\n",
       "    </tr>\n",
       "    <tr>\n",
       "      <th>10</th>\n",
       "      <td>stock_days</td>\n",
       "      <td>int64</td>\n",
       "      <td>131</td>\n",
       "      <td>0</td>\n",
       "      <td>[30, 52, 101, 12, 2]</td>\n",
       "    </tr>\n",
       "    <tr>\n",
       "      <th>11</th>\n",
       "      <td>ctr</td>\n",
       "      <td>object</td>\n",
       "      <td>40138</td>\n",
       "      <td>14</td>\n",
       "      <td>[0.03780329990294403, 0.06792567773378008, 0.0...</td>\n",
       "    </tr>\n",
       "  </tbody>\n",
       "</table>\n",
       "</div>"
      ],
      "text/plain": [
       "                     Column Data Type  Unique Values  Missing Values  \\\n",
       "0                article_id     int64          70619               0   \n",
       "1              product_tier    object              3               0   \n",
       "2                 make_name    object             82               0   \n",
       "3                     price     int64           5528               0   \n",
       "4           first_zip_digit     int64              9               0   \n",
       "5   first_registration_year     int64             85               0   \n",
       "6              created_date    object             35               0   \n",
       "7              deleted_date    object            273               0   \n",
       "8              search_views   float64           6010               0   \n",
       "9              detail_views   float64            224               0   \n",
       "10               stock_days     int64            131               0   \n",
       "11                      ctr    object          40138              14   \n",
       "\n",
       "                                 Sample Unique Values  \n",
       "0   [350625839, 354412280, 350266763, 355688985, 3...  \n",
       "1                              [Basic, Premium, Plus]  \n",
       "2   [Mitsubishi, Mercedes-Benz, Ford, Volkswagen, ...  \n",
       "3                  [16750, 35950, 1750, 26500, 24890]  \n",
       "4                                     [5, 4, 6, 3, 7]  \n",
       "5                      [2013, 2015, 2003, 2014, 2017]  \n",
       "6   [24.07.18, 16.08.18, 20.07.18, 28.08.18, 20.10...  \n",
       "7   [24.08.18, 07.10.18, 29.10.18, 08.09.18, 22.10...  \n",
       "8              [3091.0, 3283.0, 1856.0, 490.0, 125.0]  \n",
       "9                     [123.0, 223.0, 26.0, 20.0, 6.0]  \n",
       "10                               [30, 52, 101, 12, 2]  \n",
       "11  [0.03780329990294403, 0.06792567773378008, 0.0...  "
      ]
     },
     "execution_count": 32,
     "metadata": {},
     "output_type": "execute_result"
    }
   ],
   "source": [
    "from src.eda_first import summarize_dataframe\n",
    "summarize_dataframe(data)"
   ]
  },
  {
   "cell_type": "code",
   "execution_count": 35,
   "id": "53652a14-034f-46e9-98d5-d8ebe52e1aac",
   "metadata": {},
   "outputs": [],
   "source": [
    "data.to_csv('../data/interim/cars_data.csv', index=False)"
   ]
  },
  {
   "cell_type": "code",
   "execution_count": null,
   "id": "926cca95-6e02-4906-b13f-39be0051ca81",
   "metadata": {},
   "outputs": [],
   "source": []
  }
 ],
 "metadata": {
  "kernelspec": {
   "display_name": "template",
   "language": "python",
   "name": "template"
  },
  "language_info": {
   "codemirror_mode": {
    "name": "ipython",
    "version": 3
   },
   "file_extension": ".py",
   "mimetype": "text/x-python",
   "name": "python",
   "nbconvert_exporter": "python",
   "pygments_lexer": "ipython3",
   "version": "3.12.5"
  }
 },
 "nbformat": 4,
 "nbformat_minor": 5
}
