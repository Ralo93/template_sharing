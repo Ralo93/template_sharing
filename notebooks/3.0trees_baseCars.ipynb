{
 "cells": [
  {
   "cell_type": "code",
   "execution_count": 280,
   "id": "cb6cdfd8-dfe5-46cf-86d2-c5b3b1bf1aa7",
   "metadata": {},
   "outputs": [],
   "source": [
    "import pandas as pd\n",
    "import os\n",
    "import numpy as np\n",
    "import sys\n",
    "sys.path.append('..')"
   ]
  },
  {
   "cell_type": "code",
   "execution_count": 282,
   "id": "fb05d577-22db-430e-8506-7475993af1e8",
   "metadata": {},
   "outputs": [],
   "source": [
    "os.chdir(r'C:\\Users\\Administrator\\Desktop\\raphi_other\\repositories\\template_project\\src')"
   ]
  },
  {
   "cell_type": "code",
   "execution_count": 359,
   "id": "247204ae-0303-4211-91f1-00b4386bc74a",
   "metadata": {},
   "outputs": [],
   "source": [
    "data = pd.read_csv(r'../data/interim/cars_data.csv')"
   ]
  },
  {
   "cell_type": "code",
   "execution_count": 286,
   "id": "e347cb66-78fe-4d38-84cd-ef6f2cade47a",
   "metadata": {},
   "outputs": [],
   "source": [
    "#test = pd.read_csv(r'../data/interim/test.csv')"
   ]
  },
  {
   "cell_type": "code",
   "execution_count": null,
   "id": "c7ec3b33-ef3b-49a1-97fc-d5565b8ab4eb",
   "metadata": {},
   "outputs": [],
   "source": []
  },
  {
   "cell_type": "code",
   "execution_count": 361,
   "id": "d336fbcc-72f7-4300-a5cd-17ec63a31ec0",
   "metadata": {},
   "outputs": [],
   "source": [
    "x = data.drop(columns=['product_tier'])\n",
    "y = data.product_tier"
   ]
  },
  {
   "cell_type": "code",
   "execution_count": 363,
   "id": "dabc8af1-ed69-4b22-8cce-7e460847629c",
   "metadata": {},
   "outputs": [],
   "source": [
    "# x['ctr'] = x['ctr'].astype('float64')"
   ]
  },
  {
   "cell_type": "code",
   "execution_count": 365,
   "id": "a69a60d6-f654-4f49-abe2-793c473e596e",
   "metadata": {},
   "outputs": [],
   "source": [
    "numerical_df = data.select_dtypes(exclude=['object'])\n",
    "categorical_df = data.select_dtypes(include=['object'])"
   ]
  },
  {
   "cell_type": "code",
   "execution_count": 366,
   "id": "d47991ab-2c2f-4e13-92c3-4ccc30463c65",
   "metadata": {},
   "outputs": [
    {
     "data": {
      "text/plain": [
       "0        Basic\n",
       "1        Basic\n",
       "2        Basic\n",
       "3        Basic\n",
       "4        Basic\n",
       "         ...  \n",
       "48803    Basic\n",
       "48804    Basic\n",
       "48805    Basic\n",
       "48806    Basic\n",
       "48807    Basic\n",
       "Name: product_tier, Length: 48808, dtype: object"
      ]
     },
     "execution_count": 366,
     "metadata": {},
     "output_type": "execute_result"
    }
   ],
   "source": [
    "y"
   ]
  },
  {
   "cell_type": "code",
   "execution_count": 369,
   "id": "0d1e7953-63b0-49fa-a4a8-c7d7c906adff",
   "metadata": {},
   "outputs": [],
   "source": [
    "#x.to_csv('../data/interim/house_xinit.csv', index=False)\n",
    "#y.to_csv('../data/interim/house_yinit.csv', index=False)"
   ]
  },
  {
   "cell_type": "code",
   "execution_count": 370,
   "id": "0dcb800e-4e22-4783-a3ae-9ab94693f41f",
   "metadata": {},
   "outputs": [],
   "source": [
    "#y.value_counts()"
   ]
  },
  {
   "cell_type": "markdown",
   "id": "ab827066-2a10-4c99-b9af-79f9c21110c8",
   "metadata": {},
   "source": [
    "# Ordinal Encoding of y"
   ]
  },
  {
   "cell_type": "code",
   "execution_count": 372,
   "id": "7bd04be0-4a74-43c9-8b31-13fea3df1a82",
   "metadata": {},
   "outputs": [],
   "source": [
    "order = ['Basic', 'Premium', 'Plus']#, 'Overweight_Level_II', 'Obesity_Type_I', 'Obesity_Type_II', 'Obesity_Type_III']\n",
    "\n",
    "# Convert 'y' to a categorical type with the specified order\n",
    "y = pd.Categorical(y, categories=order, ordered=True).codes"
   ]
  },
  {
   "cell_type": "code",
   "execution_count": 375,
   "id": "a4e9bbd0-6ed8-4553-9baa-9d8db066c0df",
   "metadata": {},
   "outputs": [],
   "source": [
    "y = pd.Series(y, name='y')"
   ]
  },
  {
   "cell_type": "code",
   "execution_count": 377,
   "id": "87e15cf7-2a3c-47d5-8919-c76916a2e530",
   "metadata": {},
   "outputs": [
    {
     "data": {
      "text/plain": [
       "0        0\n",
       "1        0\n",
       "2        0\n",
       "3        0\n",
       "4        0\n",
       "        ..\n",
       "48803    0\n",
       "48804    0\n",
       "48805    0\n",
       "48806    0\n",
       "48807    0\n",
       "Name: y, Length: 48808, dtype: int8"
      ]
     },
     "execution_count": 377,
     "metadata": {},
     "output_type": "execute_result"
    }
   ],
   "source": [
    "y"
   ]
  },
  {
   "cell_type": "code",
   "execution_count": 379,
   "id": "d57f2412-7b53-4d03-941d-3d9eb466d0dc",
   "metadata": {},
   "outputs": [],
   "source": [
    "numerical_df = x.select_dtypes(exclude=['object'])\n",
    "categorical_df = x.select_dtypes(include=['object'])"
   ]
  },
  {
   "cell_type": "code",
   "execution_count": 381,
   "id": "3ccd1634-c3b0-4380-9fb2-799c79542748",
   "metadata": {},
   "outputs": [
    {
     "data": {
      "text/html": [
       "<div>\n",
       "<style scoped>\n",
       "    .dataframe tbody tr th:only-of-type {\n",
       "        vertical-align: middle;\n",
       "    }\n",
       "\n",
       "    .dataframe tbody tr th {\n",
       "        vertical-align: top;\n",
       "    }\n",
       "\n",
       "    .dataframe thead th {\n",
       "        text-align: right;\n",
       "    }\n",
       "</style>\n",
       "<table border=\"1\" class=\"dataframe\">\n",
       "  <thead>\n",
       "    <tr style=\"text-align: right;\">\n",
       "      <th></th>\n",
       "      <th>price</th>\n",
       "      <th>first_zip_digit</th>\n",
       "      <th>search_views</th>\n",
       "      <th>detail_views</th>\n",
       "      <th>stock_days</th>\n",
       "      <th>live_days</th>\n",
       "    </tr>\n",
       "  </thead>\n",
       "  <tbody>\n",
       "    <tr>\n",
       "      <th>0</th>\n",
       "      <td>16750</td>\n",
       "      <td>5</td>\n",
       "      <td>3091.0</td>\n",
       "      <td>123.0</td>\n",
       "      <td>30</td>\n",
       "      <td>31</td>\n",
       "    </tr>\n",
       "    <tr>\n",
       "      <th>1</th>\n",
       "      <td>1750</td>\n",
       "      <td>6</td>\n",
       "      <td>1856.0</td>\n",
       "      <td>26.0</td>\n",
       "      <td>101</td>\n",
       "      <td>101</td>\n",
       "    </tr>\n",
       "    <tr>\n",
       "      <th>2</th>\n",
       "      <td>24890</td>\n",
       "      <td>6</td>\n",
       "      <td>125.0</td>\n",
       "      <td>6.0</td>\n",
       "      <td>2</td>\n",
       "      <td>2</td>\n",
       "    </tr>\n",
       "    <tr>\n",
       "      <th>3</th>\n",
       "      <td>2850</td>\n",
       "      <td>7</td>\n",
       "      <td>172.0</td>\n",
       "      <td>4.0</td>\n",
       "      <td>1</td>\n",
       "      <td>31</td>\n",
       "    </tr>\n",
       "    <tr>\n",
       "      <th>4</th>\n",
       "      <td>23740</td>\n",
       "      <td>2</td>\n",
       "      <td>1499.0</td>\n",
       "      <td>99.0</td>\n",
       "      <td>87</td>\n",
       "      <td>87</td>\n",
       "    </tr>\n",
       "    <tr>\n",
       "      <th>...</th>\n",
       "      <td>...</td>\n",
       "      <td>...</td>\n",
       "      <td>...</td>\n",
       "      <td>...</td>\n",
       "      <td>...</td>\n",
       "      <td>...</td>\n",
       "    </tr>\n",
       "    <tr>\n",
       "      <th>48803</th>\n",
       "      <td>3999</td>\n",
       "      <td>8</td>\n",
       "      <td>7149.0</td>\n",
       "      <td>189.0</td>\n",
       "      <td>50</td>\n",
       "      <td>139</td>\n",
       "    </tr>\n",
       "    <tr>\n",
       "      <th>48804</th>\n",
       "      <td>3297</td>\n",
       "      <td>3</td>\n",
       "      <td>604.0</td>\n",
       "      <td>34.0</td>\n",
       "      <td>4</td>\n",
       "      <td>4</td>\n",
       "    </tr>\n",
       "    <tr>\n",
       "      <th>48805</th>\n",
       "      <td>2950</td>\n",
       "      <td>6</td>\n",
       "      <td>1175.0</td>\n",
       "      <td>16.0</td>\n",
       "      <td>25</td>\n",
       "      <td>25</td>\n",
       "    </tr>\n",
       "    <tr>\n",
       "      <th>48806</th>\n",
       "      <td>7850</td>\n",
       "      <td>8</td>\n",
       "      <td>448.0</td>\n",
       "      <td>21.0</td>\n",
       "      <td>16</td>\n",
       "      <td>224</td>\n",
       "    </tr>\n",
       "    <tr>\n",
       "      <th>48807</th>\n",
       "      <td>38800</td>\n",
       "      <td>7</td>\n",
       "      <td>55.0</td>\n",
       "      <td>2.0</td>\n",
       "      <td>1</td>\n",
       "      <td>31</td>\n",
       "    </tr>\n",
       "  </tbody>\n",
       "</table>\n",
       "<p>48808 rows × 6 columns</p>\n",
       "</div>"
      ],
      "text/plain": [
       "       price  first_zip_digit  search_views  detail_views  stock_days  \\\n",
       "0      16750                5        3091.0         123.0          30   \n",
       "1       1750                6        1856.0          26.0         101   \n",
       "2      24890                6         125.0           6.0           2   \n",
       "3       2850                7         172.0           4.0           1   \n",
       "4      23740                2        1499.0          99.0          87   \n",
       "...      ...              ...           ...           ...         ...   \n",
       "48803   3999                8        7149.0         189.0          50   \n",
       "48804   3297                3         604.0          34.0           4   \n",
       "48805   2950                6        1175.0          16.0          25   \n",
       "48806   7850                8         448.0          21.0          16   \n",
       "48807  38800                7          55.0           2.0           1   \n",
       "\n",
       "       live_days  \n",
       "0             31  \n",
       "1            101  \n",
       "2              2  \n",
       "3             31  \n",
       "4             87  \n",
       "...          ...  \n",
       "48803        139  \n",
       "48804          4  \n",
       "48805         25  \n",
       "48806        224  \n",
       "48807         31  \n",
       "\n",
       "[48808 rows x 6 columns]"
      ]
     },
     "execution_count": 381,
     "metadata": {},
     "output_type": "execute_result"
    }
   ],
   "source": [
    "numerical_df"
   ]
  },
  {
   "cell_type": "code",
   "execution_count": 383,
   "id": "6105a8e5-7d7f-4b87-838e-bdc34fabbb05",
   "metadata": {},
   "outputs": [
    {
     "data": {
      "text/html": [
       "<div>\n",
       "<style scoped>\n",
       "    .dataframe tbody tr th:only-of-type {\n",
       "        vertical-align: middle;\n",
       "    }\n",
       "\n",
       "    .dataframe tbody tr th {\n",
       "        vertical-align: top;\n",
       "    }\n",
       "\n",
       "    .dataframe thead th {\n",
       "        text-align: right;\n",
       "    }\n",
       "</style>\n",
       "<table border=\"1\" class=\"dataframe\">\n",
       "  <thead>\n",
       "    <tr style=\"text-align: right;\">\n",
       "      <th></th>\n",
       "      <th>make_name</th>\n",
       "    </tr>\n",
       "  </thead>\n",
       "  <tbody>\n",
       "    <tr>\n",
       "      <th>0</th>\n",
       "      <td>Mitsubishi</td>\n",
       "    </tr>\n",
       "    <tr>\n",
       "      <th>1</th>\n",
       "      <td>Ford</td>\n",
       "    </tr>\n",
       "    <tr>\n",
       "      <th>2</th>\n",
       "      <td>Volkswagen</td>\n",
       "    </tr>\n",
       "    <tr>\n",
       "      <th>3</th>\n",
       "      <td>Fiat</td>\n",
       "    </tr>\n",
       "    <tr>\n",
       "      <th>4</th>\n",
       "      <td>Renault</td>\n",
       "    </tr>\n",
       "    <tr>\n",
       "      <th>...</th>\n",
       "      <td>...</td>\n",
       "    </tr>\n",
       "    <tr>\n",
       "      <th>48803</th>\n",
       "      <td>BMW</td>\n",
       "    </tr>\n",
       "    <tr>\n",
       "      <th>48804</th>\n",
       "      <td>Ford</td>\n",
       "    </tr>\n",
       "    <tr>\n",
       "      <th>48805</th>\n",
       "      <td>Hyundai</td>\n",
       "    </tr>\n",
       "    <tr>\n",
       "      <th>48806</th>\n",
       "      <td>Volkswagen</td>\n",
       "    </tr>\n",
       "    <tr>\n",
       "      <th>48807</th>\n",
       "      <td>Volkswagen</td>\n",
       "    </tr>\n",
       "  </tbody>\n",
       "</table>\n",
       "<p>48808 rows × 1 columns</p>\n",
       "</div>"
      ],
      "text/plain": [
       "        make_name\n",
       "0      Mitsubishi\n",
       "1            Ford\n",
       "2      Volkswagen\n",
       "3            Fiat\n",
       "4         Renault\n",
       "...           ...\n",
       "48803         BMW\n",
       "48804        Ford\n",
       "48805     Hyundai\n",
       "48806  Volkswagen\n",
       "48807  Volkswagen\n",
       "\n",
       "[48808 rows x 1 columns]"
      ]
     },
     "execution_count": 383,
     "metadata": {},
     "output_type": "execute_result"
    }
   ],
   "source": [
    "categorical_df"
   ]
  },
  {
   "cell_type": "code",
   "execution_count": 386,
   "id": "1e21e0ba-8e98-4417-8c6c-15da381b4e93",
   "metadata": {},
   "outputs": [],
   "source": [
    "# Select categorical columns with relatively low cardinality (convenient but arbitrary)\n",
    "categorical_cols = [cname for cname in x.columns if x[cname].nunique() < 800 and x[cname].dtype == \"object\"]\n",
    "\n",
    "# Select numerical columns\n",
    "numerical_cols = [cname for cname in x.columns if x[cname].dtype in ['int64', 'float64']]"
   ]
  },
  {
   "cell_type": "code",
   "execution_count": 388,
   "id": "77951823-cea5-4021-b7b7-02c929708c90",
   "metadata": {},
   "outputs": [
    {
     "data": {
      "text/plain": [
       "['make_name']"
      ]
     },
     "execution_count": 388,
     "metadata": {},
     "output_type": "execute_result"
    }
   ],
   "source": [
    "categorical_cols"
   ]
  },
  {
   "cell_type": "code",
   "execution_count": 390,
   "id": "69ed1c56-2f5c-464d-b2fd-dab231f80748",
   "metadata": {},
   "outputs": [],
   "source": [
    "from sklearn.model_selection import train_test_split\n",
    "from sklearn.compose import ColumnTransformer\n",
    "from sklearn.pipeline import Pipeline\n",
    "from sklearn.impute import SimpleImputer\n",
    "from sklearn.preprocessing import OneHotEncoder,OrdinalEncoder,StandardScaler, MinMaxScaler\n",
    "\n",
    "#train_test_split\n",
    "X_train, X_test, y_train, y_test = train_test_split(x, y, test_size=0.3, random_state=42)"
   ]
  },
  {
   "cell_type": "code",
   "execution_count": 316,
   "id": "5e1a07b0-22c1-4d75-9f0e-fa10a5ff213b",
   "metadata": {},
   "outputs": [],
   "source": [
    "# X_train.to_csv('../data/interim/x_train_init.csv', index=False)\n",
    "# X_test.to_csv('../data/interim/x_test_init.csv', index=False)\n",
    "# y_train.to_csv('../data/interim/y_train_init.csv', index=False)\n",
    "# y_test.to_csv('../data/interim/y_test_init.csv', index=False)"
   ]
  },
  {
   "cell_type": "code",
   "execution_count": 318,
   "id": "8cdb36c6-4b30-45d0-b56e-676759a0bf52",
   "metadata": {},
   "outputs": [
    {
     "data": {
      "text/html": [
       "<div>\n",
       "<style scoped>\n",
       "    .dataframe tbody tr th:only-of-type {\n",
       "        vertical-align: middle;\n",
       "    }\n",
       "\n",
       "    .dataframe tbody tr th {\n",
       "        vertical-align: top;\n",
       "    }\n",
       "\n",
       "    .dataframe thead th {\n",
       "        text-align: right;\n",
       "    }\n",
       "</style>\n",
       "<table border=\"1\" class=\"dataframe\">\n",
       "  <thead>\n",
       "    <tr style=\"text-align: right;\">\n",
       "      <th></th>\n",
       "      <th>make_name</th>\n",
       "      <th>price</th>\n",
       "      <th>first_zip_digit</th>\n",
       "      <th>search_views</th>\n",
       "      <th>detail_views</th>\n",
       "      <th>stock_days</th>\n",
       "      <th>live_days</th>\n",
       "    </tr>\n",
       "  </thead>\n",
       "  <tbody>\n",
       "    <tr>\n",
       "      <th>31741</th>\n",
       "      <td>Audi</td>\n",
       "      <td>23900</td>\n",
       "      <td>3</td>\n",
       "      <td>854.0</td>\n",
       "      <td>20.0</td>\n",
       "      <td>32</td>\n",
       "      <td>32</td>\n",
       "    </tr>\n",
       "    <tr>\n",
       "      <th>36475</th>\n",
       "      <td>Mitsubishi</td>\n",
       "      <td>14900</td>\n",
       "      <td>3</td>\n",
       "      <td>2818.0</td>\n",
       "      <td>88.0</td>\n",
       "      <td>7</td>\n",
       "      <td>244</td>\n",
       "    </tr>\n",
       "    <tr>\n",
       "      <th>24577</th>\n",
       "      <td>Citroen</td>\n",
       "      <td>1400</td>\n",
       "      <td>5</td>\n",
       "      <td>1891.0</td>\n",
       "      <td>64.0</td>\n",
       "      <td>28</td>\n",
       "      <td>28</td>\n",
       "    </tr>\n",
       "    <tr>\n",
       "      <th>16079</th>\n",
       "      <td>Renault</td>\n",
       "      <td>12950</td>\n",
       "      <td>3</td>\n",
       "      <td>126.0</td>\n",
       "      <td>1.0</td>\n",
       "      <td>28</td>\n",
       "      <td>28</td>\n",
       "    </tr>\n",
       "    <tr>\n",
       "      <th>23422</th>\n",
       "      <td>Ford</td>\n",
       "      <td>8950</td>\n",
       "      <td>1</td>\n",
       "      <td>598.0</td>\n",
       "      <td>31.0</td>\n",
       "      <td>32</td>\n",
       "      <td>32</td>\n",
       "    </tr>\n",
       "  </tbody>\n",
       "</table>\n",
       "</div>"
      ],
      "text/plain": [
       "        make_name  price  first_zip_digit  search_views  detail_views  \\\n",
       "31741        Audi  23900                3         854.0          20.0   \n",
       "36475  Mitsubishi  14900                3        2818.0          88.0   \n",
       "24577     Citroen   1400                5        1891.0          64.0   \n",
       "16079     Renault  12950                3         126.0           1.0   \n",
       "23422        Ford   8950                1         598.0          31.0   \n",
       "\n",
       "       stock_days  live_days  \n",
       "31741          32         32  \n",
       "36475           7        244  \n",
       "24577          28         28  \n",
       "16079          28         28  \n",
       "23422          32         32  "
      ]
     },
     "execution_count": 318,
     "metadata": {},
     "output_type": "execute_result"
    }
   ],
   "source": [
    "X_train.head()"
   ]
  },
  {
   "cell_type": "code",
   "execution_count": 320,
   "id": "174c5033-8bf5-4ec4-9c5f-d7bf9ceb3340",
   "metadata": {},
   "outputs": [
    {
     "name": "stdout",
     "output_type": "stream",
     "text": [
      "31741    0\n",
      "36475    1\n",
      "24577    0\n",
      "16079    0\n",
      "23422    0\n",
      "        ..\n",
      "11284    0\n",
      "44732    0\n",
      "38158    0\n",
      "860      0\n",
      "15795    0\n",
      "Name: y, Length: 34165, dtype: int8\n"
     ]
    }
   ],
   "source": [
    "print(y_train)"
   ]
  },
  {
   "cell_type": "code",
   "execution_count": 321,
   "id": "15caeaa2-6a3c-4779-94eb-3d30b245b18e",
   "metadata": {},
   "outputs": [],
   "source": [
    "#y_train = np.log(y_train)"
   ]
  },
  {
   "cell_type": "code",
   "execution_count": 324,
   "id": "f4b35d10-8cf4-46cd-87f8-0b6bb1533169",
   "metadata": {},
   "outputs": [],
   "source": [
    "#y_test = np.log(y_test)"
   ]
  },
  {
   "cell_type": "code",
   "execution_count": 325,
   "id": "811057bc-8633-4856-918f-95dc86508375",
   "metadata": {},
   "outputs": [
    {
     "name": "stdout",
     "output_type": "stream",
     "text": [
      "31741    0\n",
      "36475    1\n",
      "24577    0\n",
      "16079    0\n",
      "23422    0\n",
      "        ..\n",
      "11284    0\n",
      "44732    0\n",
      "38158    0\n",
      "860      0\n",
      "15795    0\n",
      "Name: y, Length: 34165, dtype: int8\n"
     ]
    }
   ],
   "source": [
    "print(y_train)"
   ]
  },
  {
   "cell_type": "code",
   "execution_count": 222,
   "id": "2e6fabfd-82f2-41b5-9832-700daec48c4f",
   "metadata": {},
   "outputs": [],
   "source": [
    "from category_encoders import BaseNEncoder"
   ]
  },
  {
   "cell_type": "code",
   "execution_count": 392,
   "id": "8657e7c7-153a-44b0-8c7d-0149ef31533e",
   "metadata": {},
   "outputs": [],
   "source": [
    "from sklearn.preprocessing import FunctionTransformer\n",
    "\n",
    "\n",
    "# Define the log transformation function\n",
    "#log_transformer = FunctionTransformer(np.log, \n",
    "#                                      inverse_func=np.exp, \n",
    "#                                      validate=True)\n",
    "\n",
    "shifted_log_transformer = Pipeline(steps=[\n",
    "    ('shift', FunctionTransformer(lambda x: x + 1)),  # Add 1 to avoid log(0)\n",
    "    ('log', FunctionTransformer(np.log))\n",
    "])\n",
    "\n",
    "# Columns to apply log transformation\n",
    "log_columns = ['price', 'search_views', 'detail_views', 'live_days']"
   ]
  },
  {
   "cell_type": "code",
   "execution_count": 394,
   "id": "66d0d0ad-0114-4746-92de-540f1d3c09ab",
   "metadata": {},
   "outputs": [],
   "source": [
    "#create numerical transformer\n",
    "\n",
    "\n",
    "\n",
    "numerical_transformer = Pipeline([('imputer', SimpleImputer(strategy='mean')), \n",
    "                                  ('scaler', StandardScaler()) ])\n",
    "\n",
    "#create categorical transformer\n",
    "categorical_transformer = Pipeline(steps=[ ('imputer', SimpleImputer(strategy='most_frequent')),\n",
    "                                            ('onehot', OneHotEncoder(handle_unknown='ignore'))\n",
    "                                            ])\n",
    "\n",
    "target_encoding_pipeline = Pipeline(steps=[\n",
    "    ('base_encoder', BaseNEncoder(cols=['make_name'], base=3))\n",
    "])"
   ]
  },
  {
   "cell_type": "code",
   "execution_count": 396,
   "id": "91378296-cb97-4966-a69e-76fd4f766508",
   "metadata": {},
   "outputs": [],
   "source": [
    "# Combine the transformations using ColumnTransformer\n",
    "preprocessor = ColumnTransformer(transformers=[\n",
    "    ('log', shifted_log_transformer, log_columns),\n",
    "    ('base_name', target_encoding_pipeline, ['make_name']),  # TargetEncoder for 'town'\n",
    "    ('num', numerical_transformer, numerical_cols),       # Transformer for numerical columns\n",
    "    ('cat_onehot', categorical_transformer, categorical_cols) # OneHotEncoder for other categorical features\n",
    "])"
   ]
  },
  {
   "cell_type": "code",
   "execution_count": 398,
   "id": "d7de91cc-ab71-4154-9088-0a726459e82d",
   "metadata": {},
   "outputs": [],
   "source": [
    "# #column transformer\n",
    "# preprocessor = ColumnTransformer(\n",
    "#                                 transformers=[\n",
    "#                                     ('num', numerical_transformer, numerical_cols),\n",
    "#                                     ('cat', categorical_transformer, categorical_cols)\n",
    "#     ])"
   ]
  },
  {
   "cell_type": "markdown",
   "id": "e73bc268-5748-4d45-a87b-24ee4aa7918a",
   "metadata": {},
   "source": [
    "# Upsampling"
   ]
  },
  {
   "cell_type": "code",
   "execution_count": null,
   "id": "7e5aed50-ba50-484c-bdc1-59d413985d4a",
   "metadata": {},
   "outputs": [],
   "source": [
    "# from sklearn.utils import resample\n",
    "\n",
    "# sampling_strategy = {\n",
    "#     0: y_train.value_counts()[0],  # Keep class 0 as is\n",
    "#     1: y_train.value_counts()[0],  # Oversample class 1 to the same as class 0\n",
    "#     2: y_train.value_counts()[0]   # Oversample class 2 to the same as class 0\n",
    "# }\n",
    "\n",
    "# # Example of undersampling\n",
    "# oversampler = RandomOverSampler(random_state=42, sampling_strategy=sampling_strategy)\n",
    "# X_train, y_train = oversampler.fit_resample(X_train, y_train)"
   ]
  },
  {
   "cell_type": "code",
   "execution_count": 409,
   "id": "6407ba71-54ce-43d6-838a-cb03a3d4ee4f",
   "metadata": {},
   "outputs": [
    {
     "name": "stdout",
     "output_type": "stream",
     "text": [
      "Number of samples in majority class (Class 0): 33483\n",
      "Class distribution before oversampling:\n",
      "y\n",
      "0    33483\n",
      "1      518\n",
      "2      164\n",
      "Name: count, dtype: int64\n",
      "\n",
      "Class distribution after oversampling:\n",
      "product_tier\n",
      "2    33483\n",
      "1    33483\n",
      "0    33483\n",
      "Name: count, dtype: int64\n"
     ]
    }
   ],
   "source": [
    "from sklearn.utils import resample\n",
    "\n",
    "# Combine features and target into a single DataFrame\n",
    "df_train = pd.concat([X_train, y_train], axis=1)\n",
    "\n",
    "# Rename the target column for clarity (if not already named)\n",
    "# Replace 'target' with your actual target column name if different\n",
    "df_train.columns = list(X_train.columns) + ['product_tier']\n",
    "\n",
    "# Identify the majority class (assumed to be class 0)\n",
    "majority_class = df_train[df_train['product_tier'] == 0]\n",
    "\n",
    "# Identify minority classes\n",
    "minority_class1 = df_train[df_train['product_tier'] == 1]\n",
    "minority_class2 = df_train[df_train['product_tier'] == 2]\n",
    "\n",
    "n_majority = len(majority_class)\n",
    "print(f\"Number of samples in majority class (Class 0): {n_majority}\")\n",
    "\n",
    "# Oversample Class 1\n",
    "minority_class1_upsampled = resample(\n",
    "    minority_class1,\n",
    "    replace=True,           # Sample with replacement\n",
    "    n_samples=n_majority,  # Match number of majority class\n",
    "    random_state=42         # For reproducibility\n",
    ")\n",
    "\n",
    "# Oversample Class 2\n",
    "minority_class2_upsampled = resample(\n",
    "    minority_class2,\n",
    "    replace=True,\n",
    "    n_samples=n_majority,\n",
    "    random_state=42\n",
    ")\n",
    "\n",
    "# Combine majority class with oversampled minority classes\n",
    "df_upsampled = pd.concat([majority_class, minority_class1_upsampled, minority_class2_upsampled])\n",
    "\n",
    "# Shuffle the dataset to ensure random distribution\n",
    "df_upsampled = df_upsampled.sample(frac=1, random_state=42).reset_index(drop=True)\n",
    "\n",
    "# Separate features and target\n",
    "X_train_upsampled = df_upsampled.drop('product_tier', axis=1)\n",
    "y_train_upsampled = df_upsampled['product_tier']\n",
    "\n",
    "print(\"Class distribution before oversampling:\")\n",
    "print(y_train.value_counts())\n",
    "\n",
    "print(\"\\nClass distribution after oversampling:\")\n",
    "print(y_train_upsampled.value_counts())\n",
    "\n",
    "X_train = X_train_upsampled #= df_upsampled.drop('product_tier', axis=1)\n",
    "y_train = y_train_upsampled #= df_upsampled['product_tier']"
   ]
  },
  {
   "cell_type": "code",
   "execution_count": 340,
   "id": "787a02a9-468c-4589-bd53-a598cbece9e0",
   "metadata": {},
   "outputs": [
    {
     "data": {
      "text/plain": [
       "make_name\n",
       "Volkswagen    11866\n",
       "Renault        9047\n",
       "Volvo          7239\n",
       "Peugeot        6556\n",
       "Ford           6232\n",
       "              ...  \n",
       "Daimler           1\n",
       "Casalini          1\n",
       "Buick             1\n",
       "FISKER            1\n",
       "Kawasaki          1\n",
       "Name: count, Length: 72, dtype: int64"
      ]
     },
     "execution_count": 340,
     "metadata": {},
     "output_type": "execute_result"
    }
   ],
   "source": [
    "X_train.make_name.value_counts()"
   ]
  },
  {
   "cell_type": "code",
   "execution_count": 342,
   "id": "b5ff62de-574a-4ecd-b058-b630efcc8acc",
   "metadata": {},
   "outputs": [],
   "source": [
    "# from imblearn.under_sampling import RandomUnderSampler\n",
    "\n",
    "# # Example of undersampling\n",
    "# undersampler = RandomUnderSampler(random_state=42, sampling_strategy='majority')\n",
    "# X_train, y_train = undersampler.fit_resample(X_train, y_train)"
   ]
  },
  {
   "cell_type": "code",
   "execution_count": 344,
   "id": "e7af95d4-6b58-4d57-9ef6-287726d2d577",
   "metadata": {},
   "outputs": [
    {
     "name": "stdout",
     "output_type": "stream",
     "text": [
      "Accuracy for Random Forest Model: 0.7290172778802158\n",
      "Classification Report:\n",
      "               precision    recall  f1-score   support\n",
      "\n",
      "           0       0.99      0.73      0.84     14385\n",
      "           1       0.10      0.54      0.17       181\n",
      "           2       0.01      0.35      0.02        77\n",
      "\n",
      "    accuracy                           0.73     14643\n",
      "   macro avg       0.37      0.54      0.34     14643\n",
      "weighted avg       0.98      0.73      0.83     14643\n",
      "\n"
     ]
    }
   ],
   "source": [
    "from sklearn.ensemble import RandomForestClassifier\n",
    "from sklearn.metrics import accuracy_score, classification_report\n",
    "\n",
    "# Create a RandomForestClassifier model\n",
    "rf = RandomForestClassifier(n_estimators=150, random_state=42, max_depth=4)\n",
    "\n",
    "# Model pipeline\n",
    "rf_pipe = Pipeline(steps=[('preprocessor', preprocessor),\n",
    "                          ('random_forest', rf)\n",
    "                         ])\n",
    "\n",
    "# Preprocessing of training data, fit model \n",
    "rf_pipe.fit(X_train, y_train)\n",
    "\n",
    "# Preprocessing of validation data, get predictions\n",
    "rf_preds = rf_pipe.predict(X_test)\n",
    "\n",
    "# Evaluate the model\n",
    "accuracy = accuracy_score(y_test, rf_preds)\n",
    "print('Accuracy for Random Forest Model:', accuracy)\n",
    "\n",
    "# Detailed classification report\n",
    "print('Classification Report:\\n', classification_report(y_test, rf_preds))\n"
   ]
  },
  {
   "cell_type": "code",
   "execution_count": 236,
   "id": "88a59756-07f3-4738-8ed2-0344f075986c",
   "metadata": {},
   "outputs": [
    {
     "name": "stdout",
     "output_type": "stream",
     "text": [
      "Accuracy for Random Forest Model: 0.6367345532237499\n",
      "Classification Report:\n",
      "               precision    recall  f1-score   support\n",
      "\n",
      "           0       0.61      0.73      0.66     48365\n",
      "           1       0.68      0.61      0.65     48365\n",
      "           2       0.63      0.57      0.60     48365\n",
      "\n",
      "    accuracy                           0.64    145095\n",
      "   macro avg       0.64      0.64      0.64    145095\n",
      "weighted avg       0.64      0.64      0.64    145095\n",
      "\n"
     ]
    }
   ],
   "source": [
    "rf_preds = rf_pipe.predict(X_train)\n",
    "\n",
    "# Evaluate the model\n",
    "accuracy = accuracy_score(y_train, rf_preds)\n",
    "print('Accuracy for Random Forest Model:', accuracy)\n",
    "\n",
    "# Detailed classification report\n",
    "print('Classification Report:\\n', classification_report(y_train, rf_preds))\n"
   ]
  },
  {
   "cell_type": "code",
   "execution_count": 238,
   "id": "1628601b-a188-44dd-98e1-ac2871c4a135",
   "metadata": {},
   "outputs": [
    {
     "ename": "AttributeError",
     "evalue": "Estimator shift does not provide get_feature_names_out. Did you mean to call pipeline[:-1].get_feature_names_out()?",
     "output_type": "error",
     "traceback": [
      "\u001b[1;31m---------------------------------------------------------------------------\u001b[0m",
      "\u001b[1;31mAttributeError\u001b[0m                            Traceback (most recent call last)",
      "Cell \u001b[1;32mIn[238], line 3\u001b[0m\n\u001b[0;32m      1\u001b[0m \u001b[38;5;28;01mimport\u001b[39;00m \u001b[38;5;21;01mplotly\u001b[39;00m\u001b[38;5;21;01m.\u001b[39;00m\u001b[38;5;21;01mgraph_objects\u001b[39;00m \u001b[38;5;28;01mas\u001b[39;00m \u001b[38;5;21;01mgo\u001b[39;00m\n\u001b[0;32m      2\u001b[0m \u001b[38;5;66;03m# Get feature names from the preprocessor\u001b[39;00m\n\u001b[1;32m----> 3\u001b[0m feature_names \u001b[38;5;241m=\u001b[39m preprocessor\u001b[38;5;241m.\u001b[39mget_feature_names_out()\n\u001b[0;32m      5\u001b[0m importances \u001b[38;5;241m=\u001b[39m rf\u001b[38;5;241m.\u001b[39mfeature_importances_\n\u001b[0;32m      7\u001b[0m \u001b[38;5;66;03m# Get the feature importances from the Random Forest model\u001b[39;00m\n\u001b[0;32m      8\u001b[0m \u001b[38;5;66;03m# Create a dictionary mapping feature names to their importances\u001b[39;00m\n",
      "File \u001b[1;32m~\\anaconda3\\Lib\\site-packages\\sklearn\\compose\\_column_transformer.py:568\u001b[0m, in \u001b[0;36mColumnTransformer.get_feature_names_out\u001b[1;34m(self, input_features)\u001b[0m\n\u001b[0;32m    561\u001b[0m transformer_with_feature_names_out \u001b[38;5;241m=\u001b[39m []\n\u001b[0;32m    562\u001b[0m \u001b[38;5;28;01mfor\u001b[39;00m name, trans, \u001b[38;5;241m*\u001b[39m_ \u001b[38;5;129;01min\u001b[39;00m \u001b[38;5;28mself\u001b[39m\u001b[38;5;241m.\u001b[39m_iter(\n\u001b[0;32m    563\u001b[0m     fitted\u001b[38;5;241m=\u001b[39m\u001b[38;5;28;01mTrue\u001b[39;00m,\n\u001b[0;32m    564\u001b[0m     column_as_labels\u001b[38;5;241m=\u001b[39m\u001b[38;5;28;01mFalse\u001b[39;00m,\n\u001b[0;32m    565\u001b[0m     skip_empty_columns\u001b[38;5;241m=\u001b[39m\u001b[38;5;28;01mTrue\u001b[39;00m,\n\u001b[0;32m    566\u001b[0m     skip_drop\u001b[38;5;241m=\u001b[39m\u001b[38;5;28;01mTrue\u001b[39;00m,\n\u001b[0;32m    567\u001b[0m ):\n\u001b[1;32m--> 568\u001b[0m     feature_names_out \u001b[38;5;241m=\u001b[39m \u001b[38;5;28mself\u001b[39m\u001b[38;5;241m.\u001b[39m_get_feature_name_out_for_transformer(\n\u001b[0;32m    569\u001b[0m         name, trans, input_features\n\u001b[0;32m    570\u001b[0m     )\n\u001b[0;32m    571\u001b[0m     \u001b[38;5;28;01mif\u001b[39;00m feature_names_out \u001b[38;5;129;01mis\u001b[39;00m \u001b[38;5;28;01mNone\u001b[39;00m:\n\u001b[0;32m    572\u001b[0m         \u001b[38;5;28;01mcontinue\u001b[39;00m\n",
      "File \u001b[1;32m~\\anaconda3\\Lib\\site-packages\\sklearn\\compose\\_column_transformer.py:535\u001b[0m, in \u001b[0;36mColumnTransformer._get_feature_name_out_for_transformer\u001b[1;34m(self, name, trans, feature_names_in)\u001b[0m\n\u001b[0;32m    530\u001b[0m \u001b[38;5;28;01mif\u001b[39;00m \u001b[38;5;129;01mnot\u001b[39;00m \u001b[38;5;28mhasattr\u001b[39m(trans, \u001b[38;5;124m\"\u001b[39m\u001b[38;5;124mget_feature_names_out\u001b[39m\u001b[38;5;124m\"\u001b[39m):\n\u001b[0;32m    531\u001b[0m     \u001b[38;5;28;01mraise\u001b[39;00m \u001b[38;5;167;01mAttributeError\u001b[39;00m(\n\u001b[0;32m    532\u001b[0m         \u001b[38;5;124mf\u001b[39m\u001b[38;5;124m\"\u001b[39m\u001b[38;5;124mTransformer \u001b[39m\u001b[38;5;132;01m{\u001b[39;00mname\u001b[38;5;132;01m}\u001b[39;00m\u001b[38;5;124m (type \u001b[39m\u001b[38;5;132;01m{\u001b[39;00m\u001b[38;5;28mtype\u001b[39m(trans)\u001b[38;5;241m.\u001b[39m\u001b[38;5;18m__name__\u001b[39m\u001b[38;5;132;01m}\u001b[39;00m\u001b[38;5;124m) does \u001b[39m\u001b[38;5;124m\"\u001b[39m\n\u001b[0;32m    533\u001b[0m         \u001b[38;5;124m\"\u001b[39m\u001b[38;5;124mnot provide get_feature_names_out.\u001b[39m\u001b[38;5;124m\"\u001b[39m\n\u001b[0;32m    534\u001b[0m     )\n\u001b[1;32m--> 535\u001b[0m \u001b[38;5;28;01mreturn\u001b[39;00m trans\u001b[38;5;241m.\u001b[39mget_feature_names_out(names)\n",
      "File \u001b[1;32m~\\anaconda3\\Lib\\site-packages\\sklearn\\pipeline.py:1062\u001b[0m, in \u001b[0;36mPipeline.get_feature_names_out\u001b[1;34m(self, input_features)\u001b[0m\n\u001b[0;32m   1060\u001b[0m \u001b[38;5;28;01mfor\u001b[39;00m _, name, transform \u001b[38;5;129;01min\u001b[39;00m \u001b[38;5;28mself\u001b[39m\u001b[38;5;241m.\u001b[39m_iter():\n\u001b[0;32m   1061\u001b[0m     \u001b[38;5;28;01mif\u001b[39;00m \u001b[38;5;129;01mnot\u001b[39;00m \u001b[38;5;28mhasattr\u001b[39m(transform, \u001b[38;5;124m\"\u001b[39m\u001b[38;5;124mget_feature_names_out\u001b[39m\u001b[38;5;124m\"\u001b[39m):\n\u001b[1;32m-> 1062\u001b[0m         \u001b[38;5;28;01mraise\u001b[39;00m \u001b[38;5;167;01mAttributeError\u001b[39;00m(\n\u001b[0;32m   1063\u001b[0m             \u001b[38;5;124m\"\u001b[39m\u001b[38;5;124mEstimator \u001b[39m\u001b[38;5;132;01m{}\u001b[39;00m\u001b[38;5;124m does not provide get_feature_names_out. \u001b[39m\u001b[38;5;124m\"\u001b[39m\n\u001b[0;32m   1064\u001b[0m             \u001b[38;5;124m\"\u001b[39m\u001b[38;5;124mDid you mean to call pipeline[:-1].get_feature_names_out\u001b[39m\u001b[38;5;124m\"\u001b[39m\n\u001b[0;32m   1065\u001b[0m             \u001b[38;5;124m\"\u001b[39m\u001b[38;5;124m()?\u001b[39m\u001b[38;5;124m\"\u001b[39m\u001b[38;5;241m.\u001b[39mformat(name)\n\u001b[0;32m   1066\u001b[0m         )\n\u001b[0;32m   1067\u001b[0m     feature_names_out \u001b[38;5;241m=\u001b[39m transform\u001b[38;5;241m.\u001b[39mget_feature_names_out(feature_names_out)\n\u001b[0;32m   1068\u001b[0m \u001b[38;5;28;01mreturn\u001b[39;00m feature_names_out\n",
      "\u001b[1;31mAttributeError\u001b[0m: Estimator shift does not provide get_feature_names_out. Did you mean to call pipeline[:-1].get_feature_names_out()?"
     ]
    }
   ],
   "source": [
    "import plotly.graph_objects as go\n",
    "# Get feature names from the preprocessor\n",
    "feature_names = preprocessor.get_feature_names_out()\n",
    "\n",
    "importances = rf.feature_importances_\n",
    "\n",
    "# Get the feature importances from the Random Forest model\n",
    "# Create a dictionary mapping feature names to their importances\n",
    "feature_importance_dict = dict(zip(feature_names, importances))\n",
    "\n",
    "# Optional: Sort the dictionary by importance in descending order\n",
    "feature_importance_sorted = dict(sorted(feature_importance_dict.items(), key=lambda item: item[1], reverse=True))\n",
    "\n",
    "fig = go.Figure(data=[\n",
    "        go.Bar(\n",
    "            x=list(feature_importance_sorted.keys()),\n",
    "            y=list(feature_importance_sorted.values()),\n",
    "            marker=dict(color='skyblue'),\n",
    "            text=[f\"{v:.3f}\" for v in feature_importance_sorted.values()],\n",
    "            textposition='auto'\n",
    "        )\n",
    "    ])\n",
    "\n",
    "# Update layout for better aesthetics\n",
    "fig.update_layout(\n",
    "    title='Feature Importances from Random Forest',\n",
    "    xaxis_title='Features',\n",
    "    yaxis_title=\"Importance Score\",\n",
    "    template='plotly_white',\n",
    "    height=600\n",
    ")\n",
    "\n",
    "# Display the figure\n",
    "fig.show()"
   ]
  },
  {
   "cell_type": "code",
   "execution_count": null,
   "id": "907939ed-4e00-478d-b235-9d50407c1b7c",
   "metadata": {},
   "outputs": [],
   "source": [
    "#show decision tree\n",
    "import matplotlib.pyplot as plt\n",
    "\n",
    "plt.rcParams[\"figure.figsize\"] = (80,40)\n",
    "tree.plot_tree(rf,filled = True);\n",
    "#plt.savefig('./images/tree_example.png')"
   ]
  },
  {
   "cell_type": "code",
   "execution_count": 463,
   "id": "cfd5f926-ad3b-4fb7-b1f8-c9985a85b5eb",
   "metadata": {},
   "outputs": [
    {
     "name": "stdout",
     "output_type": "stream",
     "text": [
      "Accuracy for XGBoost: 0.9296592228368503\n",
      "Classification Report:\n",
      "               precision    recall  f1-score   support\n",
      "\n",
      "           0       0.99      0.94      0.96     14385\n",
      "           1       0.17      0.69      0.27       181\n",
      "           2       0.04      0.18      0.07        77\n",
      "\n",
      "    accuracy                           0.93     14643\n",
      "   macro avg       0.40      0.60      0.43     14643\n",
      "weighted avg       0.98      0.93      0.95     14643\n",
      "\n"
     ]
    }
   ],
   "source": [
    "from sklearn.ensemble import RandomForestClassifier\n",
    "from sklearn.metrics import accuracy_score, classification_report\n",
    "from xgboost import XGBClassifier\n",
    "# XGBoost\n",
    "xgb = XGBClassifier(\n",
    "    n_estimators=1000,\n",
    "    learning_rate=0.3,\n",
    "    max_depth=4,\n",
    "    random_state=42,\n",
    "    subsample=0.7,\n",
    "    gamma=3,  # Increased from default\n",
    "    reg_alpha=8,    # Added L1 regularization\n",
    "    #reg_lambda=3,   # Added L2 regularization (can also be increased)\n",
    "    eval_metric='mlogloss'\n",
    ")\n",
    "\n",
    "# Model pipeline\n",
    "rf_pipe = Pipeline(steps=[\n",
    "    ('preprocessor', preprocessor),\n",
    "    ('xgboost', xgb)\n",
    "])\n",
    "\n",
    "# Preprocessing of training data, fit model \n",
    "rf_pipe.fit(X_train, y_train)\n",
    "\n",
    "# Preprocessing of validation data, get predictions\n",
    "rf_preds = rf_pipe.predict(X_test)\n",
    "\n",
    "# Evaluate the model\n",
    "accuracy = accuracy_score(y_test, rf_preds)\n",
    "print('Accuracy for XGBoost:', accuracy)\n",
    "\n",
    "# Detailed classification report\n",
    "print('Classification Report:\\n', classification_report(y_test, rf_preds))"
   ]
  },
  {
   "cell_type": "code",
   "execution_count": 449,
   "id": "2a1526b1-9c87-47d0-87c0-675e6ad8bc9c",
   "metadata": {},
   "outputs": [
    {
     "name": "stdout",
     "output_type": "stream",
     "text": [
      "Accuracy for Random Forest Model: 0.9836633515515336\n",
      "Classification Report:\n",
      "               precision    recall  f1-score   support\n",
      "\n",
      "           0       1.00      0.95      0.97     33483\n",
      "           1       0.97      1.00      0.98     33483\n",
      "           2       0.98      1.00      0.99     33483\n",
      "\n",
      "    accuracy                           0.98    100449\n",
      "   macro avg       0.98      0.98      0.98    100449\n",
      "weighted avg       0.98      0.98      0.98    100449\n",
      "\n"
     ]
    }
   ],
   "source": [
    "rf_preds = rf_pipe.predict(X_train)\n",
    "\n",
    "# Evaluate the model\n",
    "accuracy = accuracy_score(y_train, rf_preds)\n",
    "print('Accuracy for Random Forest Model:', accuracy)\n",
    "\n",
    "# Detailed classification report\n",
    "print('Classification Report:\\n', classification_report(y_train, rf_preds))\n"
   ]
  },
  {
   "cell_type": "code",
   "execution_count": null,
   "id": "ab5c2d67-19d9-4351-9e25-748960a4a0cc",
   "metadata": {},
   "outputs": [],
   "source": []
  }
 ],
 "metadata": {
  "kernelspec": {
   "display_name": "Python 3 (ipykernel)",
   "language": "python",
   "name": "python3"
  },
  "language_info": {
   "codemirror_mode": {
    "name": "ipython",
    "version": 3
   },
   "file_extension": ".py",
   "mimetype": "text/x-python",
   "name": "python",
   "nbconvert_exporter": "python",
   "pygments_lexer": "ipython3",
   "version": "3.12.4"
  }
 },
 "nbformat": 4,
 "nbformat_minor": 5
}
