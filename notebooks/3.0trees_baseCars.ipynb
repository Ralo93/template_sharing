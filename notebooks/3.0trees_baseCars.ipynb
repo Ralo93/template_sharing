{
 "cells": [
  {
   "cell_type": "code",
   "execution_count": 3,
   "id": "cb6cdfd8-dfe5-46cf-86d2-c5b3b1bf1aa7",
   "metadata": {},
   "outputs": [],
   "source": [
    "import pandas as pd\n",
    "import os\n",
    "import numpy as np\n",
    "import sys\n",
    "sys.path.append('..')"
   ]
  },
  {
   "cell_type": "code",
   "execution_count": 4,
   "id": "fb05d577-22db-430e-8506-7475993af1e8",
   "metadata": {},
   "outputs": [],
   "source": [
    "os.chdir(r'C:\\Users\\Administrator\\Desktop\\raphi_other\\repositories\\template_project\\src')"
   ]
  },
  {
   "cell_type": "code",
   "execution_count": 155,
   "id": "247204ae-0303-4211-91f1-00b4386bc74a",
   "metadata": {},
   "outputs": [],
   "source": [
    "data = pd.read_csv(r'../data/interim/cars_data.csv')"
   ]
  },
  {
   "cell_type": "code",
   "execution_count": 157,
   "id": "e347cb66-78fe-4d38-84cd-ef6f2cade47a",
   "metadata": {},
   "outputs": [],
   "source": [
    "#test = pd.read_csv(r'../data/interim/test.csv')"
   ]
  },
  {
   "cell_type": "code",
   "execution_count": null,
   "id": "c7ec3b33-ef3b-49a1-97fc-d5565b8ab4eb",
   "metadata": {},
   "outputs": [],
   "source": []
  },
  {
   "cell_type": "code",
   "execution_count": 160,
   "id": "1570c48a-005b-4cd4-b74f-9b08857e0b3d",
   "metadata": {},
   "outputs": [],
   "source": [
    "columns_to_drop = ['article_id', 'created_date', 'deleted_date', 'ctr']#, 'SCC', 'SMOKE', 'FAVC', 'MTRANS']\n",
    "data = data.drop(columns=columns_to_drop)"
   ]
  },
  {
   "cell_type": "code",
   "execution_count": 162,
   "id": "d336fbcc-72f7-4300-a5cd-17ec63a31ec0",
   "metadata": {},
   "outputs": [],
   "source": [
    "x = data.drop(columns=['product_tier'])\n",
    "y = data.product_tier"
   ]
  },
  {
   "cell_type": "code",
   "execution_count": 164,
   "id": "dabc8af1-ed69-4b22-8cce-7e460847629c",
   "metadata": {},
   "outputs": [],
   "source": [
    "# x['ctr'] = x['ctr'].astype('float64')"
   ]
  },
  {
   "cell_type": "code",
   "execution_count": 166,
   "id": "a69a60d6-f654-4f49-abe2-793c473e596e",
   "metadata": {},
   "outputs": [],
   "source": [
    "numerical_df = data.select_dtypes(exclude=['object'])\n",
    "categorical_df = data.select_dtypes(include=['object'])"
   ]
  },
  {
   "cell_type": "code",
   "execution_count": 168,
   "id": "d47991ab-2c2f-4e13-92c3-4ccc30463c65",
   "metadata": {},
   "outputs": [
    {
     "data": {
      "text/plain": [
       "0        Basic\n",
       "1        Basic\n",
       "2        Basic\n",
       "3        Basic\n",
       "4        Basic\n",
       "         ...  \n",
       "70619    Basic\n",
       "70620    Basic\n",
       "70621    Basic\n",
       "70622    Basic\n",
       "70623    Basic\n",
       "Name: product_tier, Length: 70624, dtype: object"
      ]
     },
     "execution_count": 168,
     "metadata": {},
     "output_type": "execute_result"
    }
   ],
   "source": [
    "y"
   ]
  },
  {
   "cell_type": "code",
   "execution_count": 170,
   "id": "0d1e7953-63b0-49fa-a4a8-c7d7c906adff",
   "metadata": {},
   "outputs": [],
   "source": [
    "#x.to_csv('../data/interim/house_xinit.csv', index=False)\n",
    "#y.to_csv('../data/interim/house_yinit.csv', index=False)"
   ]
  },
  {
   "cell_type": "code",
   "execution_count": 172,
   "id": "0dcb800e-4e22-4783-a3ae-9ab94693f41f",
   "metadata": {},
   "outputs": [],
   "source": [
    "#y.value_counts()"
   ]
  },
  {
   "cell_type": "markdown",
   "id": "ab827066-2a10-4c99-b9af-79f9c21110c8",
   "metadata": {},
   "source": [
    "# Ordinal Encoding of y"
   ]
  },
  {
   "cell_type": "code",
   "execution_count": 175,
   "id": "7bd04be0-4a74-43c9-8b31-13fea3df1a82",
   "metadata": {},
   "outputs": [],
   "source": [
    "order = ['Basic', 'Premium', 'Plus']#, 'Overweight_Level_II', 'Obesity_Type_I', 'Obesity_Type_II', 'Obesity_Type_III']\n",
    "\n",
    "# Convert 'y' to a categorical type with the specified order\n",
    "y = pd.Categorical(y, categories=order, ordered=True).codes"
   ]
  },
  {
   "cell_type": "code",
   "execution_count": 177,
   "id": "a4e9bbd0-6ed8-4553-9baa-9d8db066c0df",
   "metadata": {},
   "outputs": [],
   "source": [
    "y = pd.Series(y, name='y')"
   ]
  },
  {
   "cell_type": "code",
   "execution_count": 99,
   "id": "87e15cf7-2a3c-47d5-8919-c76916a2e530",
   "metadata": {},
   "outputs": [
    {
     "data": {
      "text/plain": [
       "0        0\n",
       "1        0\n",
       "2        0\n",
       "3        0\n",
       "4        0\n",
       "        ..\n",
       "70619    0\n",
       "70620    0\n",
       "70621    0\n",
       "70622    0\n",
       "70623    0\n",
       "Name: y, Length: 70624, dtype: int8"
      ]
     },
     "execution_count": 99,
     "metadata": {},
     "output_type": "execute_result"
    }
   ],
   "source": [
    "y"
   ]
  },
  {
   "cell_type": "code",
   "execution_count": 179,
   "id": "d57f2412-7b53-4d03-941d-3d9eb466d0dc",
   "metadata": {},
   "outputs": [],
   "source": [
    "numerical_df = x.select_dtypes(exclude=['object'])\n",
    "categorical_df = x.select_dtypes(include=['object'])"
   ]
  },
  {
   "cell_type": "code",
   "execution_count": 181,
   "id": "3ccd1634-c3b0-4380-9fb2-799c79542748",
   "metadata": {},
   "outputs": [
    {
     "data": {
      "text/html": [
       "<div>\n",
       "<style scoped>\n",
       "    .dataframe tbody tr th:only-of-type {\n",
       "        vertical-align: middle;\n",
       "    }\n",
       "\n",
       "    .dataframe tbody tr th {\n",
       "        vertical-align: top;\n",
       "    }\n",
       "\n",
       "    .dataframe thead th {\n",
       "        text-align: right;\n",
       "    }\n",
       "</style>\n",
       "<table border=\"1\" class=\"dataframe\">\n",
       "  <thead>\n",
       "    <tr style=\"text-align: right;\">\n",
       "      <th></th>\n",
       "      <th>price</th>\n",
       "      <th>first_zip_digit</th>\n",
       "      <th>first_registration_year</th>\n",
       "      <th>search_views</th>\n",
       "      <th>detail_views</th>\n",
       "      <th>stock_days</th>\n",
       "    </tr>\n",
       "  </thead>\n",
       "  <tbody>\n",
       "    <tr>\n",
       "      <th>0</th>\n",
       "      <td>16750</td>\n",
       "      <td>5</td>\n",
       "      <td>2013</td>\n",
       "      <td>3091.0</td>\n",
       "      <td>123.0</td>\n",
       "      <td>30</td>\n",
       "    </tr>\n",
       "    <tr>\n",
       "      <th>1</th>\n",
       "      <td>35950</td>\n",
       "      <td>4</td>\n",
       "      <td>2015</td>\n",
       "      <td>3283.0</td>\n",
       "      <td>223.0</td>\n",
       "      <td>52</td>\n",
       "    </tr>\n",
       "    <tr>\n",
       "      <th>2</th>\n",
       "      <td>1750</td>\n",
       "      <td>6</td>\n",
       "      <td>2003</td>\n",
       "      <td>1856.0</td>\n",
       "      <td>26.0</td>\n",
       "      <td>101</td>\n",
       "    </tr>\n",
       "    <tr>\n",
       "      <th>3</th>\n",
       "      <td>26500</td>\n",
       "      <td>3</td>\n",
       "      <td>2014</td>\n",
       "      <td>490.0</td>\n",
       "      <td>20.0</td>\n",
       "      <td>12</td>\n",
       "    </tr>\n",
       "    <tr>\n",
       "      <th>4</th>\n",
       "      <td>24890</td>\n",
       "      <td>6</td>\n",
       "      <td>2017</td>\n",
       "      <td>125.0</td>\n",
       "      <td>6.0</td>\n",
       "      <td>2</td>\n",
       "    </tr>\n",
       "    <tr>\n",
       "      <th>...</th>\n",
       "      <td>...</td>\n",
       "      <td>...</td>\n",
       "      <td>...</td>\n",
       "      <td>...</td>\n",
       "      <td>...</td>\n",
       "      <td>...</td>\n",
       "    </tr>\n",
       "    <tr>\n",
       "      <th>70619</th>\n",
       "      <td>3297</td>\n",
       "      <td>3</td>\n",
       "      <td>2008</td>\n",
       "      <td>604.0</td>\n",
       "      <td>34.0</td>\n",
       "      <td>4</td>\n",
       "    </tr>\n",
       "    <tr>\n",
       "      <th>70620</th>\n",
       "      <td>2950</td>\n",
       "      <td>6</td>\n",
       "      <td>2006</td>\n",
       "      <td>1175.0</td>\n",
       "      <td>16.0</td>\n",
       "      <td>25</td>\n",
       "    </tr>\n",
       "    <tr>\n",
       "      <th>70621</th>\n",
       "      <td>7850</td>\n",
       "      <td>8</td>\n",
       "      <td>2014</td>\n",
       "      <td>448.0</td>\n",
       "      <td>21.0</td>\n",
       "      <td>16</td>\n",
       "    </tr>\n",
       "    <tr>\n",
       "      <th>70622</th>\n",
       "      <td>13945</td>\n",
       "      <td>5</td>\n",
       "      <td>2011</td>\n",
       "      <td>1617.0</td>\n",
       "      <td>29.0</td>\n",
       "      <td>28</td>\n",
       "    </tr>\n",
       "    <tr>\n",
       "      <th>70623</th>\n",
       "      <td>38800</td>\n",
       "      <td>7</td>\n",
       "      <td>2018</td>\n",
       "      <td>55.0</td>\n",
       "      <td>2.0</td>\n",
       "      <td>1</td>\n",
       "    </tr>\n",
       "  </tbody>\n",
       "</table>\n",
       "<p>70624 rows × 6 columns</p>\n",
       "</div>"
      ],
      "text/plain": [
       "       price  first_zip_digit  first_registration_year  search_views  \\\n",
       "0      16750                5                     2013        3091.0   \n",
       "1      35950                4                     2015        3283.0   \n",
       "2       1750                6                     2003        1856.0   \n",
       "3      26500                3                     2014         490.0   \n",
       "4      24890                6                     2017         125.0   \n",
       "...      ...              ...                      ...           ...   \n",
       "70619   3297                3                     2008         604.0   \n",
       "70620   2950                6                     2006        1175.0   \n",
       "70621   7850                8                     2014         448.0   \n",
       "70622  13945                5                     2011        1617.0   \n",
       "70623  38800                7                     2018          55.0   \n",
       "\n",
       "       detail_views  stock_days  \n",
       "0             123.0          30  \n",
       "1             223.0          52  \n",
       "2              26.0         101  \n",
       "3              20.0          12  \n",
       "4               6.0           2  \n",
       "...             ...         ...  \n",
       "70619          34.0           4  \n",
       "70620          16.0          25  \n",
       "70621          21.0          16  \n",
       "70622          29.0          28  \n",
       "70623           2.0           1  \n",
       "\n",
       "[70624 rows x 6 columns]"
      ]
     },
     "execution_count": 181,
     "metadata": {},
     "output_type": "execute_result"
    }
   ],
   "source": [
    "numerical_df"
   ]
  },
  {
   "cell_type": "code",
   "execution_count": 183,
   "id": "6105a8e5-7d7f-4b87-838e-bdc34fabbb05",
   "metadata": {},
   "outputs": [
    {
     "data": {
      "text/html": [
       "<div>\n",
       "<style scoped>\n",
       "    .dataframe tbody tr th:only-of-type {\n",
       "        vertical-align: middle;\n",
       "    }\n",
       "\n",
       "    .dataframe tbody tr th {\n",
       "        vertical-align: top;\n",
       "    }\n",
       "\n",
       "    .dataframe thead th {\n",
       "        text-align: right;\n",
       "    }\n",
       "</style>\n",
       "<table border=\"1\" class=\"dataframe\">\n",
       "  <thead>\n",
       "    <tr style=\"text-align: right;\">\n",
       "      <th></th>\n",
       "      <th>make_name</th>\n",
       "    </tr>\n",
       "  </thead>\n",
       "  <tbody>\n",
       "    <tr>\n",
       "      <th>0</th>\n",
       "      <td>Mitsubishi</td>\n",
       "    </tr>\n",
       "    <tr>\n",
       "      <th>1</th>\n",
       "      <td>Mercedes-Benz</td>\n",
       "    </tr>\n",
       "    <tr>\n",
       "      <th>2</th>\n",
       "      <td>Ford</td>\n",
       "    </tr>\n",
       "    <tr>\n",
       "      <th>3</th>\n",
       "      <td>Mercedes-Benz</td>\n",
       "    </tr>\n",
       "    <tr>\n",
       "      <th>4</th>\n",
       "      <td>Volkswagen</td>\n",
       "    </tr>\n",
       "    <tr>\n",
       "      <th>...</th>\n",
       "      <td>...</td>\n",
       "    </tr>\n",
       "    <tr>\n",
       "      <th>70619</th>\n",
       "      <td>Ford</td>\n",
       "    </tr>\n",
       "    <tr>\n",
       "      <th>70620</th>\n",
       "      <td>Hyundai</td>\n",
       "    </tr>\n",
       "    <tr>\n",
       "      <th>70621</th>\n",
       "      <td>Volkswagen</td>\n",
       "    </tr>\n",
       "    <tr>\n",
       "      <th>70622</th>\n",
       "      <td>Toyota</td>\n",
       "    </tr>\n",
       "    <tr>\n",
       "      <th>70623</th>\n",
       "      <td>Volkswagen</td>\n",
       "    </tr>\n",
       "  </tbody>\n",
       "</table>\n",
       "<p>70624 rows × 1 columns</p>\n",
       "</div>"
      ],
      "text/plain": [
       "           make_name\n",
       "0         Mitsubishi\n",
       "1      Mercedes-Benz\n",
       "2               Ford\n",
       "3      Mercedes-Benz\n",
       "4         Volkswagen\n",
       "...              ...\n",
       "70619           Ford\n",
       "70620        Hyundai\n",
       "70621     Volkswagen\n",
       "70622         Toyota\n",
       "70623     Volkswagen\n",
       "\n",
       "[70624 rows x 1 columns]"
      ]
     },
     "execution_count": 183,
     "metadata": {},
     "output_type": "execute_result"
    }
   ],
   "source": [
    "categorical_df"
   ]
  },
  {
   "cell_type": "code",
   "execution_count": 185,
   "id": "1e21e0ba-8e98-4417-8c6c-15da381b4e93",
   "metadata": {},
   "outputs": [],
   "source": [
    "# Select categorical columns with relatively low cardinality (convenient but arbitrary)\n",
    "categorical_cols = [cname for cname in x.columns if x[cname].nunique() < 800 and x[cname].dtype == \"object\"]\n",
    "\n",
    "# Select numerical columns\n",
    "numerical_cols = [cname for cname in x.columns if x[cname].dtype in ['int64', 'float64']]"
   ]
  },
  {
   "cell_type": "code",
   "execution_count": 187,
   "id": "77951823-cea5-4021-b7b7-02c929708c90",
   "metadata": {},
   "outputs": [
    {
     "data": {
      "text/plain": [
       "['make_name']"
      ]
     },
     "execution_count": 187,
     "metadata": {},
     "output_type": "execute_result"
    }
   ],
   "source": [
    "categorical_cols"
   ]
  },
  {
   "cell_type": "code",
   "execution_count": 214,
   "id": "69ed1c56-2f5c-464d-b2fd-dab231f80748",
   "metadata": {},
   "outputs": [],
   "source": [
    "from sklearn.model_selection import train_test_split\n",
    "from sklearn.compose import ColumnTransformer\n",
    "from sklearn.pipeline import Pipeline\n",
    "from sklearn.impute import SimpleImputer\n",
    "from sklearn.preprocessing import OneHotEncoder,OrdinalEncoder,StandardScaler, MinMaxScaler\n",
    "\n",
    "#train_test_split\n",
    "X_train, X_test, y_train, y_test = train_test_split(x, y, test_size=0.3, random_state=42)"
   ]
  },
  {
   "cell_type": "code",
   "execution_count": 36,
   "id": "5e1a07b0-22c1-4d75-9f0e-fa10a5ff213b",
   "metadata": {},
   "outputs": [],
   "source": [
    "# X_train.to_csv('../data/interim/x_train_init.csv', index=False)\n",
    "# X_test.to_csv('../data/interim/x_test_init.csv', index=False)\n",
    "# y_train.to_csv('../data/interim/y_train_init.csv', index=False)\n",
    "# y_test.to_csv('../data/interim/y_test_init.csv', index=False)"
   ]
  },
  {
   "cell_type": "code",
   "execution_count": 114,
   "id": "8cdb36c6-4b30-45d0-b56e-676759a0bf52",
   "metadata": {},
   "outputs": [
    {
     "data": {
      "text/html": [
       "<div>\n",
       "<style scoped>\n",
       "    .dataframe tbody tr th:only-of-type {\n",
       "        vertical-align: middle;\n",
       "    }\n",
       "\n",
       "    .dataframe tbody tr th {\n",
       "        vertical-align: top;\n",
       "    }\n",
       "\n",
       "    .dataframe thead th {\n",
       "        text-align: right;\n",
       "    }\n",
       "</style>\n",
       "<table border=\"1\" class=\"dataframe\">\n",
       "  <thead>\n",
       "    <tr style=\"text-align: right;\">\n",
       "      <th></th>\n",
       "      <th>make_name</th>\n",
       "      <th>price</th>\n",
       "      <th>first_zip_digit</th>\n",
       "      <th>first_registration_year</th>\n",
       "      <th>search_views</th>\n",
       "      <th>detail_views</th>\n",
       "      <th>stock_days</th>\n",
       "    </tr>\n",
       "  </thead>\n",
       "  <tbody>\n",
       "    <tr>\n",
       "      <th>46652</th>\n",
       "      <td>Volkswagen</td>\n",
       "      <td>7950</td>\n",
       "      <td>4</td>\n",
       "      <td>2011</td>\n",
       "      <td>5129.0</td>\n",
       "      <td>140.0</td>\n",
       "      <td>72</td>\n",
       "    </tr>\n",
       "    <tr>\n",
       "      <th>18143</th>\n",
       "      <td>Renault</td>\n",
       "      <td>6940</td>\n",
       "      <td>1</td>\n",
       "      <td>2012</td>\n",
       "      <td>344.0</td>\n",
       "      <td>12.0</td>\n",
       "      <td>23</td>\n",
       "    </tr>\n",
       "    <tr>\n",
       "      <th>30058</th>\n",
       "      <td>Kia</td>\n",
       "      <td>13945</td>\n",
       "      <td>5</td>\n",
       "      <td>2014</td>\n",
       "      <td>139.0</td>\n",
       "      <td>8.0</td>\n",
       "      <td>4</td>\n",
       "    </tr>\n",
       "    <tr>\n",
       "      <th>33137</th>\n",
       "      <td>Fiat</td>\n",
       "      <td>3495</td>\n",
       "      <td>5</td>\n",
       "      <td>2006</td>\n",
       "      <td>884.0</td>\n",
       "      <td>45.0</td>\n",
       "      <td>59</td>\n",
       "    </tr>\n",
       "    <tr>\n",
       "      <th>52540</th>\n",
       "      <td>Peugeot</td>\n",
       "      <td>9295</td>\n",
       "      <td>7</td>\n",
       "      <td>2014</td>\n",
       "      <td>1118.0</td>\n",
       "      <td>21.0</td>\n",
       "      <td>21</td>\n",
       "    </tr>\n",
       "  </tbody>\n",
       "</table>\n",
       "</div>"
      ],
      "text/plain": [
       "        make_name  price  first_zip_digit  first_registration_year  \\\n",
       "46652  Volkswagen   7950                4                     2011   \n",
       "18143     Renault   6940                1                     2012   \n",
       "30058         Kia  13945                5                     2014   \n",
       "33137        Fiat   3495                5                     2006   \n",
       "52540     Peugeot   9295                7                     2014   \n",
       "\n",
       "       search_views  detail_views  stock_days  \n",
       "46652        5129.0         140.0          72  \n",
       "18143         344.0          12.0          23  \n",
       "30058         139.0           8.0           4  \n",
       "33137         884.0          45.0          59  \n",
       "52540        1118.0          21.0          21  "
      ]
     },
     "execution_count": 114,
     "metadata": {},
     "output_type": "execute_result"
    }
   ],
   "source": [
    "X_train.head()"
   ]
  },
  {
   "cell_type": "code",
   "execution_count": 69,
   "id": "174c5033-8bf5-4ec4-9c5f-d7bf9ceb3340",
   "metadata": {},
   "outputs": [
    {
     "name": "stdout",
     "output_type": "stream",
     "text": [
      "937       32000000.0\n",
      "9729     150000000.0\n",
      "16861     85000000.0\n",
      "9816      46000000.0\n",
      "3459      40000000.0\n",
      "            ...     \n",
      "11964     65000000.0\n",
      "21575     38000000.0\n",
      "5390     120000000.0\n",
      "860      160000000.0\n",
      "15795    125000000.0\n",
      "Name: y, Length: 16161, dtype: float64\n"
     ]
    }
   ],
   "source": [
    "print(y_train)"
   ]
  },
  {
   "cell_type": "code",
   "execution_count": 89,
   "id": "15caeaa2-6a3c-4779-94eb-3d30b245b18e",
   "metadata": {},
   "outputs": [],
   "source": [
    "#y_train = np.log(y_train)"
   ]
  },
  {
   "cell_type": "code",
   "execution_count": 101,
   "id": "f4b35d10-8cf4-46cd-87f8-0b6bb1533169",
   "metadata": {},
   "outputs": [],
   "source": [
    "#y_test = np.log(y_test)"
   ]
  },
  {
   "cell_type": "code",
   "execution_count": 116,
   "id": "811057bc-8633-4856-918f-95dc86508375",
   "metadata": {},
   "outputs": [
    {
     "name": "stdout",
     "output_type": "stream",
     "text": [
      "46652    0\n",
      "18143    0\n",
      "30058    0\n",
      "33137    0\n",
      "52540    0\n",
      "        ..\n",
      "37194    0\n",
      "6265     0\n",
      "54886    0\n",
      "860      0\n",
      "15795    0\n",
      "Name: y, Length: 49436, dtype: int8\n"
     ]
    }
   ],
   "source": [
    "print(y_train)"
   ]
  },
  {
   "cell_type": "code",
   "execution_count": 191,
   "id": "2e6fabfd-82f2-41b5-9832-700daec48c4f",
   "metadata": {},
   "outputs": [],
   "source": [
    "from category_encoders import BaseNEncoder"
   ]
  },
  {
   "cell_type": "code",
   "execution_count": 228,
   "id": "66d0d0ad-0114-4746-92de-540f1d3c09ab",
   "metadata": {},
   "outputs": [],
   "source": [
    "#create numerical transformer\n",
    "numerical_transformer = Pipeline([('imputer', SimpleImputer(strategy='mean')), \n",
    "                                  ('scaler', StandardScaler()) ])\n",
    "\n",
    "#create categorical transformer\n",
    "categorical_transformer = Pipeline(steps=[ ('imputer', SimpleImputer(strategy='most_frequent')),\n",
    "                                            ('onehot', OneHotEncoder(handle_unknown='ignore'))\n",
    "                                            ])\n",
    "\n",
    "target_encoding_pipeline = Pipeline(steps=[\n",
    "    ('base_encoder', BaseNEncoder(cols=['make_name'], base=3))\n",
    "])"
   ]
  },
  {
   "cell_type": "code",
   "execution_count": 218,
   "id": "91378296-cb97-4966-a69e-76fd4f766508",
   "metadata": {},
   "outputs": [],
   "source": [
    "# Combine the transformations using ColumnTransformer\n",
    "preprocessor = ColumnTransformer(transformers=[\n",
    "    ('base_name', target_encoding_pipeline, ['make_name']),  # TargetEncoder for 'town'\n",
    "    ('num', numerical_transformer, numerical_cols),       # Transformer for numerical columns\n",
    "    ('cat_onehot', categorical_transformer, categorical_cols) # OneHotEncoder for other categorical features\n",
    "])"
   ]
  },
  {
   "cell_type": "code",
   "execution_count": 220,
   "id": "d7de91cc-ab71-4154-9088-0a726459e82d",
   "metadata": {},
   "outputs": [],
   "source": [
    "# #column transformer\n",
    "# preprocessor = ColumnTransformer(\n",
    "#                                 transformers=[\n",
    "#                                     ('num', numerical_transformer, numerical_cols),\n",
    "#                                     ('cat', categorical_transformer, categorical_cols)\n",
    "#     ])"
   ]
  },
  {
   "cell_type": "code",
   "execution_count": 231,
   "id": "cc80fee9-2d92-4b33-9d79-28b71b26b281",
   "metadata": {},
   "outputs": [],
   "source": [
    "from imblearn.over_sampling import RandomOverSampler\n",
    "from sklearn.utils import resample\n",
    "\n",
    "sampling_strategy = {\n",
    "    0: y_train.value_counts()[0],  # Keep class 0 as is\n",
    "    1: y_train.value_counts()[0],  # Oversample class 1 to the same as class 0\n",
    "    2: y_train.value_counts()[0]   # Oversample class 2 to the same as class 0\n",
    "}\n",
    "\n",
    "# Example of undersampling\n",
    "oversampler = RandomOverSampler(random_state=42, sampling_strategy=sampling_strategy)\n",
    "X_train, y_train = oversampler.fit_resample(X_train, y_train)"
   ]
  },
  {
   "cell_type": "code",
   "execution_count": 205,
   "id": "787a02a9-468c-4589-bd53-a598cbece9e0",
   "metadata": {},
   "outputs": [
    {
     "data": {
      "text/plain": [
       "make_name\n",
       "Volkswagen    18212\n",
       "Renault       12267\n",
       "Opel           9901\n",
       "Peugeot        8945\n",
       "Ford           8821\n",
       "              ...  \n",
       "DFSK              1\n",
       "FISKER            1\n",
       "Lincoln           1\n",
       "Casalini          1\n",
       "Kawasaki          1\n",
       "Name: count, Length: 80, dtype: int64"
      ]
     },
     "execution_count": 205,
     "metadata": {},
     "output_type": "execute_result"
    }
   ],
   "source": [
    "X_train.make_name.value_counts()"
   ]
  },
  {
   "cell_type": "code",
   "execution_count": 151,
   "id": "b5ff62de-574a-4ecd-b058-b630efcc8acc",
   "metadata": {},
   "outputs": [],
   "source": [
    "# from imblearn.under_sampling import RandomUnderSampler\n",
    "\n",
    "# # Example of undersampling\n",
    "# undersampler = RandomUnderSampler(random_state=42, sampling_strategy='majority')\n",
    "# X_train, y_train = undersampler.fit_resample(X_train, y_train)"
   ]
  },
  {
   "cell_type": "code",
   "execution_count": 224,
   "id": "e7af95d4-6b58-4d57-9ef6-287726d2d577",
   "metadata": {},
   "outputs": [
    {
     "name": "stdout",
     "output_type": "stream",
     "text": [
      "Accuracy for Random Forest Model: 0.7180007551444214\n",
      "Classification Report:\n",
      "               precision    recall  f1-score   support\n",
      "\n",
      "           0       0.99      0.72      0.84     20759\n",
      "           1       0.08      0.56      0.14       333\n",
      "           2       0.01      0.44      0.02        96\n",
      "\n",
      "    accuracy                           0.72     21188\n",
      "   macro avg       0.36      0.57      0.33     21188\n",
      "weighted avg       0.98      0.72      0.82     21188\n",
      "\n"
     ]
    }
   ],
   "source": [
    "from sklearn.ensemble import RandomForestClassifier\n",
    "from sklearn.metrics import accuracy_score, classification_report\n",
    "\n",
    "# Create a RandomForestClassifier model\n",
    "rf = RandomForestClassifier(n_estimators=200, random_state=42, max_depth=5)\n",
    "\n",
    "# Model pipeline\n",
    "rf_pipe = Pipeline(steps=[('preprocessor', preprocessor),\n",
    "                          ('random_forest', rf)\n",
    "                         ])\n",
    "\n",
    "# Preprocessing of training data, fit model \n",
    "rf_pipe.fit(X_train, y_train)\n",
    "\n",
    "# Preprocessing of validation data, get predictions\n",
    "rf_preds = rf_pipe.predict(X_test)\n",
    "\n",
    "# Evaluate the model\n",
    "accuracy = accuracy_score(y_test, rf_preds)\n",
    "print('Accuracy for Random Forest Model:', accuracy)\n",
    "\n",
    "# Detailed classification report\n",
    "print('Classification Report:\\n', classification_report(y_test, rf_preds))\n"
   ]
  },
  {
   "cell_type": "code",
   "execution_count": 226,
   "id": "1628601b-a188-44dd-98e1-ac2871c4a135",
   "metadata": {},
   "outputs": [
    {
     "data": {
      "application/vnd.plotly.v1+json": {
       "config": {
        "plotlyServerURL": "https://plot.ly"
       },
       "data": [
        {
         "marker": {
          "color": "skyblue"
         },
         "text": [
          "0.268",
          "0.244",
          "0.158",
          "0.103",
          "0.051",
          "0.050",
          "0.028",
          "0.012",
          "0.012",
          "0.011",
          "0.006",
          "0.005",
          "0.005",
          "0.004",
          "0.004",
          "0.003",
          "0.003",
          "0.002",
          "0.002",
          "0.002",
          "0.002",
          "0.002",
          "0.002",
          "0.002",
          "0.002",
          "0.002",
          "0.001",
          "0.001",
          "0.001",
          "0.001",
          "0.001",
          "0.001",
          "0.001",
          "0.001",
          "0.001",
          "0.001",
          "0.001",
          "0.000",
          "0.000",
          "0.000",
          "0.000",
          "0.000",
          "0.000",
          "0.000",
          "0.000",
          "0.000",
          "0.000",
          "0.000",
          "0.000",
          "0.000",
          "0.000",
          "0.000",
          "0.000",
          "0.000",
          "0.000",
          "0.000",
          "0.000",
          "0.000",
          "0.000",
          "0.000",
          "0.000",
          "0.000",
          "0.000",
          "0.000",
          "0.000",
          "0.000",
          "0.000",
          "0.000",
          "0.000",
          "0.000",
          "0.000",
          "0.000",
          "0.000",
          "0.000",
          "0.000",
          "0.000",
          "0.000",
          "0.000",
          "0.000",
          "0.000",
          "0.000",
          "0.000",
          "0.000",
          "0.000",
          "0.000",
          "0.000",
          "0.000",
          "0.000",
          "0.000",
          "0.000"
         ],
         "textposition": "auto",
         "type": "bar",
         "x": [
          "num__search_views",
          "num__detail_views",
          "num__stock_days",
          "num__first_zip_digit",
          "num__first_registration_year",
          "num__price",
          "cat_onehot__make_name_Suzuki",
          "cat_onehot__make_name_Renault",
          "base_name__make_name_3",
          "base_name__make_name_2",
          "cat_onehot__make_name_Audi",
          "cat_onehot__make_name_Honda",
          "cat_onehot__make_name_Ford",
          "cat_onehot__make_name_Kia",
          "base_name__make_name_1",
          "cat_onehot__make_name_Aixam",
          "cat_onehot__make_name_Fiat",
          "base_name__make_name_0",
          "cat_onehot__make_name_Volvo",
          "cat_onehot__make_name_Buick",
          "cat_onehot__make_name_Hyundai",
          "cat_onehot__make_name_Chrysler",
          "cat_onehot__make_name_Mercedes-Benz",
          "cat_onehot__make_name_Subaru",
          "cat_onehot__make_name_Peugeot",
          "cat_onehot__make_name_Opel",
          "cat_onehot__make_name_Volkswagen",
          "cat_onehot__make_name_Mazda",
          "cat_onehot__make_name_BMW",
          "cat_onehot__make_name_SEAT",
          "cat_onehot__make_name_Lamborghini",
          "cat_onehot__make_name_Toyota",
          "cat_onehot__make_name_Mitsubishi",
          "cat_onehot__make_name_Citroen",
          "cat_onehot__make_name_Chevrolet",
          "cat_onehot__make_name_Daewoo",
          "cat_onehot__make_name_Land Rover",
          "cat_onehot__make_name_Nissan",
          "cat_onehot__make_name_MINI",
          "cat_onehot__make_name_Skoda",
          "cat_onehot__make_name_Iveco",
          "cat_onehot__make_name_smart",
          "cat_onehot__make_name_Porsche",
          "cat_onehot__make_name_Tesla",
          "cat_onehot__make_name_Oldtimer",
          "cat_onehot__make_name_SsangYong",
          "cat_onehot__make_name_Maserati",
          "cat_onehot__make_name_Saab",
          "cat_onehot__make_name_Infiniti",
          "cat_onehot__make_name_Lancia",
          "cat_onehot__make_name_Daihatsu",
          "cat_onehot__make_name_Lexus",
          "cat_onehot__make_name_Dacia",
          "cat_onehot__make_name_Jeep",
          "cat_onehot__make_name_Alfa Romeo",
          "cat_onehot__make_name_Dodge",
          "cat_onehot__make_name_Caravans-Wohnm",
          "cat_onehot__make_name_Jaguar",
          "cat_onehot__make_name_MG",
          "cat_onehot__make_name_DS Automobiles",
          "cat_onehot__make_name_Aston Martin",
          "cat_onehot__make_name_Austin",
          "cat_onehot__make_name_Ferrari",
          "cat_onehot__make_name_Triumph",
          "cat_onehot__make_name_Rover",
          "cat_onehot__make_name_Daimler",
          "cat_onehot__make_name_Corvette",
          "cat_onehot__make_name_Kawasaki",
          "cat_onehot__make_name_Isuzu",
          "cat_onehot__make_name_Amphicar",
          "cat_onehot__make_name_Others ",
          "cat_onehot__make_name_Alpine",
          "cat_onehot__make_name_KTM",
          "cat_onehot__make_name_Abarth",
          "cat_onehot__make_name_Alpina",
          "cat_onehot__make_name_Bentley",
          "cat_onehot__make_name_Cadillac",
          "cat_onehot__make_name_Casalini",
          "cat_onehot__make_name_Chatenet",
          "cat_onehot__make_name_DFSK",
          "cat_onehot__make_name_FISKER",
          "cat_onehot__make_name_GMC",
          "cat_onehot__make_name_HUMMER",
          "cat_onehot__make_name_Ligier",
          "cat_onehot__make_name_Lincoln",
          "cat_onehot__make_name_McLaren",
          "cat_onehot__make_name_Microcar",
          "cat_onehot__make_name_Oldsmobile",
          "cat_onehot__make_name_Rolls-Royce",
          "cat_onehot__make_name_Trucks-Lkw"
         ],
         "y": [
          0.26812236780222554,
          0.24427129873612824,
          0.15822376459917556,
          0.10343702541327414,
          0.05059112170724723,
          0.05021505011613745,
          0.027755147306180884,
          0.012074221983944297,
          0.011955338830971553,
          0.010602743212613994,
          0.006028331651620788,
          0.00530832187111464,
          0.0047781203143653075,
          0.004240580665593297,
          0.004052484534126582,
          0.002687489106674422,
          0.0026637429796717593,
          0.00246658167005265,
          0.00242586639109023,
          0.0024198581206789685,
          0.002014168581897031,
          0.0020016056192473358,
          0.0018232588240253778,
          0.0017850776071438677,
          0.0016509038238353422,
          0.0015964801645891257,
          0.0014904935487596324,
          0.0013473877269858776,
          0.001154281918950718,
          0.001111475305730508,
          0.0010897039884183596,
          0.0008970627925125521,
          0.000849122876314053,
          0.0007064965973133774,
          0.0006762204423655196,
          0.0006725970733902235,
          0.0006710347049933584,
          0.00048574828933574664,
          0.0004266370623796097,
          0.00039902189006298106,
          0.00039642854381933315,
          0.0003354683110289839,
          0.00033001196350832175,
          0.0002808138112339178,
          0.00018942961176460216,
          0.0001788190511319477,
          0.00016021244655330038,
          0.0001278959857058282,
          0.00012033193597338846,
          0.00011919092169904403,
          0.00010886497713165833,
          7.804439990338096e-05,
          6.555498365635147e-05,
          6.356377820760953e-05,
          5.988575614945259e-05,
          4.9709524504429995e-05,
          4.3466826633837085e-05,
          3.587503004284542e-05,
          3.334162314604388e-05,
          2.3086290069871926e-05,
          1.4358512538875211e-05,
          7.3379963717166334e-06,
          3.340519062449013e-06,
          1.3087688117750569e-06,
          1.306064500934287e-06,
          1.2662317825178524e-06,
          1.057967549890984e-06,
          6.530405958507239e-07,
          4.590020160796601e-07,
          3.499954261773822e-07,
          2.3176701496073458e-07,
          8.512354827599261e-08,
          1.3387778295379135e-08,
          0,
          0,
          0,
          0,
          0,
          0,
          0,
          0,
          0,
          0,
          0,
          0,
          0,
          0,
          0,
          0,
          0
         ]
        }
       ],
       "layout": {
        "autosize": true,
        "template": {
         "data": {
          "bar": [
           {
            "error_x": {
             "color": "#2a3f5f"
            },
            "error_y": {
             "color": "#2a3f5f"
            },
            "marker": {
             "line": {
              "color": "white",
              "width": 0.5
             },
             "pattern": {
              "fillmode": "overlay",
              "size": 10,
              "solidity": 0.2
             }
            },
            "type": "bar"
           }
          ],
          "barpolar": [
           {
            "marker": {
             "line": {
              "color": "white",
              "width": 0.5
             },
             "pattern": {
              "fillmode": "overlay",
              "size": 10,
              "solidity": 0.2
             }
            },
            "type": "barpolar"
           }
          ],
          "carpet": [
           {
            "aaxis": {
             "endlinecolor": "#2a3f5f",
             "gridcolor": "#C8D4E3",
             "linecolor": "#C8D4E3",
             "minorgridcolor": "#C8D4E3",
             "startlinecolor": "#2a3f5f"
            },
            "baxis": {
             "endlinecolor": "#2a3f5f",
             "gridcolor": "#C8D4E3",
             "linecolor": "#C8D4E3",
             "minorgridcolor": "#C8D4E3",
             "startlinecolor": "#2a3f5f"
            },
            "type": "carpet"
           }
          ],
          "choropleth": [
           {
            "colorbar": {
             "outlinewidth": 0,
             "ticks": ""
            },
            "type": "choropleth"
           }
          ],
          "contour": [
           {
            "colorbar": {
             "outlinewidth": 0,
             "ticks": ""
            },
            "colorscale": [
             [
              0,
              "#0d0887"
             ],
             [
              0.1111111111111111,
              "#46039f"
             ],
             [
              0.2222222222222222,
              "#7201a8"
             ],
             [
              0.3333333333333333,
              "#9c179e"
             ],
             [
              0.4444444444444444,
              "#bd3786"
             ],
             [
              0.5555555555555556,
              "#d8576b"
             ],
             [
              0.6666666666666666,
              "#ed7953"
             ],
             [
              0.7777777777777778,
              "#fb9f3a"
             ],
             [
              0.8888888888888888,
              "#fdca26"
             ],
             [
              1,
              "#f0f921"
             ]
            ],
            "type": "contour"
           }
          ],
          "contourcarpet": [
           {
            "colorbar": {
             "outlinewidth": 0,
             "ticks": ""
            },
            "type": "contourcarpet"
           }
          ],
          "heatmap": [
           {
            "colorbar": {
             "outlinewidth": 0,
             "ticks": ""
            },
            "colorscale": [
             [
              0,
              "#0d0887"
             ],
             [
              0.1111111111111111,
              "#46039f"
             ],
             [
              0.2222222222222222,
              "#7201a8"
             ],
             [
              0.3333333333333333,
              "#9c179e"
             ],
             [
              0.4444444444444444,
              "#bd3786"
             ],
             [
              0.5555555555555556,
              "#d8576b"
             ],
             [
              0.6666666666666666,
              "#ed7953"
             ],
             [
              0.7777777777777778,
              "#fb9f3a"
             ],
             [
              0.8888888888888888,
              "#fdca26"
             ],
             [
              1,
              "#f0f921"
             ]
            ],
            "type": "heatmap"
           }
          ],
          "heatmapgl": [
           {
            "colorbar": {
             "outlinewidth": 0,
             "ticks": ""
            },
            "colorscale": [
             [
              0,
              "#0d0887"
             ],
             [
              0.1111111111111111,
              "#46039f"
             ],
             [
              0.2222222222222222,
              "#7201a8"
             ],
             [
              0.3333333333333333,
              "#9c179e"
             ],
             [
              0.4444444444444444,
              "#bd3786"
             ],
             [
              0.5555555555555556,
              "#d8576b"
             ],
             [
              0.6666666666666666,
              "#ed7953"
             ],
             [
              0.7777777777777778,
              "#fb9f3a"
             ],
             [
              0.8888888888888888,
              "#fdca26"
             ],
             [
              1,
              "#f0f921"
             ]
            ],
            "type": "heatmapgl"
           }
          ],
          "histogram": [
           {
            "marker": {
             "pattern": {
              "fillmode": "overlay",
              "size": 10,
              "solidity": 0.2
             }
            },
            "type": "histogram"
           }
          ],
          "histogram2d": [
           {
            "colorbar": {
             "outlinewidth": 0,
             "ticks": ""
            },
            "colorscale": [
             [
              0,
              "#0d0887"
             ],
             [
              0.1111111111111111,
              "#46039f"
             ],
             [
              0.2222222222222222,
              "#7201a8"
             ],
             [
              0.3333333333333333,
              "#9c179e"
             ],
             [
              0.4444444444444444,
              "#bd3786"
             ],
             [
              0.5555555555555556,
              "#d8576b"
             ],
             [
              0.6666666666666666,
              "#ed7953"
             ],
             [
              0.7777777777777778,
              "#fb9f3a"
             ],
             [
              0.8888888888888888,
              "#fdca26"
             ],
             [
              1,
              "#f0f921"
             ]
            ],
            "type": "histogram2d"
           }
          ],
          "histogram2dcontour": [
           {
            "colorbar": {
             "outlinewidth": 0,
             "ticks": ""
            },
            "colorscale": [
             [
              0,
              "#0d0887"
             ],
             [
              0.1111111111111111,
              "#46039f"
             ],
             [
              0.2222222222222222,
              "#7201a8"
             ],
             [
              0.3333333333333333,
              "#9c179e"
             ],
             [
              0.4444444444444444,
              "#bd3786"
             ],
             [
              0.5555555555555556,
              "#d8576b"
             ],
             [
              0.6666666666666666,
              "#ed7953"
             ],
             [
              0.7777777777777778,
              "#fb9f3a"
             ],
             [
              0.8888888888888888,
              "#fdca26"
             ],
             [
              1,
              "#f0f921"
             ]
            ],
            "type": "histogram2dcontour"
           }
          ],
          "mesh3d": [
           {
            "colorbar": {
             "outlinewidth": 0,
             "ticks": ""
            },
            "type": "mesh3d"
           }
          ],
          "parcoords": [
           {
            "line": {
             "colorbar": {
              "outlinewidth": 0,
              "ticks": ""
             }
            },
            "type": "parcoords"
           }
          ],
          "pie": [
           {
            "automargin": true,
            "type": "pie"
           }
          ],
          "scatter": [
           {
            "fillpattern": {
             "fillmode": "overlay",
             "size": 10,
             "solidity": 0.2
            },
            "type": "scatter"
           }
          ],
          "scatter3d": [
           {
            "line": {
             "colorbar": {
              "outlinewidth": 0,
              "ticks": ""
             }
            },
            "marker": {
             "colorbar": {
              "outlinewidth": 0,
              "ticks": ""
             }
            },
            "type": "scatter3d"
           }
          ],
          "scattercarpet": [
           {
            "marker": {
             "colorbar": {
              "outlinewidth": 0,
              "ticks": ""
             }
            },
            "type": "scattercarpet"
           }
          ],
          "scattergeo": [
           {
            "marker": {
             "colorbar": {
              "outlinewidth": 0,
              "ticks": ""
             }
            },
            "type": "scattergeo"
           }
          ],
          "scattergl": [
           {
            "marker": {
             "colorbar": {
              "outlinewidth": 0,
              "ticks": ""
             }
            },
            "type": "scattergl"
           }
          ],
          "scattermapbox": [
           {
            "marker": {
             "colorbar": {
              "outlinewidth": 0,
              "ticks": ""
             }
            },
            "type": "scattermapbox"
           }
          ],
          "scatterpolar": [
           {
            "marker": {
             "colorbar": {
              "outlinewidth": 0,
              "ticks": ""
             }
            },
            "type": "scatterpolar"
           }
          ],
          "scatterpolargl": [
           {
            "marker": {
             "colorbar": {
              "outlinewidth": 0,
              "ticks": ""
             }
            },
            "type": "scatterpolargl"
           }
          ],
          "scatterternary": [
           {
            "marker": {
             "colorbar": {
              "outlinewidth": 0,
              "ticks": ""
             }
            },
            "type": "scatterternary"
           }
          ],
          "surface": [
           {
            "colorbar": {
             "outlinewidth": 0,
             "ticks": ""
            },
            "colorscale": [
             [
              0,
              "#0d0887"
             ],
             [
              0.1111111111111111,
              "#46039f"
             ],
             [
              0.2222222222222222,
              "#7201a8"
             ],
             [
              0.3333333333333333,
              "#9c179e"
             ],
             [
              0.4444444444444444,
              "#bd3786"
             ],
             [
              0.5555555555555556,
              "#d8576b"
             ],
             [
              0.6666666666666666,
              "#ed7953"
             ],
             [
              0.7777777777777778,
              "#fb9f3a"
             ],
             [
              0.8888888888888888,
              "#fdca26"
             ],
             [
              1,
              "#f0f921"
             ]
            ],
            "type": "surface"
           }
          ],
          "table": [
           {
            "cells": {
             "fill": {
              "color": "#EBF0F8"
             },
             "line": {
              "color": "white"
             }
            },
            "header": {
             "fill": {
              "color": "#C8D4E3"
             },
             "line": {
              "color": "white"
             }
            },
            "type": "table"
           }
          ]
         },
         "layout": {
          "annotationdefaults": {
           "arrowcolor": "#2a3f5f",
           "arrowhead": 0,
           "arrowwidth": 1
          },
          "autotypenumbers": "strict",
          "coloraxis": {
           "colorbar": {
            "outlinewidth": 0,
            "ticks": ""
           }
          },
          "colorscale": {
           "diverging": [
            [
             0,
             "#8e0152"
            ],
            [
             0.1,
             "#c51b7d"
            ],
            [
             0.2,
             "#de77ae"
            ],
            [
             0.3,
             "#f1b6da"
            ],
            [
             0.4,
             "#fde0ef"
            ],
            [
             0.5,
             "#f7f7f7"
            ],
            [
             0.6,
             "#e6f5d0"
            ],
            [
             0.7,
             "#b8e186"
            ],
            [
             0.8,
             "#7fbc41"
            ],
            [
             0.9,
             "#4d9221"
            ],
            [
             1,
             "#276419"
            ]
           ],
           "sequential": [
            [
             0,
             "#0d0887"
            ],
            [
             0.1111111111111111,
             "#46039f"
            ],
            [
             0.2222222222222222,
             "#7201a8"
            ],
            [
             0.3333333333333333,
             "#9c179e"
            ],
            [
             0.4444444444444444,
             "#bd3786"
            ],
            [
             0.5555555555555556,
             "#d8576b"
            ],
            [
             0.6666666666666666,
             "#ed7953"
            ],
            [
             0.7777777777777778,
             "#fb9f3a"
            ],
            [
             0.8888888888888888,
             "#fdca26"
            ],
            [
             1,
             "#f0f921"
            ]
           ],
           "sequentialminus": [
            [
             0,
             "#0d0887"
            ],
            [
             0.1111111111111111,
             "#46039f"
            ],
            [
             0.2222222222222222,
             "#7201a8"
            ],
            [
             0.3333333333333333,
             "#9c179e"
            ],
            [
             0.4444444444444444,
             "#bd3786"
            ],
            [
             0.5555555555555556,
             "#d8576b"
            ],
            [
             0.6666666666666666,
             "#ed7953"
            ],
            [
             0.7777777777777778,
             "#fb9f3a"
            ],
            [
             0.8888888888888888,
             "#fdca26"
            ],
            [
             1,
             "#f0f921"
            ]
           ]
          },
          "colorway": [
           "#636efa",
           "#EF553B",
           "#00cc96",
           "#ab63fa",
           "#FFA15A",
           "#19d3f3",
           "#FF6692",
           "#B6E880",
           "#FF97FF",
           "#FECB52"
          ],
          "font": {
           "color": "#2a3f5f"
          },
          "geo": {
           "bgcolor": "white",
           "lakecolor": "white",
           "landcolor": "white",
           "showlakes": true,
           "showland": true,
           "subunitcolor": "#C8D4E3"
          },
          "hoverlabel": {
           "align": "left"
          },
          "hovermode": "closest",
          "mapbox": {
           "style": "light"
          },
          "paper_bgcolor": "white",
          "plot_bgcolor": "white",
          "polar": {
           "angularaxis": {
            "gridcolor": "#EBF0F8",
            "linecolor": "#EBF0F8",
            "ticks": ""
           },
           "bgcolor": "white",
           "radialaxis": {
            "gridcolor": "#EBF0F8",
            "linecolor": "#EBF0F8",
            "ticks": ""
           }
          },
          "scene": {
           "xaxis": {
            "backgroundcolor": "white",
            "gridcolor": "#DFE8F3",
            "gridwidth": 2,
            "linecolor": "#EBF0F8",
            "showbackground": true,
            "ticks": "",
            "zerolinecolor": "#EBF0F8"
           },
           "yaxis": {
            "backgroundcolor": "white",
            "gridcolor": "#DFE8F3",
            "gridwidth": 2,
            "linecolor": "#EBF0F8",
            "showbackground": true,
            "ticks": "",
            "zerolinecolor": "#EBF0F8"
           },
           "zaxis": {
            "backgroundcolor": "white",
            "gridcolor": "#DFE8F3",
            "gridwidth": 2,
            "linecolor": "#EBF0F8",
            "showbackground": true,
            "ticks": "",
            "zerolinecolor": "#EBF0F8"
           }
          },
          "shapedefaults": {
           "line": {
            "color": "#2a3f5f"
           }
          },
          "ternary": {
           "aaxis": {
            "gridcolor": "#DFE8F3",
            "linecolor": "#A2B1C6",
            "ticks": ""
           },
           "baxis": {
            "gridcolor": "#DFE8F3",
            "linecolor": "#A2B1C6",
            "ticks": ""
           },
           "bgcolor": "white",
           "caxis": {
            "gridcolor": "#DFE8F3",
            "linecolor": "#A2B1C6",
            "ticks": ""
           }
          },
          "title": {
           "x": 0.05
          },
          "xaxis": {
           "automargin": true,
           "gridcolor": "#EBF0F8",
           "linecolor": "#EBF0F8",
           "ticks": "",
           "title": {
            "standoff": 15
           },
           "zerolinecolor": "#EBF0F8",
           "zerolinewidth": 2
          },
          "yaxis": {
           "automargin": true,
           "gridcolor": "#EBF0F8",
           "linecolor": "#EBF0F8",
           "ticks": "",
           "title": {
            "standoff": 15
           },
           "zerolinecolor": "#EBF0F8",
           "zerolinewidth": 2
          }
         }
        },
        "title": {
         "text": "Feature Importances from Random Forest"
        },
        "xaxis": {
         "autorange": true,
         "range": [
          -0.5,
          89.5
         ],
         "title": {
          "text": "Features"
         },
         "type": "category"
        },
        "yaxis": {
         "autorange": true,
         "range": [
          0,
          0.28223407137076373
         ],
         "title": {
          "text": "Importance Score"
         },
         "type": "linear"
        }
       }
      },
      "image/png": "[encoded data removed]",
      "text/html": [
       "<div>                            <div id=\"63c2e519-c5c7-4209-ae28-ef22d356533b\" class=\"plotly-graph-div\" style=\"height:600px; width:100%;\"></div>            <script type=\"text/javascript\">                require([\"plotly\"], function(Plotly) {                    window.PLOTLYENV=window.PLOTLYENV || {};                                    if (document.getElementById(\"63c2e519-c5c7-4209-ae28-ef22d356533b\")) {                    Plotly.newPlot(                        \"63c2e519-c5c7-4209-ae28-ef22d356533b\",                        [{\"marker\":{\"color\":\"skyblue\"},\"text\":[\"0.268\",\"0.244\",\"0.158\",\"0.103\",\"0.051\",\"0.050\",\"0.028\",\"0.012\",\"0.012\",\"0.011\",\"0.006\",\"0.005\",\"0.005\",\"0.004\",\"0.004\",\"0.003\",\"0.003\",\"0.002\",\"0.002\",\"0.002\",\"0.002\",\"0.002\",\"0.002\",\"0.002\",\"0.002\",\"0.002\",\"0.001\",\"0.001\",\"0.001\",\"0.001\",\"0.001\",\"0.001\",\"0.001\",\"0.001\",\"0.001\",\"0.001\",\"0.001\",\"0.000\",\"0.000\",\"0.000\",\"0.000\",\"0.000\",\"0.000\",\"0.000\",\"0.000\",\"0.000\",\"0.000\",\"0.000\",\"0.000\",\"0.000\",\"0.000\",\"0.000\",\"0.000\",\"0.000\",\"0.000\",\"0.000\",\"0.000\",\"0.000\",\"0.000\",\"0.000\",\"0.000\",\"0.000\",\"0.000\",\"0.000\",\"0.000\",\"0.000\",\"0.000\",\"0.000\",\"0.000\",\"0.000\",\"0.000\",\"0.000\",\"0.000\",\"0.000\",\"0.000\",\"0.000\",\"0.000\",\"0.000\",\"0.000\",\"0.000\",\"0.000\",\"0.000\",\"0.000\",\"0.000\",\"0.000\",\"0.000\",\"0.000\",\"0.000\",\"0.000\",\"0.000\"],\"textposition\":\"auto\",\"x\":[\"num__search_views\",\"num__detail_views\",\"num__stock_days\",\"num__first_zip_digit\",\"num__first_registration_year\",\"num__price\",\"cat_onehot__make_name_Suzuki\",\"cat_onehot__make_name_Renault\",\"base_name__make_name_3\",\"base_name__make_name_2\",\"cat_onehot__make_name_Audi\",\"cat_onehot__make_name_Honda\",\"cat_onehot__make_name_Ford\",\"cat_onehot__make_name_Kia\",\"base_name__make_name_1\",\"cat_onehot__make_name_Aixam\",\"cat_onehot__make_name_Fiat\",\"base_name__make_name_0\",\"cat_onehot__make_name_Volvo\",\"cat_onehot__make_name_Buick\",\"cat_onehot__make_name_Hyundai\",\"cat_onehot__make_name_Chrysler\",\"cat_onehot__make_name_Mercedes-Benz\",\"cat_onehot__make_name_Subaru\",\"cat_onehot__make_name_Peugeot\",\"cat_onehot__make_name_Opel\",\"cat_onehot__make_name_Volkswagen\",\"cat_onehot__make_name_Mazda\",\"cat_onehot__make_name_BMW\",\"cat_onehot__make_name_SEAT\",\"cat_onehot__make_name_Lamborghini\",\"cat_onehot__make_name_Toyota\",\"cat_onehot__make_name_Mitsubishi\",\"cat_onehot__make_name_Citroen\",\"cat_onehot__make_name_Chevrolet\",\"cat_onehot__make_name_Daewoo\",\"cat_onehot__make_name_Land Rover\",\"cat_onehot__make_name_Nissan\",\"cat_onehot__make_name_MINI\",\"cat_onehot__make_name_Skoda\",\"cat_onehot__make_name_Iveco\",\"cat_onehot__make_name_smart\",\"cat_onehot__make_name_Porsche\",\"cat_onehot__make_name_Tesla\",\"cat_onehot__make_name_Oldtimer\",\"cat_onehot__make_name_SsangYong\",\"cat_onehot__make_name_Maserati\",\"cat_onehot__make_name_Saab\",\"cat_onehot__make_name_Infiniti\",\"cat_onehot__make_name_Lancia\",\"cat_onehot__make_name_Daihatsu\",\"cat_onehot__make_name_Lexus\",\"cat_onehot__make_name_Dacia\",\"cat_onehot__make_name_Jeep\",\"cat_onehot__make_name_Alfa Romeo\",\"cat_onehot__make_name_Dodge\",\"cat_onehot__make_name_Caravans-Wohnm\",\"cat_onehot__make_name_Jaguar\",\"cat_onehot__make_name_MG\",\"cat_onehot__make_name_DS Automobiles\",\"cat_onehot__make_name_Aston Martin\",\"cat_onehot__make_name_Austin\",\"cat_onehot__make_name_Ferrari\",\"cat_onehot__make_name_Triumph\",\"cat_onehot__make_name_Rover\",\"cat_onehot__make_name_Daimler\",\"cat_onehot__make_name_Corvette\",\"cat_onehot__make_name_Kawasaki\",\"cat_onehot__make_name_Isuzu\",\"cat_onehot__make_name_Amphicar\",\"cat_onehot__make_name_Others \",\"cat_onehot__make_name_Alpine\",\"cat_onehot__make_name_KTM\",\"cat_onehot__make_name_Abarth\",\"cat_onehot__make_name_Alpina\",\"cat_onehot__make_name_Bentley\",\"cat_onehot__make_name_Cadillac\",\"cat_onehot__make_name_Casalini\",\"cat_onehot__make_name_Chatenet\",\"cat_onehot__make_name_DFSK\",\"cat_onehot__make_name_FISKER\",\"cat_onehot__make_name_GMC\",\"cat_onehot__make_name_HUMMER\",\"cat_onehot__make_name_Ligier\",\"cat_onehot__make_name_Lincoln\",\"cat_onehot__make_name_McLaren\",\"cat_onehot__make_name_Microcar\",\"cat_onehot__make_name_Oldsmobile\",\"cat_onehot__make_name_Rolls-Royce\",\"cat_onehot__make_name_Trucks-Lkw\"],\"y\":[0.26812236780222554,0.24427129873612824,0.15822376459917556,0.10343702541327414,0.05059112170724723,0.05021505011613745,0.027755147306180884,0.012074221983944297,0.011955338830971553,0.010602743212613994,0.006028331651620788,0.00530832187111464,0.0047781203143653075,0.004240580665593297,0.004052484534126582,0.002687489106674422,0.0026637429796717593,0.00246658167005265,0.00242586639109023,0.0024198581206789685,0.002014168581897031,0.0020016056192473358,0.0018232588240253778,0.0017850776071438677,0.0016509038238353422,0.0015964801645891257,0.0014904935487596324,0.0013473877269858776,0.001154281918950718,0.001111475305730508,0.0010897039884183596,0.0008970627925125521,0.000849122876314053,0.0007064965973133774,0.0006762204423655196,0.0006725970733902235,0.0006710347049933584,0.00048574828933574664,0.0004266370623796097,0.00039902189006298106,0.00039642854381933315,0.0003354683110289839,0.00033001196350832175,0.0002808138112339178,0.00018942961176460216,0.0001788190511319477,0.00016021244655330038,0.0001278959857058282,0.00012033193597338846,0.00011919092169904403,0.00010886497713165833,7.804439990338096e-05,6.555498365635147e-05,6.356377820760953e-05,5.988575614945259e-05,4.9709524504429995e-05,4.3466826633837085e-05,3.587503004284542e-05,3.334162314604388e-05,2.3086290069871926e-05,1.4358512538875211e-05,7.3379963717166334e-06,3.340519062449013e-06,1.3087688117750569e-06,1.306064500934287e-06,1.2662317825178524e-06,1.057967549890984e-06,6.530405958507239e-07,4.590020160796601e-07,3.499954261773822e-07,2.3176701496073458e-07,8.512354827599261e-08,1.3387778295379135e-08,0.0,0.0,0.0,0.0,0.0,0.0,0.0,0.0,0.0,0.0,0.0,0.0,0.0,0.0,0.0,0.0,0.0],\"type\":\"bar\"}],                        {\"template\":{\"data\":{\"barpolar\":[{\"marker\":{\"line\":{\"color\":\"white\",\"width\":0.5},\"pattern\":{\"fillmode\":\"overlay\",\"size\":10,\"solidity\":0.2}},\"type\":\"barpolar\"}],\"bar\":[{\"error_x\":{\"color\":\"#2a3f5f\"},\"error_y\":{\"color\":\"#2a3f5f\"},\"marker\":{\"line\":{\"color\":\"white\",\"width\":0.5},\"pattern\":{\"fillmode\":\"overlay\",\"size\":10,\"solidity\":0.2}},\"type\":\"bar\"}],\"carpet\":[{\"aaxis\":{\"endlinecolor\":\"#2a3f5f\",\"gridcolor\":\"#C8D4E3\",\"linecolor\":\"#C8D4E3\",\"minorgridcolor\":\"#C8D4E3\",\"startlinecolor\":\"#2a3f5f\"},\"baxis\":{\"endlinecolor\":\"#2a3f5f\",\"gridcolor\":\"#C8D4E3\",\"linecolor\":\"#C8D4E3\",\"minorgridcolor\":\"#C8D4E3\",\"startlinecolor\":\"#2a3f5f\"},\"type\":\"carpet\"}],\"choropleth\":[{\"colorbar\":{\"outlinewidth\":0,\"ticks\":\"\"},\"type\":\"choropleth\"}],\"contourcarpet\":[{\"colorbar\":{\"outlinewidth\":0,\"ticks\":\"\"},\"type\":\"contourcarpet\"}],\"contour\":[{\"colorbar\":{\"outlinewidth\":0,\"ticks\":\"\"},\"colorscale\":[[0.0,\"#0d0887\"],[0.1111111111111111,\"#46039f\"],[0.2222222222222222,\"#7201a8\"],[0.3333333333333333,\"#9c179e\"],[0.4444444444444444,\"#bd3786\"],[0.5555555555555556,\"#d8576b\"],[0.6666666666666666,\"#ed7953\"],[0.7777777777777778,\"#fb9f3a\"],[0.8888888888888888,\"#fdca26\"],[1.0,\"#f0f921\"]],\"type\":\"contour\"}],\"heatmapgl\":[{\"colorbar\":{\"outlinewidth\":0,\"ticks\":\"\"},\"colorscale\":[[0.0,\"#0d0887\"],[0.1111111111111111,\"#46039f\"],[0.2222222222222222,\"#7201a8\"],[0.3333333333333333,\"#9c179e\"],[0.4444444444444444,\"#bd3786\"],[0.5555555555555556,\"#d8576b\"],[0.6666666666666666,\"#ed7953\"],[0.7777777777777778,\"#fb9f3a\"],[0.8888888888888888,\"#fdca26\"],[1.0,\"#f0f921\"]],\"type\":\"heatmapgl\"}],\"heatmap\":[{\"colorbar\":{\"outlinewidth\":0,\"ticks\":\"\"},\"colorscale\":[[0.0,\"#0d0887\"],[0.1111111111111111,\"#46039f\"],[0.2222222222222222,\"#7201a8\"],[0.3333333333333333,\"#9c179e\"],[0.4444444444444444,\"#bd3786\"],[0.5555555555555556,\"#d8576b\"],[0.6666666666666666,\"#ed7953\"],[0.7777777777777778,\"#fb9f3a\"],[0.8888888888888888,\"#fdca26\"],[1.0,\"#f0f921\"]],\"type\":\"heatmap\"}],\"histogram2dcontour\":[{\"colorbar\":{\"outlinewidth\":0,\"ticks\":\"\"},\"colorscale\":[[0.0,\"#0d0887\"],[0.1111111111111111,\"#46039f\"],[0.2222222222222222,\"#7201a8\"],[0.3333333333333333,\"#9c179e\"],[0.4444444444444444,\"#bd3786\"],[0.5555555555555556,\"#d8576b\"],[0.6666666666666666,\"#ed7953\"],[0.7777777777777778,\"#fb9f3a\"],[0.8888888888888888,\"#fdca26\"],[1.0,\"#f0f921\"]],\"type\":\"histogram2dcontour\"}],\"histogram2d\":[{\"colorbar\":{\"outlinewidth\":0,\"ticks\":\"\"},\"colorscale\":[[0.0,\"#0d0887\"],[0.1111111111111111,\"#46039f\"],[0.2222222222222222,\"#7201a8\"],[0.3333333333333333,\"#9c179e\"],[0.4444444444444444,\"#bd3786\"],[0.5555555555555556,\"#d8576b\"],[0.6666666666666666,\"#ed7953\"],[0.7777777777777778,\"#fb9f3a\"],[0.8888888888888888,\"#fdca26\"],[1.0,\"#f0f921\"]],\"type\":\"histogram2d\"}],\"histogram\":[{\"marker\":{\"pattern\":{\"fillmode\":\"overlay\",\"size\":10,\"solidity\":0.2}},\"type\":\"histogram\"}],\"mesh3d\":[{\"colorbar\":{\"outlinewidth\":0,\"ticks\":\"\"},\"type\":\"mesh3d\"}],\"parcoords\":[{\"line\":{\"colorbar\":{\"outlinewidth\":0,\"ticks\":\"\"}},\"type\":\"parcoords\"}],\"pie\":[{\"automargin\":true,\"type\":\"pie\"}],\"scatter3d\":[{\"line\":{\"colorbar\":{\"outlinewidth\":0,\"ticks\":\"\"}},\"marker\":{\"colorbar\":{\"outlinewidth\":0,\"ticks\":\"\"}},\"type\":\"scatter3d\"}],\"scattercarpet\":[{\"marker\":{\"colorbar\":{\"outlinewidth\":0,\"ticks\":\"\"}},\"type\":\"scattercarpet\"}],\"scattergeo\":[{\"marker\":{\"colorbar\":{\"outlinewidth\":0,\"ticks\":\"\"}},\"type\":\"scattergeo\"}],\"scattergl\":[{\"marker\":{\"colorbar\":{\"outlinewidth\":0,\"ticks\":\"\"}},\"type\":\"scattergl\"}],\"scattermapbox\":[{\"marker\":{\"colorbar\":{\"outlinewidth\":0,\"ticks\":\"\"}},\"type\":\"scattermapbox\"}],\"scatterpolargl\":[{\"marker\":{\"colorbar\":{\"outlinewidth\":0,\"ticks\":\"\"}},\"type\":\"scatterpolargl\"}],\"scatterpolar\":[{\"marker\":{\"colorbar\":{\"outlinewidth\":0,\"ticks\":\"\"}},\"type\":\"scatterpolar\"}],\"scatter\":[{\"fillpattern\":{\"fillmode\":\"overlay\",\"size\":10,\"solidity\":0.2},\"type\":\"scatter\"}],\"scatterternary\":[{\"marker\":{\"colorbar\":{\"outlinewidth\":0,\"ticks\":\"\"}},\"type\":\"scatterternary\"}],\"surface\":[{\"colorbar\":{\"outlinewidth\":0,\"ticks\":\"\"},\"colorscale\":[[0.0,\"#0d0887\"],[0.1111111111111111,\"#46039f\"],[0.2222222222222222,\"#7201a8\"],[0.3333333333333333,\"#9c179e\"],[0.4444444444444444,\"#bd3786\"],[0.5555555555555556,\"#d8576b\"],[0.6666666666666666,\"#ed7953\"],[0.7777777777777778,\"#fb9f3a\"],[0.8888888888888888,\"#fdca26\"],[1.0,\"#f0f921\"]],\"type\":\"surface\"}],\"table\":[{\"cells\":{\"fill\":{\"color\":\"#EBF0F8\"},\"line\":{\"color\":\"white\"}},\"header\":{\"fill\":{\"color\":\"#C8D4E3\"},\"line\":{\"color\":\"white\"}},\"type\":\"table\"}]},\"layout\":{\"annotationdefaults\":{\"arrowcolor\":\"#2a3f5f\",\"arrowhead\":0,\"arrowwidth\":1},\"autotypenumbers\":\"strict\",\"coloraxis\":{\"colorbar\":{\"outlinewidth\":0,\"ticks\":\"\"}},\"colorscale\":{\"diverging\":[[0,\"#8e0152\"],[0.1,\"#c51b7d\"],[0.2,\"#de77ae\"],[0.3,\"#f1b6da\"],[0.4,\"#fde0ef\"],[0.5,\"#f7f7f7\"],[0.6,\"#e6f5d0\"],[0.7,\"#b8e186\"],[0.8,\"#7fbc41\"],[0.9,\"#4d9221\"],[1,\"#276419\"]],\"sequential\":[[0.0,\"#0d0887\"],[0.1111111111111111,\"#46039f\"],[0.2222222222222222,\"#7201a8\"],[0.3333333333333333,\"#9c179e\"],[0.4444444444444444,\"#bd3786\"],[0.5555555555555556,\"#d8576b\"],[0.6666666666666666,\"#ed7953\"],[0.7777777777777778,\"#fb9f3a\"],[0.8888888888888888,\"#fdca26\"],[1.0,\"#f0f921\"]],\"sequentialminus\":[[0.0,\"#0d0887\"],[0.1111111111111111,\"#46039f\"],[0.2222222222222222,\"#7201a8\"],[0.3333333333333333,\"#9c179e\"],[0.4444444444444444,\"#bd3786\"],[0.5555555555555556,\"#d8576b\"],[0.6666666666666666,\"#ed7953\"],[0.7777777777777778,\"#fb9f3a\"],[0.8888888888888888,\"#fdca26\"],[1.0,\"#f0f921\"]]},\"colorway\":[\"#636efa\",\"#EF553B\",\"#00cc96\",\"#ab63fa\",\"#FFA15A\",\"#19d3f3\",\"#FF6692\",\"#B6E880\",\"#FF97FF\",\"#FECB52\"],\"font\":{\"color\":\"#2a3f5f\"},\"geo\":{\"bgcolor\":\"white\",\"lakecolor\":\"white\",\"landcolor\":\"white\",\"showlakes\":true,\"showland\":true,\"subunitcolor\":\"#C8D4E3\"},\"hoverlabel\":{\"align\":\"left\"},\"hovermode\":\"closest\",\"mapbox\":{\"style\":\"light\"},\"paper_bgcolor\":\"white\",\"plot_bgcolor\":\"white\",\"polar\":{\"angularaxis\":{\"gridcolor\":\"#EBF0F8\",\"linecolor\":\"#EBF0F8\",\"ticks\":\"\"},\"bgcolor\":\"white\",\"radialaxis\":{\"gridcolor\":\"#EBF0F8\",\"linecolor\":\"#EBF0F8\",\"ticks\":\"\"}},\"scene\":{\"xaxis\":{\"backgroundcolor\":\"white\",\"gridcolor\":\"#DFE8F3\",\"gridwidth\":2,\"linecolor\":\"#EBF0F8\",\"showbackground\":true,\"ticks\":\"\",\"zerolinecolor\":\"#EBF0F8\"},\"yaxis\":{\"backgroundcolor\":\"white\",\"gridcolor\":\"#DFE8F3\",\"gridwidth\":2,\"linecolor\":\"#EBF0F8\",\"showbackground\":true,\"ticks\":\"\",\"zerolinecolor\":\"#EBF0F8\"},\"zaxis\":{\"backgroundcolor\":\"white\",\"gridcolor\":\"#DFE8F3\",\"gridwidth\":2,\"linecolor\":\"#EBF0F8\",\"showbackground\":true,\"ticks\":\"\",\"zerolinecolor\":\"#EBF0F8\"}},\"shapedefaults\":{\"line\":{\"color\":\"#2a3f5f\"}},\"ternary\":{\"aaxis\":{\"gridcolor\":\"#DFE8F3\",\"linecolor\":\"#A2B1C6\",\"ticks\":\"\"},\"baxis\":{\"gridcolor\":\"#DFE8F3\",\"linecolor\":\"#A2B1C6\",\"ticks\":\"\"},\"bgcolor\":\"white\",\"caxis\":{\"gridcolor\":\"#DFE8F3\",\"linecolor\":\"#A2B1C6\",\"ticks\":\"\"}},\"title\":{\"x\":0.05},\"xaxis\":{\"automargin\":true,\"gridcolor\":\"#EBF0F8\",\"linecolor\":\"#EBF0F8\",\"ticks\":\"\",\"title\":{\"standoff\":15},\"zerolinecolor\":\"#EBF0F8\",\"zerolinewidth\":2},\"yaxis\":{\"automargin\":true,\"gridcolor\":\"#EBF0F8\",\"linecolor\":\"#EBF0F8\",\"ticks\":\"\",\"title\":{\"standoff\":15},\"zerolinecolor\":\"#EBF0F8\",\"zerolinewidth\":2}}},\"title\":{\"text\":\"Feature Importances from Random Forest\"},\"xaxis\":{\"title\":{\"text\":\"Features\"}},\"yaxis\":{\"title\":{\"text\":\"Importance Score\"}},\"height\":600},                        {\"responsive\": true}                    ).then(function(){\n",
       "                            \n",
       "var gd = document.getElementById('63c2e519-c5c7-4209-ae28-ef22d356533b');\n",
       "var x = new MutationObserver(function (mutations, observer) {{\n",
       "        var display = window.getComputedStyle(gd).display;\n",
       "        if (!display || display === 'none') {{\n",
       "            console.log([gd, 'removed!']);\n",
       "            Plotly.purge(gd);\n",
       "            observer.disconnect();\n",
       "        }}\n",
       "}});\n",
       "\n",
       "// Listen for the removal of the full notebook cells\n",
       "var notebookContainer = gd.closest('#notebook-container');\n",
       "if (notebookContainer) {{\n",
       "    x.observe(notebookContainer, {childList: true});\n",
       "}}\n",
       "\n",
       "// Listen for the clearing of the current output cell\n",
       "var outputEl = gd.closest('.output');\n",
       "if (outputEl) {{\n",
       "    x.observe(outputEl, {childList: true});\n",
       "}}\n",
       "\n",
       "                        })                };                });            </script>        </div>"
      ]
     },
     "metadata": {},
     "output_type": "display_data"
    }
   ],
   "source": [
    "import plotly.graph_objects as go\n",
    "# Get feature names from the preprocessor\n",
    "feature_names = preprocessor.get_feature_names_out()\n",
    "\n",
    "importances = rf.feature_importances_\n",
    "\n",
    "# Get the feature importances from the Random Forest model\n",
    "# Create a dictionary mapping feature names to their importances\n",
    "feature_importance_dict = dict(zip(feature_names, importances))\n",
    "\n",
    "# Optional: Sort the dictionary by importance in descending order\n",
    "feature_importance_sorted = dict(sorted(feature_importance_dict.items(), key=lambda item: item[1], reverse=True))\n",
    "\n",
    "fig = go.Figure(data=[\n",
    "        go.Bar(\n",
    "            x=list(feature_importance_sorted.keys()),\n",
    "            y=list(feature_importance_sorted.values()),\n",
    "            marker=dict(color='skyblue'),\n",
    "            text=[f\"{v:.3f}\" for v in feature_importance_sorted.values()],\n",
    "            textposition='auto'\n",
    "        )\n",
    "    ])\n",
    "\n",
    "# Update layout for better aesthetics\n",
    "fig.update_layout(\n",
    "    title='Feature Importances from Random Forest',\n",
    "    xaxis_title='Features',\n",
    "    yaxis_title=\"Importance Score\",\n",
    "    template='plotly_white',\n",
    "    height=600\n",
    ")\n",
    "\n",
    "# Display the figure\n",
    "fig.show()"
   ]
  },
  {
   "cell_type": "code",
   "execution_count": null,
   "id": "907939ed-4e00-478d-b235-9d50407c1b7c",
   "metadata": {},
   "outputs": [],
   "source": [
    "#show decision tree\n",
    "import matplotlib.pyplot as plt\n",
    "\n",
    "plt.rcParams[\"figure.figsize\"] = (80,40)\n",
    "tree.plot_tree(rf,filled = True);\n",
    "#plt.savefig('./images/tree_example.png')"
   ]
  }
 ],
 "metadata": {
  "kernelspec": {
   "display_name": "Python 3 (ipykernel)",
   "language": "python",
   "name": "python3"
  },
  "language_info": {
   "codemirror_mode": {
    "name": "ipython",
    "version": 3
   },
   "file_extension": ".py",
   "mimetype": "text/x-python",
   "name": "python",
   "nbconvert_exporter": "python",
   "pygments_lexer": "ipython3",
   "version": "3.12.4"
  }
 },
 "nbformat": 4,
 "nbformat_minor": 5
}
