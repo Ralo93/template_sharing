import pandas as pd
import os
import numpy as np


os.chdir(r'C:\Users\Administrator\Desktop\raphi_other\repositories\template_project\src')


data = pd.read_csv(r'../data/raw/train.csv')


#from eda_first import reduce_mem_usage
#data = reduce_mem_usage(data)


print(os.getcwd())


data.columns


data.shape


data.head()


data.describe()


data.columns.isnull()


from eda_first import summarize_dataframe
summarize_dataframe(data)


#data.to_csv('../data/interim/train.csv', index=False)



