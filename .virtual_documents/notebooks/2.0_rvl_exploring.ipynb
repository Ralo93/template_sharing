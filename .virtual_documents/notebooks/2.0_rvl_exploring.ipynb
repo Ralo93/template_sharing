import pandas as pd
import os
import numpy as np


import plotly.express as px
import plotly.graph_objects as go
from plotly.subplots import make_subplots
import seaborn as sns


data = pd.read_csv(r'../data/interim/train.csv')


numerical_df = data.select_dtypes(exclude=['object'])
categorical_df = data.select_dtypes(include=['object'])
print(len(numerical_df.columns))


os.chdir(r'C:\Users\Administrator\Desktop\raphi_other\repositories\template_project\src')


print(os.getcwd())





#data= data.dropna(axis=1) #axis=0 is row, axis=1 is column
#data.shape
#or
#data= data.dropna(axis=0) #axis=0 is row, axis=1 is column
#data.shape


from plots import create_feature_subplots
# Example usage:
# Assuming 'data' is your DataFrame with numerical and categorical features
fig = create_feature_subplots(data)



#fig.write_image(r"../reports/figures/distributions.png")


from plots import get_corr

fig= get_corr(numerical_df)


fig.savefig(r"../reports/figures/num_correlation.png")


from plots import compute_mi_classification

x = data.loc[:, ['Gender', 'Age', 'Height', 'Weight', 'family_history_with_overweight', 'FAVC', 'FCVC', 'CAEC', 'SMOKE', 'CH2O', 'SCC', 'FAF', 'TUE', 'CALC', 'MTRANS']]
y = data.loc[:, 'NObeyesdad']

fig = compute_mi_classification(x, y)


#fig.write_image(r"../reports/figures/mutual_info.png")



