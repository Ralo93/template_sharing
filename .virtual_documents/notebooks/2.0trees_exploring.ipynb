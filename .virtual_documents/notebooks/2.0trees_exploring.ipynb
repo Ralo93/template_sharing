import pandas as pd
import os
import numpy as np


import plotly.express as px
import plotly.graph_objects as go
from plotly.subplots import make_subplots
import seaborn as sns
import matplotlib.pyplot as plt


import sys
sys.path.append('..')


data = pd.read_csv(r'../data/interim/house_data.csv')


numerical_df = data.select_dtypes(exclude=['object'])
categorical_df = data.select_dtypes(include=['object'])
print(len(numerical_df.columns))
print(len(categorical_df.columns))


#os.chdir(r'C:\Users\Administrator\Desktop\raphi_other\repositories\template_project\src')


print(os.getcwd())





#data= data.dropna(axis=1) #axis=0 is row, axis=1 is column
#data.shape
#or
#data= data.dropna(axis=0) #axis=0 is row, axis=1 is column
#data.shape


from src.plots import create_feature_subplots
from src.plots import create_scatter_plot
# Example usage:
# Assuming 'data' is your DataFrame with numerical and categorical features
fig = create_feature_subplots(data)
#print(data.price)







#small_fig = create_scatter_plot(data, data.price)
feature = 'price'
plt.figure(figsize=(10, 6))
    
# Create the histogram using Seaborn
sns.histplot(data[feature], kde=True, color='skyblue')

# Set the title and labels
plt.title(f"Distribution of {feature}", fontsize=16)
plt.xlabel(feature, fontsize=14)
plt.ylabel("Frequency", fontsize=14)

# Show the plot
plt.show()


#fig.write_image(r"../reports/figures/distributions.png")


from src.plots import get_corr

fig= get_corr(numerical_df)


#fig.savefig(r"../reports/figures/num_correlation.png")


from src.plots import compute_mi_regression

x = data.loc[:, ['bedrooms', 'bathrooms', 'parking_space', 'toilets', 'town', 'state']]#, 'FCVC', 'CAEC', 'SMOKE', 'CH2O', 'SCC', 'FAF', 'TUE', 'CALC', 'MTRANS']]
y = data.loc[:, 'price']

fig = compute_mi_regression(x, y)


#fig.write_image(r"../reports/figures/mutual_info.png")



