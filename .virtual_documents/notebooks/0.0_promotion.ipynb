import pandas as pd
import os
import numpy as np
import sys
sys.path.append('..')


data = pd.read_csv(r'../data/raw/data/promotion/train.csv', delimiter=',')


data.columns


data.shape


data.head()


data.describe()


from src.eda_first import summarize_dataframe
summarize_dataframe(data)


data = data.dropna()


summarize_dataframe(data)


data.columns.isnull()


data.EmployeeNo.value_counts()



data.drop_duplicates()


data.to_csv('../data/interim/promotion/train.csv', index=False)











pct = np.percentile(data.loc[:, 'search_views'].fillna(np.mean(data.loc[:, 'search_views'])), 95)
print(pct)
print(data.shape)
data = data.loc[data.loc[:, 'search_views'] < pct]
print(data.shape)


#convert created_date and deleted_date to datetime.
data[['created_date','deleted_date']] = data[['created_date','deleted_date']].apply(
    lambda _: pd.to_datetime(_))

#create the live_days column.
data['live_days'] = (data['deleted_date'] - data['created_date']).dt.days


#drop all cars with first_registration_year of more than 2022
data = data[data['first_registration_year'] <= 2024]

#drop all columns with negative live days. (since you cannot have a listing deleted before it is created)
data = data[data['live_days'] >= 0]

#drop all negative stock days
data = data[data['stock_days'] >= 0]

#drop all cars with price less than 100 euros
data = data[data.price > 100]


columns_to_drop = ['deleted_date', 'created_date', 'first_registration_year', 'article_id', 'ctr']
data = data.drop(columns=columns_to_drop)
