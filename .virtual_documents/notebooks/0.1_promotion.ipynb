import pandas as pd
import os
import numpy as np
import sys
sys.path.append('..')



data = pd.read_csv(r'../data/interim/promotion/train.csv', delimiter=',')


from src.plots import create_feature_subplots
from src.plots import create_scatter_plot
# Example usage:
# Assuming 'data' is your DataFrame with numerical and categorical features
fig = create_feature_subplots(data)
#print(data.price)



data.columns


#columns_to_drop = ['Past_Disciplinary_Action', 'EmployeeNo']
#data = data.drop(columns=columns_to_drop)


numerical_df = data.select_dtypes(exclude=['object'])
categorical_df = data.select_dtypes(include=['object'])
print(len(numerical_df.columns))
print(len(categorical_df.columns))


from src.plots import get_corr

fig= get_corr(numerical_df)


from src.plots import compute_mi_regression
from src.plots import compute_mi_classification

columns = list(data.columns)
print(columns)
columns.remove('Promoted_or_Not')
print(columns)

x = data.loc[:, columns]#['bedrooms', 'bathrooms', 'parking_space', 'toilets', 'town', 'state']]#, 'FCVC', 'CAEC', 'SMOKE', 'CH2O', 'SCC', 'FAF', 'TUE', 'CALC', 'MTRANS']]
y = data.loc[:, 'Promoted_or_Not']

fig = compute_mi_classification(x, y)


data.to_csv('../data/interim/promotion/train_clean.csv', index=False)





#small_fig = create_scatter_plot(data, data.price)
feature = 'stock_days'
plt.figure(figsize=(10, 6))
    
# Create the histogram using Seaborn
sns.histplot((data[feature]), kde=True, color='skyblue')

# Set the title and labels
plt.title(f"Distribution of {feature}", fontsize=16)
plt.xlabel(feature, fontsize=14)
plt.ylabel("Frequency", fontsize=14)

# Show the plot
plt.show()
