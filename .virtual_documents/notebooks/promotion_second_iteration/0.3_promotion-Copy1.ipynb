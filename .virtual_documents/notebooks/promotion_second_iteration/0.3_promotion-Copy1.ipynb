import pandas as pd
import os
import numpy as np
import sys
sys.path.append('..')


data = pd.read_csv(r'../../data/interim/promotion/train_clean2.csv')


test_data = pd.read_csv(r'../data/raw/promotion/test.csv')


data.columns


test_data.columns


test_data = test_data.drop(columns=['EmployeeNo', 'Past_Disciplinary_Action'])
x_test = test_data
#y = data.Promoted_or_Not


x = data.drop(columns=['Promoted_or_Not'])
y = data.Promoted_or_Not
y


numerical_df = data.select_dtypes(exclude=['object'])
categorical_df = data.select_dtypes(include=['object'])


# Select categorical columns with relatively low cardinality (convenient but arbitrary)
categorical_cols = [cname for cname in x.columns if x[cname].nunique() < 800 and x[cname].dtype == "object"]

# Select numerical columns
numerical_cols = [cname for cname in x.columns if x[cname].dtype in ['int64', 'float64']]


from sklearn.model_selection import train_test_split
from sklearn.compose import ColumnTransformer
from sklearn.pipeline import Pipeline
from sklearn.impute import SimpleImputer
from sklearn.preprocessing import OneHotEncoder,OrdinalEncoder,StandardScaler, MinMaxScaler

X_train, X_test, y_train, y_test = train_test_split(x, y, test_size=0.3, random_state=42, stratify=y)


from category_encoders import BaseNEncoder


from src.eda_first import summarize_dataframe
summarize_dataframe(data)


data.Promoted_or_Not.value_counts()


#create numerical transformer


numerical_transformer = Pipeline([('imputer', SimpleImputer(strategy='mean')), 
                                  ('scaler', StandardScaler()) ])

#create categorical transformer
categorical_transformer = Pipeline(steps=[ ('imputer', SimpleImputer(strategy='most_frequent')),
                                            ('onehot', OneHotEncoder(handle_unknown='ignore'))
                                            ])

base_encoder_columns = ['Division', 'Qualification', 'Channel_of_Recruitment', 'State_Of_Origin', 'Foreign_schooled', 'Marital_Status', 'Previous_IntraDepartmental_Movement', 'No_of_previous_employers', 'Gender']
base_encoder = Pipeline(steps=[
    ('base_encoder', BaseNEncoder(cols=base_encoder_columns, base=3))
])


# Combine the transformations using ColumnTransformer
preprocessor = ColumnTransformer(transformers=[
    ('base_name', base_encoder, base_encoder_columns),  # TargetEncoder for 'town'
    ('num', numerical_transformer, numerical_cols)
])





from sklearn.utils import resample

# Combine features and target into a single DataFrame for resampling
df_train = pd.concat([X_train, y_train], axis=1)

# Identify the majority and minority classes
majority_class = df_train[df_train['Promoted_or_Not'] == 0]
minority_class = df_train[df_train['Promoted_or_Not'] == 1]

# Upsample the minority class
minority_class_upsampled = resample(
    minority_class,
    replace=True,            # Sample with replacement
    n_samples=len(majority_class),  # Match majority class
    random_state=42          # For reproducibility
)

# Combine majority class with upsampled minority class
df_upsampled = pd.concat([majority_class, minority_class_upsampled])

# Shuffle the dataset
df_upsampled = df_upsampled.sample(frac=1, random_state=42).reset_index(drop=True)

# Separate features and target again
X_train_upsampled = df_upsampled.drop('Promoted_or_Not', axis=1)
y_train_upsampled = df_upsampled['Promoted_or_Not']



X_train_upsampled.describe()



#from src.plots import create_feature_subplots
#from src.plots import create_scatter_plot
# Example usage:
# Assuming 'data' is your DataFrame with numerical and categorical features
#fig = create_feature_subplots(y_train_upsampled)
#print(data.price)
y_train_upsampled.value_counts()


y_train.value_counts()
y_test.value_counts()





from imblearn.over_sampling import SMOTE

smote = SMOTE(random_state=42)


from imblearn.over_sampling import SMOTE
from collections import Counter

# Before applying SMOTE
print(f"Class distribution before SMOTE: {Counter(y_train)}")

# Define SMOTE
smote = SMOTE(random_state=42)

# Fit SMOTE on the training data
X_resampled, y_resampled = smote.fit_resample(X_train, y_train)

# After applying SMOTE
print(f"Class distribution after SMOTE: {Counter(y_resampled)}")





import numpy as np

# Example y array (your class labels)
y = y_train  # Replace with your actual labels

# Count occurrences of each class
count_class_0 = np.sum(y == 0)  # Majority class (negative class)
count_class_1 = np.sum(y == 1)  # Minority class 1

# Compute scale_pos_weight (sum of negative instances / sum of positive instances)
# This is typically used to weigh the positive classes against the majority class (class 0).
sum_positive_classes = count_class_1 
sum_negative_class = count_class_0

scale_pos_weight = sum_negative_class / sum_positive_classes if sum_positive_classes != 0 else 0

print(f"Scale pos weight: {scale_pos_weight}")



from sklearn.ensemble import RandomForestClassifier
from imblearn.pipeline import Pipeline as ImbPipeline  # Use imblearn's Pipeline
from imblearn.over_sampling import SMOTE
from sklearn.metrics import accuracy_score, classification_report
from xgboost import XGBClassifier
# XGBoost
xgb = XGBClassifier(
    n_estimators=339,
    learning_rate=0.2669112505018992,
    max_depth=5,
    random_state=42,
    reg_lambda=1.2259716591605452,
    subsample=0.704976942819638,
    colsample_bytree=0.9,
    min_child_weight=4,
    alpha= 0.14170716330946964,    # Added L1 regularization
    #reg_lambda=1,   # Added L2 regularization (can also be increased)
    eval_metric='aucpr'
)

rf_pipe = ImbPipeline(steps=[
    ('preprocessor', preprocessor),  # Step 1: Preprocessing
    ('smote', smote),  # Step 2: SMOTE for oversampling
    ('xgboost', xgb)  # Step 3: Model training
])

# Model pipeline
#rf_pipe = Pipeline(steps=[
#    ('preprocessor', preprocessor),
#    ('xgboost', xgb)
#])

# Preprocessing of training data, fit model 
#rf_pipe.fit(X_train, y_train)

# Preprocessing of training data, fit model after upsampling!
rf_pipe.fit(X_train_upsampled, y_train_upsampled)

# Preprocessing of validation data, get predictions
rf_preds = rf_pipe.predict(X_test)

# Evaluate the model
accuracy = accuracy_score(y_test, rf_preds)
print('Accuracy for XGBoost:', accuracy)

# Detailed classification report
print('Classification Report:\n', classification_report(y_test, rf_preds))





from sklearn.metrics import accuracy_score, classification_report
from catboost import CatBoostClassifier
from sklearn.pipeline import Pipeline

# CatBoost Classifier
catboost_model = CatBoostClassifier(
    iterations=500,  # Equivalent to n_estimators
    learning_rate=0.2669112505018992,
    depth=5,  # Equivalent to max_depth
    random_seed=42,
    subsample=0.704976942819638,
    colsample_bylevel=0.9,  # Equivalent to colsample_bytree in CatBoost
    min_data_in_leaf=4,  # Equivalent to min_child_weight
    l2_leaf_reg=0.14170716330946964,  # L1 regularization in CatBoost is specified via l2_leaf_reg
    eval_metric='AUC'  # 'AUC' is used for binary classification
    # Note: For multi-class classification, you might need to adjust eval_metric
)

# Model pipeline
catboost_pipe = Pipeline(steps=[
    ('preprocessor', preprocessor),
    ('catboost', catboost_model)
])

# Preprocessing of training data, fit model after upsampling
catboost_pipe.fit(X_train_upsampled, y_train_upsampled)

# Preprocessing of validation data, get predictions
catboost_preds = catboost_pipe.predict(X_test)

# Evaluate the model
accuracy = accuracy_score(y_test, catboost_preds)
print('Accuracy for CatBoost:', accuracy)

# Detailed classification report
print('Classification Report:\n', classification_report(y_test, catboost_preds))






%pip install lightgbm


from sklearn.metrics import accuracy_score, classification_report
from lightgbm import LGBMClassifier
from sklearn.pipeline import Pipeline

# LightGBM Classifier
lgbm_model = LGBMClassifier(
    n_estimators=800,
    learning_rate=0.2669112505018992,
    max_depth=5,
    random_state=42,
    reg_lambda=1.2259716591605452,  # L2 regularization
    subsample=0.704976942819638,
    colsample_bytree=0.9,
    min_child_weight=4,
    reg_alpha=0.14170716330946964,  # L1 regularization
    metric='auc',  # Use 'auc' for binary classification
    min_data_in_leaf=30  # Increase this to avoid overfitting and improve splitting
    # Note: For multi-class classification, use 'multi_logloss' or 'multi_error'
)

# Model pipeline
lgbm_pipe = Pipeline(steps=[
    ('preprocessor', preprocessor),
    ('lightgbm', lgbm_model)
])

# Preprocessing of training data, fit model after upsampling
lgbm_pipe.fit(X_train_upsampled, y_train_upsampled)

# Preprocessing of validation data, get predictions
lgbm_preds = lgbm_pipe.predict(X_test)

# Evaluate the model
accuracy = accuracy_score(y_test, lgbm_preds)
print('Accuracy for LightGBM:', accuracy)

# Detailed classification report
print('Classification Report:\n', classification_report(y_test, lgbm_preds))






rf_preds = rf_pipe.predict(X_train_upsampled)

# Evaluate the model
accuracy = accuracy_score(y_train_upsampled, rf_preds)
print('Accuracy for Random Forest Model:', accuracy)

# Detailed classification report
print('Classification Report:\n', classification_report(y_train_upsampled, rf_preds))






from sklearn.metrics import accuracy_score, classification_report
from sklearn.model_selection import cross_val_score

crv_scores_cb = cross_val_score(lgbm_pipe, x, y,
                                cv=5,
                                scoring='accuracy')

print("Accuracy from Cross Validation (LGBM):", crv_scores_cb)
print("Mean Accuracy:", crv_scores_cb.mean())
print("Standard Deviation:", crv_scores_cb.std())





rf_preds = rf_pipe.predict(test_data)

# Evaluate the model
accuracy = accuracy_score(y_train_upsampled, rf_preds)
print('Accuracy for Random Forest Model:', accuracy)

# Detailed classification report
print('Classification Report:\n', classification_report(y_train_upsampled, rf_preds))



import plotly.graph_objects as go
# Get feature names from the preprocessor
feature_names = preprocessor.get_feature_names_out()

importances = lgbm_model.feature_importances_

# Get the feature importances from the Random Forest model
# Create a dictionary mapping feature names to their importances
feature_importance_dict = dict(zip(feature_names, importances))

# Optional: Sort the dictionary by importance in descending order
feature_importance_sorted = dict(sorted(feature_importance_dict.items(), key=lambda item: item[1], reverse=True))

fig = go.Figure(data=[
        go.Bar(
            x=list(feature_importance_sorted.keys()),
            y=list(feature_importance_sorted.values()),
            marker=dict(color='skyblue'),
            text=[f"{v:.3f}" for v in feature_importance_sorted.values()],
            textposition='auto'
        )
    ])

# Update layout for better aesthetics
fig.update_layout(
    title='Feature Importances from Random Forest',
    xaxis_title='Features',
    yaxis_title="Importance Score",
    template='plotly_white',
    height=600
)

# Display the figure
fig.show()



