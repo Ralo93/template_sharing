import pandas as pd
import os
import numpy as np
import sys
sys.path.append('..')



data = pd.read_csv(r'../../data/interim/promotion/train_clean2.csv', delimiter=',')


import numpy as np
import plotly.graph_objects as go
from plotly.subplots import make_subplots
import plotly.express as px
import matplotlib.pyplot as plt
import pandas as pd
import seaborn as sns
from sklearn.feature_selection import SelectFromModel
from sklearn.feature_selection import SelectKBest
from sklearn.feature_selection import mutual_info_classif
from sklearn.preprocessing import LabelEncoder

def create_feature_subplots(df):
    # Separate numerical and categorical features
    numerical_df = df.select_dtypes(include=['number'])
    categorical_df = df.select_dtypes(include=['object', 'category'])
    
    # Calculate the total number of features
    total_features = len(numerical_df.columns) + len(categorical_df.columns)
    print(total_features)
    
    # Calculate the number of rows needed for the subplots (3 columns layout)
    num_rows = int(np.ceil(total_features / 3))
    
    # Create subplots
    fig = make_subplots(
        rows=num_rows, 
        cols=3, 
        subplot_titles=[f"Distribution of {col}" for col in numerical_df.columns] + [f"Distribution of {col}" for col in categorical_df.columns],
        shared_xaxes=False
    )
    
    # Color palette for plots
    colors = px.colors.qualitative.Plotly

    # Plot numerical features as histograms
    for i, col in enumerate(numerical_df.columns):
        # Calculate the correct row and column position
        row = (i // 3) + 1
        col_position = (i % 3) + 1
        
        # Add histogram trace without binning
        fig.add_trace(
            go.Histogram(
                x=numerical_df[col],
                name=col,
                marker=dict(color=colors[i % len(colors)], line=dict(width=1, color='black')),
                opacity=0.75,
                showlegend=True
            ),
            row=row,
            col=col_position
        )
        
    # Plot categorical features as bar plots
    start_index = len(numerical_df.columns)
    for j, col in enumerate(categorical_df.columns):
        # Calculate the correct row and column position
        row = ((start_index + j) // 3) + 1
        col_position = ((start_index + j) % 3) + 1
        
        # Calculate value counts for the categorical feature
        value_counts = categorical_df[col].value_counts()
        
        # Add bar trace
        fig.add_trace(
            go.Bar(
                x=value_counts.index,
                y=value_counts.values,
                name=col,
                marker=dict(color=colors[(start_index + j) % len(colors)], line=dict(width=1, color='black')),
                opacity=0.75,
                showlegend=True
            ),
            row=row,
            col=col_position
        )
    
    # Update layout for a better look
    fig.update_layout(
        height=300 * num_rows,
        width=1200,
        title_text="Distributions of Features",
        title_x=0.5,  # Center the title
        template='plotly_white'  # Use a clean template
    )
    
    # Update x-axis and y-axis titles
    fig.update_xaxes(title_text="Value", showgrid=True)
    fig.update_yaxes(title_text="Count", showgrid=True)

    fig.show()
    # Show the figure
    return fig


#from src.plots import create_feature_subplots
#from src.plots import create_scatter_plot
# Example usage:
# Assuming 'data' is your DataFrame with numerical and categorical features
fig = create_feature_subplots(data)
#print(data.price)



data.columns


columns_to_drop = ['Past_Disciplinary_Action']
data = data.drop(columns=columns_to_drop)


data['employee_age'] = np.log(data['employee_age'])











numerical_df = data.select_dtypes(exclude=['object'])
categorical_df = data.select_dtypes(include=['object'])
print(len(numerical_df.columns))
print(len(categorical_df.columns))


from src.plots import get_corr

fig= get_corr(numerical_df)


from src.plots import compute_mi_regression
from src.plots import compute_mi_classification

columns = list(data.columns)
print(columns)
columns.remove('Promoted_or_Not')
print(columns)

x = data.loc[:, columns]#['bedrooms', 'bathrooms', 'parking_space', 'toilets', 'town', 'state']]#, 'FCVC', 'CAEC', 'SMOKE', 'CH2O', 'SCC', 'FAF', 'TUE', 'CALC', 'MTRANS']]
y = data.loc[:, 'Promoted_or_Not']

fig = compute_mi_classification(x, y)


data.to_csv('../../data/interim/promotion/train_clean2.csv', index=False)





#small_fig = create_scatter_plot(data, data.price)
feature = 'stock_days'
plt.figure(figsize=(10, 6))
    
# Create the histogram using Seaborn
sns.histplot((data[feature]), kde=True, color='skyblue')

# Set the title and labels
plt.title(f"Distribution of {feature}", fontsize=16)
plt.xlabel(feature, fontsize=14)
plt.ylabel("Frequency", fontsize=14)

# Show the plot
plt.show()
