import pandas as pd
import os
import numpy as np
import sys
sys.path.append('..')


#os.chdir(r'C:\Users\Administrator\Desktop\raphi_other\repositories\template_project\src')


data = pd.read_csv(r'../data/raw/data/houses_data.csv')


#from eda_first import reduce_mem_usage
#data = reduce_mem_usage(data)


data.columns


data.shape


data.head()


pd.set_option('display.float_format', '{:.4f}'.format)


data.describe()


pct = np.percentile(data.loc[:, 'price'].fillna(np.mean(data.loc[:, 'price'])), 95)
print(pct)
print(data.shape)
data = data.loc[data.loc[:, 'price'] < pct]
print(data.shape)


data.columns.isnull()


from src.eda_first import summarize_dataframe
summarize_dataframe(data)


data.to_csv('../data/interim/house_data.csv', index=False)



