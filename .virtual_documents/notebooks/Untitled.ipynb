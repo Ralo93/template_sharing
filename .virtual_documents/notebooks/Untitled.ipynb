import pandas as pd
import os
import numpy as np


data = pd.read_csv(r'../data/interim/train.csv')


numerical_df = data.select_dtypes(exclude=['object'])
categorical_df = data.select_dtypes(include=['object'])


columns_to_drop = ['SCC', 'SMOKE', 'FAVC', 'MTRANS']

data_dropped= data.drop(columns=columns_to_drop)


data_dropped.head()


x = data_dropped.loc[:, :-1]
y = data_dropped.loc[:, 'NObeyesdad']



